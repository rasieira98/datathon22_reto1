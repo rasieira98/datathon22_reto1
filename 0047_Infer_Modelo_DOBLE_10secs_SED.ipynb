{
 "cells": [
  {
   "cell_type": "markdown",
   "id": "a3af904d",
   "metadata": {},
   "source": [
    "# Import Packages"
   ]
  },
  {
   "cell_type": "code",
   "execution_count": 1,
   "id": "47e3aef9",
   "metadata": {
    "ExecuteTime": {
     "end_time": "2022-10-23T22:18:00.314988Z",
     "start_time": "2022-10-23T22:17:57.926117Z"
    }
   },
   "outputs": [
    {
     "name": "stderr",
     "output_type": "stream",
     "text": [
      "/grupob/config/miniconda3/envs/marine22/lib/python3.10/site-packages/nnAudio/Spectrogram.py:4: Warning: importing Spectrogram subpackage will be deprecated soon. You should import the feature extractor from the feature subpackage. See actual documentation.\n",
      "  warnings.warn(\n"
     ]
    },
    {
     "data": {
      "text/plain": [
       "('1.12.1', '1.21.5', '1.4.4')"
      ]
     },
     "execution_count": 1,
     "metadata": {},
     "output_type": "execute_result"
    }
   ],
   "source": [
    "import os, glob, random, time, sys, pickle, gc\n",
    "from scipy.stats import wilcoxon\n",
    "import numpy as np, pandas as pd\n",
    "import matplotlib.pyplot as plt\n",
    "import seaborn as sns\n",
    "import librosa, librosa.display\n",
    "import soundfile as sf\n",
    "from scipy.optimize import minimize\n",
    "import ast\n",
    "\n",
    "from scipy import signal\n",
    "from nnAudio.Spectrogram import CQT1992v2\n",
    "\n",
    "import colorednoise as cn\n",
    "import cv2\n",
    "import audioread\n",
    "import logging\n",
    "from contextlib import contextmanager\n",
    "from joblib import Parallel, delayed\n",
    "from pathlib import Path\n",
    "from typing import Optional\n",
    "import IPython\n",
    "\n",
    "import torch\n",
    "import torch.nn as nn\n",
    "import torch.nn.functional as F\n",
    "from torch.utils.data import Dataset, DataLoader, RandomSampler, WeightedRandomSampler\n",
    "import torch.utils.data as torchdata\n",
    "# import torch.optim as optim\n",
    "import torch_optimizer as optim\n",
    "from torchvision import transforms, models, datasets\n",
    "# from torchlibrosa.stft import Spectrogram, LogmelFilterBank\n",
    "# from torchlibrosa.augmentation import SpecAugmentation\n",
    "from torchaudio.transforms import AmplitudeToDB\n",
    "from transformers import get_linear_schedule_with_warmup\n",
    "import transformers\n",
    "from torch.cuda.amp import autocast, GradScaler\n",
    "\n",
    "from albumentations.core.transforms_interface import ImageOnlyTransform\n",
    "from torchlibrosa.stft import LogmelFilterBank, Spectrogram\n",
    "from torchlibrosa.augmentation import SpecAugmentation\n",
    "import pywt\n",
    "\n",
    "from tqdm import tqdm\n",
    "# from tqdm.notebook import tqdm\n",
    "from functools import partial\n",
    "from sklearn import metrics\n",
    "from sklearn.model_selection import StratifiedKFold, GroupKFold, train_test_split\n",
    "from sklearn.metrics import multilabel_confusion_matrix, roc_auc_score, accuracy_score, f1_score, precision_score, recall_score, ConfusionMatrixDisplay, confusion_matrix, mean_squared_error, precision_recall_fscore_support\n",
    "from skimage.transform import resize\n",
    "\n",
    "import albumentations as A\n",
    "import albumentations.pytorch.transforms as T\n",
    "from IPython.display import clear_output\n",
    "\n",
    "from PIL import Image, ImageOps\n",
    "import timm\n",
    "from timm.models.efficientnet import tf_efficientnet_b0_ns, tf_efficientnet_b1_ns, tf_efficientnet_b2_ns, tf_efficientnet_b3_ns, tf_efficientnet_b4_ns\n",
    "from timm.models.efficientnet import tf_efficientnet_b0_ns, tf_efficientnet_b1_ns, tf_efficientnet_b2_ns, tf_efficientnet_b3_ns, tf_efficientnet_b4_ns\n",
    "from timm.models.mobilenetv3 import mobilenetv3_small_075, mobilenetv3_small_100, mobilenetv3_large_075, mobilenetv3_large_100\n",
    "from timm.models.resnest import resnest50d, resnest101e, resnest200e\n",
    "\n",
    "import warnings\n",
    "# import warnings\n",
    "# warnings.filterwarnings('ignore')\n",
    "\n",
    "pd.set_option('display.max_rows', 1000)\n",
    "pd.set_option('display.max_columns', 1000)\n",
    "pd.set_option('display.width', 1000)\n",
    "\n",
    "os.environ['CUDA_VISIBLE_DEVICES'] = '2'\n",
    "torch.__version__, np.__version__, pd.__version__"
   ]
  },
  {
   "cell_type": "markdown",
   "id": "5424102a",
   "metadata": {},
   "source": [
    "# Utils"
   ]
  },
  {
   "cell_type": "code",
   "execution_count": 2,
   "id": "1151b185",
   "metadata": {
    "ExecuteTime": {
     "end_time": "2022-10-23T22:18:00.319860Z",
     "start_time": "2022-10-23T22:18:00.316086Z"
    }
   },
   "outputs": [],
   "source": [
    "def seed_everything(seed):\n",
    "    random.seed(seed)\n",
    "    os.environ['PYTHONHASHSEED'] = str(seed)\n",
    "    np.random.seed(seed)\n",
    "    torch.manual_seed(seed)\n",
    "    torch.cuda.manual_seed(seed)\n",
    "    torch.cuda.manual_seed_all(seed)\n",
    "    torch.backends.cudnn.deterministic = True\n",
    "    torch.backends.cudnn.benchmark = False\n",
    "    \n",
    "def mean_auc(y_true, y_pred):\n",
    "    auc_mean = []\n",
    "    for ncol in range(y_true.shape[1]):\n",
    "        if np.sum(y_true[:,ncol])>0:\n",
    "            auc_mean.append(roc_auc_score(y_true[:,ncol], y_pred[:, ncol]))\n",
    "    return np.mean(auc_mean)\n",
    "\n",
    "def one_hot_df(df):\n",
    "    targets_one = np.zeros((df.shape[0],len(CFG.target_columns)))\n",
    "#     for nrow, labels in enumerate(df.new_target):\n",
    "    for nrow, ebird_code in enumerate(df.primary_label):\n",
    "        targets_one[nrow, CFG.target_columns.index(ebird_code)] = 1.0  \n",
    "    for nrow, labels in enumerate(df.secondary_other):\n",
    "        for ebird_code in labels.split():\n",
    "            targets_one[nrow,CFG.target_columns.index(ebird_code)] = 1.0\n",
    "        \n",
    "    return targets_one   "
   ]
  },
  {
   "cell_type": "code",
   "execution_count": 3,
   "id": "ba73fe15",
   "metadata": {
    "ExecuteTime": {
     "end_time": "2022-10-23T22:18:00.403058Z",
     "start_time": "2022-10-23T22:18:00.321114Z"
    }
   },
   "outputs": [],
   "source": [
    "# Use from jupyter notebook notebook\n",
    "from notebook import notebookapp\n",
    "import urllib\n",
    "import json\n",
    "import ipykernel\n",
    "from pathlib import Path\n",
    "\n",
    "def notebook_path():\n",
    "    \"\"\"Returns the absolute path of the Notebook or None if it cannot be determined\n",
    "    NOTE: works only when the security is token-based or there is also no password\n",
    "    \"\"\"\n",
    "    connection_file = os.path.basename(ipykernel.get_connection_file())\n",
    "    kernel_id = connection_file.split('-', 1)[1].split('.')[0]\n",
    "\n",
    "    for srv in notebookapp.list_running_servers():\n",
    "        try:\n",
    "            if srv['token']=='' and not srv['password']:  # No token and no password, ahem...\n",
    "                req = urllib.request.urlopen(srv['url']+'api/sessions')\n",
    "            else:\n",
    "                req = urllib.request.urlopen(srv['url']+'api/sessions?token='+srv['token'])\n",
    "            sessions = json.load(req)\n",
    "            for sess in sessions:\n",
    "                if sess['kernel']['id'] == kernel_id:\n",
    "                    return os.path.join(srv['notebook_dir'],sess['notebook']['path'])\n",
    "        except:\n",
    "            pass  # There may be stale entries in the runtime directory \n",
    "    return None\n",
    "\n",
    "def create_output_dir(display = True, create=True, dirbase = '../results'):\n",
    "    base_dir = Path(dirbase)\n",
    "    if not os.path.exists(base_dir) and create:\n",
    "        os.mkdir(base_dir)\n",
    "    currentNotebook = notebook_path().split('/')\n",
    "    currentNotebook = currentNotebook[-1]\n",
    "    dir_models = currentNotebook[:-6]\n",
    "    dir_models = dir_models.replace('.','_')\n",
    "    output_dir = base_dir / Path(dir_models) #settings[\"globals\"][\"output_dir\"])\n",
    "\n",
    "    if not os.path.exists(output_dir) and create:\n",
    "        os.mkdir(output_dir)\n",
    "        if display:\n",
    "            print(\"Directory \" , output_dir ,  \" Created \")\n",
    "    elif display:\n",
    "        print(\"Directory \" , output_dir ,  \" already exists\")\n",
    "    return output_dir"
   ]
  },
  {
   "cell_type": "code",
   "execution_count": 4,
   "id": "ec0def7b",
   "metadata": {
    "ExecuteTime": {
     "end_time": "2022-10-23T22:18:00.410402Z",
     "start_time": "2022-10-23T22:18:00.404224Z"
    }
   },
   "outputs": [],
   "source": [
    "import math\n",
    "from torch.optim.lr_scheduler import _LRScheduler\n",
    "class CosineAnnealingWarmUpRestarts(_LRScheduler):\n",
    "    def __init__(self, optimizer, T_0, T_mult=1, eta_max=0.1, T_up=0, gamma=1., last_epoch=-1):\n",
    "        if T_0 <= 0 or not isinstance(T_0, int):\n",
    "            raise ValueError(\"Expected positive integer T_0, but got {}\".format(T_0))\n",
    "        if T_mult < 1 or not isinstance(T_mult, int):\n",
    "            raise ValueError(\"Expected integer T_mult >= 1, but got {}\".format(T_mult))\n",
    "        if T_up < 0 or not isinstance(T_up, int):\n",
    "            raise ValueError(\"Expected positive integer T_up, but got {}\".format(T_up))\n",
    "        self.T_0 = T_0\n",
    "        self.T_mult = T_mult\n",
    "        self.base_eta_max = eta_max\n",
    "        self.eta_max = eta_max\n",
    "        self.T_up = T_up\n",
    "        self.T_i = T_0\n",
    "        self.gamma = gamma\n",
    "        self.cycle = 0\n",
    "        self.T_cur = last_epoch\n",
    "        super(CosineAnnealingWarmUpRestarts, self).__init__(optimizer, last_epoch)\n",
    "\n",
    "    \n",
    "    def get_lr(self):\n",
    "        if self.T_cur == -1:\n",
    "            return self.base_lrs\n",
    "        elif self.T_cur < self.T_up:\n",
    "            return [(self.eta_max - base_lr)*self.T_cur / self.T_up + base_lr for base_lr in self.base_lrs]\n",
    "        else:\n",
    "            return [base_lr + (self.eta_max - base_lr) * (1 + math.cos(math.pi * (self.T_cur-self.T_up) / (self.T_i - self.T_up))) / 2\n",
    "                    for base_lr in self.base_lrs]\n",
    "\n",
    "    def step(self, epoch=None):\n",
    "        if epoch is None:\n",
    "            epoch = self.last_epoch + 1\n",
    "            self.T_cur = self.T_cur + 1\n",
    "            if self.T_cur >= self.T_i:\n",
    "                self.cycle += 1\n",
    "                self.T_cur = self.T_cur - self.T_i\n",
    "                self.T_i = (self.T_i - self.T_up) * self.T_mult + self.T_up\n",
    "        else:\n",
    "            if epoch >= self.T_0:\n",
    "                if self.T_mult == 1:\n",
    "                    self.T_cur = epoch % self.T_0\n",
    "                    self.cycle = epoch // self.T_0\n",
    "                else:\n",
    "                    n = int(math.log((epoch / self.T_0 * (self.T_mult - 1) + 1), self.T_mult))\n",
    "                    self.cycle = n\n",
    "                    self.T_cur = epoch - self.T_0 * (self.T_mult ** n - 1) / (self.T_mult - 1)\n",
    "                    self.T_i = self.T_0 * self.T_mult ** (n)\n",
    "            else:\n",
    "                self.T_i = self.T_0\n",
    "                self.T_cur = epoch\n",
    "                \n",
    "        self.eta_max = self.base_eta_max * (self.gamma**self.cycle)\n",
    "        self.last_epoch = math.floor(epoch)\n",
    "        for param_group, lr in zip(self.optimizer.param_groups, self.get_lr()):\n",
    "            param_group['lr'] = lr"
   ]
  },
  {
   "cell_type": "markdown",
   "id": "c3b436d9",
   "metadata": {},
   "source": [
    "# Config"
   ]
  },
  {
   "cell_type": "code",
   "execution_count": 5,
   "id": "e34a5b01",
   "metadata": {
    "ExecuteTime": {
     "end_time": "2022-10-23T22:18:00.420090Z",
     "start_time": "2022-10-23T22:18:00.411305Z"
    },
    "scrolled": true
   },
   "outputs": [
    {
     "data": {
      "text/plain": [
       "['efficientformer_l1',\n",
       " 'efficientformer_l3',\n",
       " 'efficientformer_l7',\n",
       " 'efficientnet_b0',\n",
       " 'efficientnet_b1',\n",
       " 'efficientnet_b1_pruned',\n",
       " 'efficientnet_b2',\n",
       " 'efficientnet_b2_pruned',\n",
       " 'efficientnet_b3',\n",
       " 'efficientnet_b3_pruned',\n",
       " 'efficientnet_b4',\n",
       " 'efficientnet_el',\n",
       " 'efficientnet_el_pruned',\n",
       " 'efficientnet_em',\n",
       " 'efficientnet_es',\n",
       " 'efficientnet_es_pruned',\n",
       " 'efficientnet_lite0',\n",
       " 'efficientnetv2_rw_m',\n",
       " 'efficientnetv2_rw_s',\n",
       " 'efficientnetv2_rw_t',\n",
       " 'gc_efficientnetv2_rw_t',\n",
       " 'tf_efficientnet_b0',\n",
       " 'tf_efficientnet_b0_ap',\n",
       " 'tf_efficientnet_b0_ns',\n",
       " 'tf_efficientnet_b1',\n",
       " 'tf_efficientnet_b1_ap',\n",
       " 'tf_efficientnet_b1_ns',\n",
       " 'tf_efficientnet_b2',\n",
       " 'tf_efficientnet_b2_ap',\n",
       " 'tf_efficientnet_b2_ns',\n",
       " 'tf_efficientnet_b3',\n",
       " 'tf_efficientnet_b3_ap',\n",
       " 'tf_efficientnet_b3_ns',\n",
       " 'tf_efficientnet_b4',\n",
       " 'tf_efficientnet_b4_ap',\n",
       " 'tf_efficientnet_b4_ns',\n",
       " 'tf_efficientnet_b5',\n",
       " 'tf_efficientnet_b5_ap',\n",
       " 'tf_efficientnet_b5_ns',\n",
       " 'tf_efficientnet_b6',\n",
       " 'tf_efficientnet_b6_ap',\n",
       " 'tf_efficientnet_b6_ns',\n",
       " 'tf_efficientnet_b7',\n",
       " 'tf_efficientnet_b7_ap',\n",
       " 'tf_efficientnet_b7_ns',\n",
       " 'tf_efficientnet_b8',\n",
       " 'tf_efficientnet_b8_ap',\n",
       " 'tf_efficientnet_cc_b0_4e',\n",
       " 'tf_efficientnet_cc_b0_8e',\n",
       " 'tf_efficientnet_cc_b1_8e',\n",
       " 'tf_efficientnet_el',\n",
       " 'tf_efficientnet_em',\n",
       " 'tf_efficientnet_es',\n",
       " 'tf_efficientnet_l2_ns',\n",
       " 'tf_efficientnet_l2_ns_475',\n",
       " 'tf_efficientnet_lite0',\n",
       " 'tf_efficientnet_lite1',\n",
       " 'tf_efficientnet_lite2',\n",
       " 'tf_efficientnet_lite3',\n",
       " 'tf_efficientnet_lite4',\n",
       " 'tf_efficientnetv2_b0',\n",
       " 'tf_efficientnetv2_b1',\n",
       " 'tf_efficientnetv2_b2',\n",
       " 'tf_efficientnetv2_b3',\n",
       " 'tf_efficientnetv2_l',\n",
       " 'tf_efficientnetv2_l_in21ft1k',\n",
       " 'tf_efficientnetv2_l_in21k',\n",
       " 'tf_efficientnetv2_m',\n",
       " 'tf_efficientnetv2_m_in21ft1k',\n",
       " 'tf_efficientnetv2_m_in21k',\n",
       " 'tf_efficientnetv2_s',\n",
       " 'tf_efficientnetv2_s_in21ft1k',\n",
       " 'tf_efficientnetv2_s_in21k',\n",
       " 'tf_efficientnetv2_xl_in21ft1k',\n",
       " 'tf_efficientnetv2_xl_in21k']"
      ]
     },
     "execution_count": 5,
     "metadata": {},
     "output_type": "execute_result"
    }
   ],
   "source": [
    "[i for i in timm.list_models(pretrained=True) if 'efficient' in i]"
   ]
  },
  {
   "cell_type": "code",
   "execution_count": 6,
   "id": "84b2a68c",
   "metadata": {
    "ExecuteTime": {
     "end_time": "2022-10-23T22:18:00.454514Z",
     "start_time": "2022-10-23T22:18:00.421236Z"
    }
   },
   "outputs": [
    {
     "data": {
      "text/plain": [
       "'cuda'"
      ]
     },
     "execution_count": 6,
     "metadata": {},
     "output_type": "execute_result"
    }
   ],
   "source": [
    "arquitectura = 'tf_efficientnet_b3_ns'\n",
    "num_clases = 4\n",
    "tramo_length = 2\n",
    "  \n",
    "device = ('cuda' if torch.cuda.is_available() else 'cpu')\n",
    "SPECAUGMENT = False\n",
    "NUM_FOLDS = 10\n",
    "SEED = 1234\n",
    "ENTRENA = False\n",
    "USA_FP16 = False\n",
    "device"
   ]
  },
  {
   "cell_type": "markdown",
   "id": "9b983f33",
   "metadata": {},
   "source": [
    "# Create DataSet"
   ]
  },
  {
   "cell_type": "code",
   "execution_count": 7,
   "id": "c3770563",
   "metadata": {
    "ExecuteTime": {
     "end_time": "2022-10-23T22:18:15.380984Z",
     "start_time": "2022-10-23T22:18:00.455743Z"
    }
   },
   "outputs": [
    {
     "name": "stdout",
     "output_type": "stream",
     "text": [
      "(5459, 5)\n",
      "(5423, 5)\n"
     ]
    },
    {
     "name": "stderr",
     "output_type": "stream",
     "text": [
      "100%|██████████| 452/452 [00:10<00:00, 41.43it/s]\n",
      "100%|██████████| 452/452 [00:03<00:00, 137.14it/s]\n"
     ]
    },
    {
     "data": {
      "text/html": [
       "<div>\n",
       "<style scoped>\n",
       "    .dataframe tbody tr th:only-of-type {\n",
       "        vertical-align: middle;\n",
       "    }\n",
       "\n",
       "    .dataframe tbody tr th {\n",
       "        vertical-align: top;\n",
       "    }\n",
       "\n",
       "    .dataframe thead th {\n",
       "        text-align: right;\n",
       "    }\n",
       "</style>\n",
       "<table border=\"1\" class=\"dataframe\">\n",
       "  <thead>\n",
       "    <tr style=\"text-align: right;\">\n",
       "      <th></th>\n",
       "      <th>path</th>\n",
       "      <th>start</th>\n",
       "      <th>duration</th>\n",
       "      <th>end</th>\n",
       "      <th>label</th>\n",
       "      <th>len_audio</th>\n",
       "      <th>sr_audio</th>\n",
       "      <th>seconds_audio</th>\n",
       "      <th>dir</th>\n",
       "      <th>clase</th>\n",
       "      <th>pos_ini</th>\n",
       "      <th>pos_fin</th>\n",
       "      <th>clase_num</th>\n",
       "    </tr>\n",
       "  </thead>\n",
       "  <tbody>\n",
       "    <tr>\n",
       "      <th>0</th>\n",
       "      <td>012213d40662f86e8f775379bbf94dec</td>\n",
       "      <td>61.186</td>\n",
       "      <td>2.500</td>\n",
       "      <td>63.686</td>\n",
       "      <td>whistle</td>\n",
       "      <td>14700000</td>\n",
       "      <td>50000</td>\n",
       "      <td>294.0</td>\n",
       "      <td>../input/datathon2022/dataset1/012213d40662f86...</td>\n",
       "      <td>whistle</td>\n",
       "      <td>3059300.0</td>\n",
       "      <td>3184300.0</td>\n",
       "      <td>0</td>\n",
       "    </tr>\n",
       "    <tr>\n",
       "      <th>1</th>\n",
       "      <td>0159af9f3ca04ada46f0c353ac210bb8</td>\n",
       "      <td>76.260</td>\n",
       "      <td>17.000</td>\n",
       "      <td>93.260</td>\n",
       "      <td>cetaceans_allfreq</td>\n",
       "      <td>14700000</td>\n",
       "      <td>50000</td>\n",
       "      <td>294.0</td>\n",
       "      <td>../input/datathon2022/dataset1/0159af9f3ca04ad...</td>\n",
       "      <td>cetaceans_allfreq</td>\n",
       "      <td>3813000.0</td>\n",
       "      <td>4663000.0</td>\n",
       "      <td>2</td>\n",
       "    </tr>\n",
       "    <tr>\n",
       "      <th>2</th>\n",
       "      <td>0159af9f3ca04ada46f0c353ac210bb8</td>\n",
       "      <td>161.482</td>\n",
       "      <td>1.000</td>\n",
       "      <td>162.482</td>\n",
       "      <td>click</td>\n",
       "      <td>14700000</td>\n",
       "      <td>50000</td>\n",
       "      <td>294.0</td>\n",
       "      <td>../input/datathon2022/dataset1/0159af9f3ca04ad...</td>\n",
       "      <td>click</td>\n",
       "      <td>8074100.0</td>\n",
       "      <td>8124100.0</td>\n",
       "      <td>1</td>\n",
       "    </tr>\n",
       "    <tr>\n",
       "      <th>3</th>\n",
       "      <td>0271a0818427d7fae7afde67bf49ba30</td>\n",
       "      <td>91.563</td>\n",
       "      <td>1.000</td>\n",
       "      <td>92.563</td>\n",
       "      <td>click</td>\n",
       "      <td>14700000</td>\n",
       "      <td>50000</td>\n",
       "      <td>294.0</td>\n",
       "      <td>../input/datathon2022/dataset1/0271a0818427d7f...</td>\n",
       "      <td>click</td>\n",
       "      <td>4578150.0</td>\n",
       "      <td>4628150.0</td>\n",
       "      <td>1</td>\n",
       "    </tr>\n",
       "    <tr>\n",
       "      <th>4</th>\n",
       "      <td>0271a0818427d7fae7afde67bf49ba30</td>\n",
       "      <td>125.627</td>\n",
       "      <td>1.316</td>\n",
       "      <td>126.943</td>\n",
       "      <td>click</td>\n",
       "      <td>14700000</td>\n",
       "      <td>50000</td>\n",
       "      <td>294.0</td>\n",
       "      <td>../input/datathon2022/dataset1/0271a0818427d7f...</td>\n",
       "      <td>click</td>\n",
       "      <td>6281350.0</td>\n",
       "      <td>6347150.0</td>\n",
       "      <td>1</td>\n",
       "    </tr>\n",
       "  </tbody>\n",
       "</table>\n",
       "</div>"
      ],
      "text/plain": [
       "                               path    start  duration      end              label  len_audio  sr_audio  seconds_audio                                                dir              clase    pos_ini    pos_fin  clase_num\n",
       "0  012213d40662f86e8f775379bbf94dec   61.186     2.500   63.686            whistle   14700000     50000          294.0  ../input/datathon2022/dataset1/012213d40662f86...            whistle  3059300.0  3184300.0          0\n",
       "1  0159af9f3ca04ada46f0c353ac210bb8   76.260    17.000   93.260  cetaceans_allfreq   14700000     50000          294.0  ../input/datathon2022/dataset1/0159af9f3ca04ad...  cetaceans_allfreq  3813000.0  4663000.0          2\n",
       "2  0159af9f3ca04ada46f0c353ac210bb8  161.482     1.000  162.482              click   14700000     50000          294.0  ../input/datathon2022/dataset1/0159af9f3ca04ad...              click  8074100.0  8124100.0          1\n",
       "3  0271a0818427d7fae7afde67bf49ba30   91.563     1.000   92.563              click   14700000     50000          294.0  ../input/datathon2022/dataset1/0271a0818427d7f...              click  4578150.0  4628150.0          1\n",
       "4  0271a0818427d7fae7afde67bf49ba30  125.627     1.316  126.943              click   14700000     50000          294.0  ../input/datathon2022/dataset1/0271a0818427d7f...              click  6281350.0  6347150.0          1"
      ]
     },
     "execution_count": 7,
     "metadata": {},
     "output_type": "execute_result"
    }
   ],
   "source": [
    "if True:\n",
    "    dataset1 = pd.read_csv(\"../input/labels_dataset1_v2.csv\")\n",
    "    print(dataset1.shape)\n",
    "    df = dataset1.query('label!=\"volcano\"').drop_duplicates()\n",
    "    print(df.shape)\n",
    "    df.label.value_counts()\n",
    "\n",
    "    len_audio = []\n",
    "    sr_audio = []\n",
    "    seconds_audio = []\n",
    "    for name_file in tqdm(df.path.unique()):\n",
    "        y, sr = sf.read(f'../input/datathon2022/dataset1/{name_file}.wav')\n",
    "        len_audio.append(len(y))\n",
    "        sr_audio.append(sr)\n",
    "        seconds_audio.append(len(y)/sr)\n",
    "    df['len_audio'] = df['path'].map(dict(zip(df.path.unique(), len_audio)))\n",
    "    df['sr_audio'] = df['path'].map(dict(zip(df.path.unique(), sr_audio)))\n",
    "    df['seconds_audio'] = df['path'].map(dict(zip(df.path.unique(), seconds_audio)))\n",
    "    df['dir'] = ['../input/datathon2022/dataset1/'+i+'.wav' for i in df['path']]\n",
    "    df['clase'] = df['label'].values\n",
    "    df['pos_ini'] = df['start'] * df['sr_audio']\n",
    "    df['pos_fin'] = df['end'] * df['sr_audio']\n",
    "\n",
    "    clases = dict(df['clase'].value_counts())\n",
    "    clases_num = dict(zip(list(clases.keys()), np.arange(len(clases))))\n",
    "    df['clase_num'] = df['clase'].map(clases_num)\n",
    "    labels = pd.get_dummies(df['clase'])\n",
    "    \n",
    "    db_troceada = []\n",
    "    labels_troceada = []\n",
    "    step_audio = int(tramo_length * 50000)\n",
    "    for namefile in tqdm(df['path'].unique()):\n",
    "        df_file = df.query(f'path==\"{namefile}\"').reset_index()\n",
    "        df_file['start_pos'] = df_file[['start']].values * 50000\n",
    "        df_file['end_pos'] = df_file[['end']].values * 50000\n",
    "        df_file['start_pos']  = df_file['start_pos'].astype(int)\n",
    "        df_file['end_pos']  = df_file['end_pos'].astype(int)\n",
    "        for pos_ini in np.arange(0,14700000,step_audio):\n",
    "            pos_fin = pos_ini + step_audio\n",
    "            if pos_fin > 14700000:\n",
    "                pos_fin = 14700000\n",
    "            pos_dentro = (pos_ini>df_file['start_pos'].values) & (pos_ini<df_file['end_pos'].values)\n",
    "            labels_list = []\n",
    "            if np.sum(pos_dentro>0):\n",
    "                labels_list = list(np.unique(df_file.loc[pos_dentro, 'label'].values))\n",
    "#                 print(namefile, pos_ini, pos_fin, labels)\n",
    "            db_troceada.append(dict(namefile=namefile,\n",
    "                                    dir=f'../input/datathon2022/dataset1/{namefile}.wav',\n",
    "                                    start=float(pos_ini/50000),\n",
    "                                    end=float(pos_fin/50000),\n",
    "                                    pos_ini=pos_ini,\n",
    "                                    pos_fin=pos_fin,\n",
    "                                    labels=labels_list))\n",
    "            labels_row = np.zeros(len(clases_num))\n",
    "            for label in labels_list:\n",
    "                labels_row[clases_num[label]] = 1.0\n",
    "            labels_troceada.append(labels_row)\n",
    "            \n",
    "    db_troceada = pd.DataFrame(db_troceada)\n",
    "    labels_troceada = pd.DataFrame(np.stack(labels_troceada))\n",
    "    labels_troceada.columns = list(clases_num.keys())\n",
    "\n",
    "    with open('../input/database_datathon2022.pickle', 'wb') as f:\n",
    "        pickle.dump(df, f)\n",
    "        pickle.dump(clases, f)\n",
    "        pickle.dump(clases_num, f)\n",
    "        pickle.dump(labels, f)\n",
    "        pickle.dump(db_troceada, f)\n",
    "        pickle.dump(labels_troceada, f)\n",
    "else:\n",
    "    with open('../input/database_datathon2022.pickle', 'rb') as f:\n",
    "        df = pickle.load(f)\n",
    "        clases = pickle.load(f)\n",
    "        clases_num = pickle.load(f)\n",
    "        labels = pickle.load(f)\n",
    "        db_troceada = pickle.load(f)\n",
    "        labels_troceada = pickle.load(f)\n",
    "df.head()"
   ]
  },
  {
   "cell_type": "code",
   "execution_count": 8,
   "id": "e2e5bc77",
   "metadata": {
    "ExecuteTime": {
     "end_time": "2022-10-23T22:18:15.384820Z",
     "start_time": "2022-10-23T22:18:15.382260Z"
    }
   },
   "outputs": [],
   "source": [
    "# if False:\n",
    "#     # Create\n",
    "#     df = []\n",
    "#     for name_dir in os.listdir('../input/data/'):\n",
    "#         df.append(pd.DataFrame([(name_dir, '../input/data/'+name_dir+'/'+name_file) for name_file in os.listdir('../input/data/'+name_dir)]))\n",
    "#     df = pd.concat(df).copy()\n",
    "#     df.columns = ['clase','dir']\n",
    "#     len_audio = []\n",
    "#     sr_audio = []\n",
    "#     seconds_audio = []\n",
    "#     for name_file in tqdm(df['dir']):\n",
    "#         y, sr = sf.read(name_file)\n",
    "#         len_audio.append(len(y))\n",
    "#         sr_audio.append(sr)\n",
    "#         seconds_audio.append(len(y)/sr)\n",
    "#     df['len_audio'] = len_audio\n",
    "#     df['sr_audio'] = sr_audio\n",
    "#     df['seconds_audio'] = seconds_audio\n",
    "#     clases = dict(df['clase'].value_counts())\n",
    "#     clases_num = dict(zip(list(clases.keys()), np.arange(len(clases))))\n",
    "#     df['clase_num'] = df['clase'].map(clases_num)\n",
    "#     labels = pd.get_dummies(df['clase'])\n",
    "#     with open('../input/database.pickle', 'wb') as f:\n",
    "#         pickle.dump(df, f)\n",
    "#         pickle.dump(clases, f)\n",
    "#         pickle.dump(clases_num, f)\n",
    "#         pickle.dump(labels, f)\n",
    "# else:\n",
    "#     with open('../input/database.pickle', 'rb') as f:\n",
    "#         df = pickle.load(f)\n",
    "#         clases = pickle.load(f)\n",
    "#         clases_num = pickle.load(f)\n",
    "#         labels = pickle.load(f)\n",
    "\n",
    "# print(df.shape)\n",
    "# display(df.head()) "
   ]
  },
  {
   "cell_type": "code",
   "execution_count": 9,
   "id": "51791dc8",
   "metadata": {
    "ExecuteTime": {
     "end_time": "2022-10-23T22:18:15.391479Z",
     "start_time": "2022-10-23T22:18:15.386791Z"
    }
   },
   "outputs": [],
   "source": [
    "# # Nos quedamos con los que tengan más de 2 sg y sr>40000\n",
    "# selec_audios = (df['sr_audio']>40000) & (df['seconds_audio']>2.0)\n",
    "# np.sum(selec_audios)"
   ]
  },
  {
   "cell_type": "markdown",
   "id": "a4c6f884",
   "metadata": {},
   "source": [
    "## Selecciona DB"
   ]
  },
  {
   "cell_type": "code",
   "execution_count": 10,
   "id": "4f469eae",
   "metadata": {
    "ExecuteTime": {
     "end_time": "2022-10-23T22:18:15.399900Z",
     "start_time": "2022-10-23T22:18:15.392726Z"
    }
   },
   "outputs": [
    {
     "data": {
      "text/plain": [
       "((66444, 7), (66444, 4))"
      ]
     },
     "execution_count": 10,
     "metadata": {},
     "output_type": "execute_result"
    }
   ],
   "source": [
    "df_train_orig = db_troceada.reset_index(drop=True)\n",
    "labels_train_orig = labels_troceada\n",
    "df_train_orig.shape, labels_train_orig.shape"
   ]
  },
  {
   "cell_type": "code",
   "execution_count": 11,
   "id": "984a1ee0",
   "metadata": {
    "ExecuteTime": {
     "end_time": "2022-10-23T22:18:15.407048Z",
     "start_time": "2022-10-23T22:18:15.401235Z"
    }
   },
   "outputs": [
    {
     "data": {
      "text/plain": [
       "False    58611\n",
       "True      7833\n",
       "dtype: int64"
      ]
     },
     "execution_count": 11,
     "metadata": {},
     "output_type": "execute_result"
    }
   ],
   "source": [
    "hay_evento = (labels_train_orig.sum(axis=1)>0)\n",
    "hay_evento.value_counts()"
   ]
  },
  {
   "cell_type": "code",
   "execution_count": 12,
   "id": "b8cea151",
   "metadata": {
    "ExecuteTime": {
     "end_time": "2022-10-23T22:18:15.417305Z",
     "start_time": "2022-10-23T22:18:15.408026Z"
    }
   },
   "outputs": [
    {
     "data": {
      "text/html": [
       "<div>\n",
       "<style scoped>\n",
       "    .dataframe tbody tr th:only-of-type {\n",
       "        vertical-align: middle;\n",
       "    }\n",
       "\n",
       "    .dataframe tbody tr th {\n",
       "        vertical-align: top;\n",
       "    }\n",
       "\n",
       "    .dataframe thead th {\n",
       "        text-align: right;\n",
       "    }\n",
       "</style>\n",
       "<table border=\"1\" class=\"dataframe\">\n",
       "  <thead>\n",
       "    <tr style=\"text-align: right;\">\n",
       "      <th></th>\n",
       "      <th>namefile</th>\n",
       "      <th>dir</th>\n",
       "      <th>start</th>\n",
       "      <th>end</th>\n",
       "      <th>pos_ini</th>\n",
       "      <th>pos_fin</th>\n",
       "      <th>labels</th>\n",
       "    </tr>\n",
       "  </thead>\n",
       "  <tbody>\n",
       "    <tr>\n",
       "      <th>18970</th>\n",
       "      <td>4d36ce0f7152b24ff39cf4ab3a9ac476</td>\n",
       "      <td>../input/datathon2022/dataset1/4d36ce0f7152b24...</td>\n",
       "      <td>14.0</td>\n",
       "      <td>16.0</td>\n",
       "      <td>700000</td>\n",
       "      <td>800000</td>\n",
       "      <td>[cetaceans_allfreq]</td>\n",
       "    </tr>\n",
       "    <tr>\n",
       "      <th>28447</th>\n",
       "      <td>6d69708795b1562be1c60c16c4b6f029</td>\n",
       "      <td>../input/datathon2022/dataset1/6d69708795b1562...</td>\n",
       "      <td>152.0</td>\n",
       "      <td>154.0</td>\n",
       "      <td>7600000</td>\n",
       "      <td>7700000</td>\n",
       "      <td>[whistle]</td>\n",
       "    </tr>\n",
       "    <tr>\n",
       "      <th>41797</th>\n",
       "      <td>9d2bc9882d41454145c10db5d9805712</td>\n",
       "      <td>../input/datathon2022/dataset1/9d2bc9882d41454...</td>\n",
       "      <td>98.0</td>\n",
       "      <td>100.0</td>\n",
       "      <td>4900000</td>\n",
       "      <td>5000000</td>\n",
       "      <td>[cetaceans_allfreq]</td>\n",
       "    </tr>\n",
       "  </tbody>\n",
       "</table>\n",
       "</div>"
      ],
      "text/plain": [
       "                               namefile                                                dir  start    end  pos_ini  pos_fin               labels\n",
       "18970  4d36ce0f7152b24ff39cf4ab3a9ac476  ../input/datathon2022/dataset1/4d36ce0f7152b24...   14.0   16.0   700000   800000  [cetaceans_allfreq]\n",
       "28447  6d69708795b1562be1c60c16c4b6f029  ../input/datathon2022/dataset1/6d69708795b1562...  152.0  154.0  7600000  7700000            [whistle]\n",
       "41797  9d2bc9882d41454145c10db5d9805712  ../input/datathon2022/dataset1/9d2bc9882d41454...   98.0  100.0  4900000  5000000  [cetaceans_allfreq]"
      ]
     },
     "execution_count": 12,
     "metadata": {},
     "output_type": "execute_result"
    }
   ],
   "source": [
    "df_train_orig.loc[hay_evento].sample(3)"
   ]
  },
  {
   "cell_type": "code",
   "execution_count": 13,
   "id": "10653de5",
   "metadata": {
    "ExecuteTime": {
     "end_time": "2022-10-23T22:18:15.420626Z",
     "start_time": "2022-10-23T22:18:15.418562Z"
    }
   },
   "outputs": [],
   "source": [
    "# # Vamos a reducir la base de datos convenientemente\n",
    "# df_train, df_test = train_test_split(df_train_orig, train_size=int(len(df_train_orig)*0.80))\n",
    "# labels_train, labels_test = labels_train_orig.loc[df_train.index], labels_train_orig.loc[df_test.index]\n",
    "# labels_train = labels_train.reset_index(drop=True)\n",
    "# labels_test = labels_test.reset_index(drop=True)\n",
    "# df_train = df_train.reset_index(drop=True)\n",
    "# df_test = df_test.reset_index(drop=True)\n",
    "\n",
    "# df_train.shape, df_test.shape, labels_train.shape, labels_test.shape"
   ]
  },
  {
   "cell_type": "code",
   "execution_count": 14,
   "id": "9bd65089-8a12-4c25-8adb-e7d5a7ef623d",
   "metadata": {
    "ExecuteTime": {
     "end_time": "2022-10-23T22:18:15.430423Z",
     "start_time": "2022-10-23T22:18:15.421481Z"
    }
   },
   "outputs": [],
   "source": [
    "df_train = df_train_orig.copy()\n",
    "labels_train = labels_train_orig.copy()"
   ]
  },
  {
   "cell_type": "code",
   "execution_count": 15,
   "id": "a7f0966a",
   "metadata": {
    "ExecuteTime": {
     "end_time": "2022-10-23T22:18:15.438028Z",
     "start_time": "2022-10-23T22:18:15.432324Z"
    }
   },
   "outputs": [
    {
     "data": {
      "text/plain": [
       "False    58611\n",
       "True      7833\n",
       "dtype: int64"
      ]
     },
     "execution_count": 15,
     "metadata": {},
     "output_type": "execute_result"
    }
   ],
   "source": [
    "(labels_train.sum(axis=1)>0).value_counts()"
   ]
  },
  {
   "cell_type": "code",
   "execution_count": 16,
   "id": "f6808181",
   "metadata": {
    "ExecuteTime": {
     "end_time": "2022-10-23T22:18:15.440937Z",
     "start_time": "2022-10-23T22:18:15.439149Z"
    }
   },
   "outputs": [],
   "source": [
    "# # Vamos a reducir la base de datos convenientemente\n",
    "# df_train, df_test = train_test_split(df_train_orig, train_size=3000*11)\n",
    "# labels_train, labels_test = labels_train_orig.loc[df_train.index], labels_train_orig.loc[df_test.index]\n",
    "# labels_train = labels_train.reset_index(drop=True)\n",
    "# labels_test = labels_test.reset_index(drop=True)\n",
    "# df_train = df_train.reset_index(drop=True)\n",
    "# df_test = df_test.reset_index(drop=True)\n",
    "\n",
    "# df_train.shape, df_test.shape, labels_train.shape, labels_test.shape"
   ]
  },
  {
   "cell_type": "markdown",
   "id": "1a5e1640",
   "metadata": {},
   "source": [
    "# Augmentations"
   ]
  },
  {
   "cell_type": "markdown",
   "id": "b0d50726",
   "metadata": {
    "ExecuteTime": {
     "end_time": "2022-10-20T11:15:14.311128Z",
     "start_time": "2022-10-20T11:15:14.308205Z"
    }
   },
   "source": [
    "## Noise Funs"
   ]
  },
  {
   "cell_type": "code",
   "execution_count": 17,
   "id": "872ae3ad",
   "metadata": {
    "ExecuteTime": {
     "end_time": "2022-10-23T22:18:15.455575Z",
     "start_time": "2022-10-23T22:18:15.441933Z"
    }
   },
   "outputs": [],
   "source": [
    "class Compose:\n",
    "    def __init__(self, transforms: list):\n",
    "        self.transforms = transforms\n",
    "\n",
    "    def __call__(self, y: np.ndarray, sr):\n",
    "        for trns in self.transforms:\n",
    "            y = trns(y, sr)\n",
    "        return y\n",
    "\n",
    "\n",
    "class AudioTransform:\n",
    "    def __init__(self, always_apply=False, p=0.5):\n",
    "        self.always_apply = always_apply\n",
    "        self.p = p\n",
    "\n",
    "    def __call__(self, y: np.ndarray, sr):\n",
    "        if self.always_apply:\n",
    "            return self.apply(y, sr=sr)\n",
    "        else:\n",
    "            if np.random.rand() < self.p:\n",
    "                return self.apply(y, sr=sr)\n",
    "            else:\n",
    "                return y\n",
    "\n",
    "    def apply(self, y: np.ndarray, **params):\n",
    "        raise NotImplementedError\n",
    "\n",
    "\n",
    "class OneOf(Compose):\n",
    "    # https://github.com/albumentations-team/albumentations/blob/master/albumentations/core/composition.py\n",
    "    def __init__(self, transforms, p=0.5):\n",
    "        super().__init__(transforms)\n",
    "        self.p = p\n",
    "        transforms_ps = [t.p for t in transforms]\n",
    "        s = sum(transforms_ps)\n",
    "        self.transforms_ps = [t / s for t in transforms_ps]\n",
    "\n",
    "    def __call__(self, y: np.ndarray, sr):\n",
    "        data = y\n",
    "        if self.transforms_ps and (random.random() < self.p):\n",
    "            random_state = np.random.RandomState(random.randint(0, 2 ** 32 - 1))\n",
    "            t = random_state.choice(self.transforms, p=self.transforms_ps)\n",
    "            data = t(y, sr)\n",
    "        return data\n",
    "\n",
    "\n",
    "class Normalize(AudioTransform):\n",
    "    def __init__(self, always_apply=False, p=1):\n",
    "        super().__init__(always_apply, p)\n",
    "\n",
    "    def apply(self, y: np.ndarray, **params):\n",
    "        max_vol = np.abs(y).max()\n",
    "        y_vol = y * 1 / max_vol\n",
    "        return np.asfortranarray(y_vol)\n",
    "\n",
    "\n",
    "class NewNormalize(AudioTransform):\n",
    "    def __init__(self, always_apply=False, p=1):\n",
    "        super().__init__(always_apply, p)\n",
    "\n",
    "    def apply(self, y: np.ndarray, **params):\n",
    "        y_mm = y - y.mean()\n",
    "        return y_mm / y_mm.abs().max()\n",
    "\n",
    "\n",
    "class NoiseInjection(AudioTransform):\n",
    "    def __init__(self, always_apply=False, p=0.5, max_noise_level=0.5):\n",
    "        super().__init__(always_apply, p)\n",
    "\n",
    "        self.noise_level = (0.0, max_noise_level)\n",
    "\n",
    "    def apply(self, y: np.ndarray, **params):\n",
    "        noise_level = np.random.uniform(*self.noise_level)\n",
    "        noise = np.random.randn(len(y))\n",
    "        augmented = (y + noise * noise_level).astype(y.dtype)\n",
    "        return augmented\n",
    "\n",
    "\n",
    "class GaussianNoise(AudioTransform):\n",
    "    def __init__(self, always_apply=False, p=0.5, min_snr=5, max_snr=20):\n",
    "        super().__init__(always_apply, p)\n",
    "\n",
    "        self.min_snr = min_snr\n",
    "        self.max_snr = max_snr\n",
    "\n",
    "    def apply(self, y: np.ndarray, **params):\n",
    "        snr = np.random.uniform(self.min_snr, self.max_snr)\n",
    "        a_signal = np.sqrt(y ** 2).max()\n",
    "        a_noise = a_signal / (10 ** (snr / 20))\n",
    "\n",
    "        white_noise = np.random.randn(len(y))\n",
    "        a_white = np.sqrt(white_noise ** 2).max()\n",
    "        augmented = (y + white_noise * 1 / a_white * a_noise).astype(y.dtype)\n",
    "        return augmented\n",
    "\n",
    "\n",
    "class PinkNoise(AudioTransform):\n",
    "    def __init__(self, always_apply=False, p=0.5, min_snr=5, max_snr=20):\n",
    "        super().__init__(always_apply, p)\n",
    "\n",
    "        self.min_snr = min_snr\n",
    "        self.max_snr = max_snr\n",
    "\n",
    "    def apply(self, y: np.ndarray, **params):\n",
    "        snr = np.random.uniform(self.min_snr, self.max_snr)\n",
    "        a_signal = np.sqrt(y ** 2).max()\n",
    "        a_noise = a_signal / (10 ** (snr / 20))\n",
    "\n",
    "        pink_noise = cn.powerlaw_psd_gaussian(1, len(y))\n",
    "        a_pink = np.sqrt(pink_noise ** 2).max()\n",
    "        augmented = (y + pink_noise * 1 / a_pink * a_noise).astype(y.dtype)\n",
    "        return augmented\n",
    "\n",
    "\n",
    "class PitchShift(AudioTransform):\n",
    "    def __init__(self, always_apply=False, p=0.5, max_range=5):\n",
    "        super().__init__(always_apply, p)\n",
    "        self.max_range = max_range\n",
    "\n",
    "    def apply(self, y: np.ndarray, sr, **params):\n",
    "        n_steps = np.random.randint(-self.max_range, self.max_range)\n",
    "        augmented = librosa.effects.pitch_shift(y, sr, n_steps)\n",
    "        return augmented\n",
    "\n",
    "\n",
    "class TimeStretch(AudioTransform):\n",
    "    def __init__(self, always_apply=False, p=0.5, max_rate=1):\n",
    "        super().__init__(always_apply, p)\n",
    "        self.max_rate = max_rate\n",
    "\n",
    "    def apply(self, y: np.ndarray, **params):\n",
    "        rate = np.random.uniform(0, self.max_rate)\n",
    "        augmented = librosa.effects.time_stretch(y, rate)\n",
    "        return augmented\n",
    "\n",
    "\n",
    "def _db2float(db: float, amplitude=True):\n",
    "    if amplitude:\n",
    "        return 10 ** (db / 20)\n",
    "    else:\n",
    "        return 10 ** (db / 10)\n",
    "\n",
    "\n",
    "def volume_down(y: np.ndarray, db: float):\n",
    "    \"\"\"\n",
    "    Low level API for decreasing the volume\n",
    "    Parameters\n",
    "    ----------\n",
    "    y: numpy.ndarray\n",
    "        stereo / monaural input audio\n",
    "    db: float\n",
    "        how much decibel to decrease\n",
    "    Returns\n",
    "    -------\n",
    "    applied: numpy.ndarray\n",
    "        audio with decreased volume\n",
    "    \"\"\"\n",
    "    applied = y * _db2float(-db)\n",
    "    return applied\n",
    "\n",
    "\n",
    "def volume_up(y: np.ndarray, db: float):\n",
    "    \"\"\"\n",
    "    Low level API for increasing the volume\n",
    "    Parameters\n",
    "    ----------\n",
    "    y: numpy.ndarray\n",
    "        stereo / monaural input audio\n",
    "    db: float\n",
    "        how much decibel to increase\n",
    "    Returns\n",
    "    -------\n",
    "    applied: numpy.ndarray\n",
    "        audio with increased volume\n",
    "    \"\"\"\n",
    "    applied = y * _db2float(db)\n",
    "    return applied\n",
    "\n",
    "\n",
    "class RandomVolume(AudioTransform):\n",
    "    def __init__(self, always_apply=False, p=0.5, limit=10):\n",
    "        super().__init__(always_apply, p)\n",
    "        self.limit = limit\n",
    "\n",
    "    def apply(self, y: np.ndarray, **params):\n",
    "        db = np.random.uniform(-self.limit, self.limit)\n",
    "        if db >= 0:\n",
    "            return volume_up(y, db)\n",
    "        else:\n",
    "            return volume_down(y, db)\n",
    "\n",
    "\n",
    "class CosineVolume(AudioTransform):\n",
    "    def __init__(self, always_apply=False, p=0.5, limit=10):\n",
    "        super().__init__(always_apply, p)\n",
    "        self.limit = limit\n",
    "\n",
    "    def apply(self, y: np.ndarray, **params):\n",
    "        db = np.random.uniform(-self.limit, self.limit)\n",
    "        cosine = np.cos(np.arange(len(y)) / len(y) * np.pi * 2)\n",
    "        dbs = _db2float(cosine * db)\n",
    "        return y * dbs"
   ]
  },
  {
   "cell_type": "markdown",
   "id": "6f359fb9",
   "metadata": {},
   "source": [
    "## AudioAumentations"
   ]
  },
  {
   "cell_type": "code",
   "execution_count": 18,
   "id": "83389fd1",
   "metadata": {
    "ExecuteTime": {
     "end_time": "2022-10-23T22:18:15.476591Z",
     "start_time": "2022-10-23T22:18:15.456582Z"
    }
   },
   "outputs": [],
   "source": [
    "import audiomentations as AA\n",
    "reduce = 0.90\n",
    "train_audio_transform = AA.Compose([\n",
    "#     AA.AddGaussianNoise(p=0.1), #0.5\n",
    "#     AA.AddGaussianSNR(max_SNR=1.25, p=0.50),  #0.5\n",
    "#     AA.AddBackgroundNoise(\"../input/train_audio/\", p=1)\n",
    "#     AA.AddImpulseResponse(p=0.1),\n",
    "    #AA.AddShortNoises(\"../input/train_audio/\", p=1)\n",
    "#     AA.FrequencyMask(min_frequency_band=0.0,  max_frequency_band=0.2, p=0.50),\n",
    "    #AA.TimeMask(min_band_part=0.0, max_band_part=0.2, p=0.1),\n",
    "#     AA.PitchShift(min_semitones=-4, max_semitones=4),\n",
    "#     AA.Shift(p=0.01),\n",
    "    #AA.Normalize(p=0.1),\n",
    "    #AA.PolarityInversion(p=0.05),\n",
    "    AA.Shift(min_fraction=-0.25*reduce, max_fraction=0.25*reduce, p=0.50),\n",
    "    AA.AddGaussianSNR(max_snr_in_db=1.25*reduce, p=0.50),  #0.5\n",
    "    AA.ClippingDistortion(min_percentile_threshold=0, max_percentile_threshold=int(32*reduce), p=0.50),\n",
    "    AA.Gain(min_gain_in_db=-int(12*reduce), max_gain_in_db=int(12*reduce), p=0.50),\n",
    "])"
   ]
  },
  {
   "cell_type": "markdown",
   "id": "91ac0786",
   "metadata": {},
   "source": [
    "## SpecAugment"
   ]
  },
  {
   "cell_type": "code",
   "execution_count": 19,
   "id": "c0819a58-80ca-4be7-a3cd-2fd32a67b84c",
   "metadata": {
    "ExecuteTime": {
     "end_time": "2022-10-23T22:18:15.501384Z",
     "start_time": "2022-10-23T22:18:15.477713Z"
    }
   },
   "outputs": [],
   "source": [
    "# From https://github.com/DemisEom/SpecAugment/tree/master/SpecAugment\n",
    "def time_warp(spec, W=5):\n",
    "    num_rows = spec.shape[1]\n",
    "    spec_len = spec.shape[2]\n",
    "\n",
    "    y = num_rows // 2\n",
    "    horizontal_line_at_ctr = spec[0][y]\n",
    "    # assert len(horizontal_line_at_ctr) == spec_len\n",
    "\n",
    "    point_to_warp = horizontal_line_at_ctr[random.randrange(W, spec_len-W)]\n",
    "    # assert isinstance(point_to_warp, torch.Tensor)\n",
    "\n",
    "    # Uniform distribution from (0,W) with chance to be up to W negative\n",
    "    dist_to_warp = random.randrange(-W, W)\n",
    "    src_pts = torch.tensor([[[y, point_to_warp]]])\n",
    "    dest_pts = torch.tensor([[[y, point_to_warp + dist_to_warp]]])\n",
    "    warped_spectro, dense_flows = sparse_image_warp(spec, src_pts, dest_pts)\n",
    "    return warped_spectro.squeeze(3)\n",
    "\n",
    "\n",
    "def freq_mask(spec, F=15, num_masks=1, replace_with_zero=False):\n",
    "    cloned = spec.clone()\n",
    "    num_mel_channels = cloned.shape[1]\n",
    "\n",
    "    for i in range(0, num_masks):\n",
    "        f = random.randrange(0, F)\n",
    "        f_zero = random.randrange(0, num_mel_channels - f)\n",
    "\n",
    "        # avoids randrange error if values are equal and range is empty\n",
    "        if (f_zero == f_zero + f): return cloned\n",
    "\n",
    "        mask_end = random.randrange(f_zero, f_zero + f)\n",
    "        if (replace_with_zero):\n",
    "            cloned[0][f_zero:mask_end] = 0\n",
    "        else:\n",
    "            cloned[0][f_zero:mask_end] = cloned.mean()\n",
    "\n",
    "    return cloned\n",
    "\n",
    "\n",
    "def time_mask(spec, T=15, num_masks=1, replace_with_zero=False):\n",
    "    cloned = spec.clone()\n",
    "    len_spectro = cloned.shape[2]\n",
    "\n",
    "    for i in range(0, num_masks):\n",
    "        t = random.randrange(0, T)\n",
    "        t_zero = random.randrange(0, len_spectro - t)\n",
    "\n",
    "        # avoids randrange error if values are equal and range is empty\n",
    "        if (t_zero == t_zero + t): return cloned\n",
    "\n",
    "        mask_end = random.randrange(t_zero, t_zero + t)\n",
    "        if (replace_with_zero):\n",
    "            cloned[0][:, t_zero:mask_end] = 0\n",
    "        else:\n",
    "            cloned[0][:, t_zero:mask_end] = cloned.mean()\n",
    "    return cloned\n",
    "\n",
    "\n",
    "def sparse_image_warp(img_tensor,\n",
    "                      source_control_point_locations,\n",
    "                      dest_control_point_locations,\n",
    "                      interpolation_order=2,\n",
    "                      regularization_weight=0.0,\n",
    "                      num_boundaries_points=0):\n",
    "    control_point_flows = (dest_control_point_locations - source_control_point_locations)\n",
    "\n",
    "    batch_size, image_height, image_width = img_tensor.shape\n",
    "    grid_locations = get_grid_locations(image_height, image_width)\n",
    "    flattened_grid_locations = torch.tensor(flatten_grid_locations(grid_locations, image_height, image_width))\n",
    "\n",
    "    flattened_flows = interpolate_spline(\n",
    "        dest_control_point_locations,\n",
    "        control_point_flows,\n",
    "        flattened_grid_locations,\n",
    "        interpolation_order,\n",
    "        regularization_weight)\n",
    "\n",
    "    dense_flows = create_dense_flows(flattened_flows, batch_size, image_height, image_width)\n",
    "\n",
    "    warped_image = dense_image_warp(img_tensor, dense_flows)\n",
    "\n",
    "    return warped_image, dense_flows\n",
    "\n",
    "\n",
    "def get_grid_locations(image_height, image_width):\n",
    "    \"\"\"Wrapper for np.meshgrid.\"\"\"\n",
    "\n",
    "    y_range = np.linspace(0, image_height - 1, image_height)\n",
    "    x_range = np.linspace(0, image_width - 1, image_width)\n",
    "    y_grid, x_grid = np.meshgrid(y_range, x_range, indexing='ij')\n",
    "    return np.stack((y_grid, x_grid), -1)\n",
    "\n",
    "\n",
    "def flatten_grid_locations(grid_locations, image_height, image_width):\n",
    "    return np.reshape(grid_locations, [image_height * image_width, 2])\n",
    "\n",
    "\n",
    "def create_dense_flows(flattened_flows, batch_size, image_height, image_width):\n",
    "    # possibly .view\n",
    "    return torch.reshape(flattened_flows, [batch_size, image_height, image_width, 2])\n",
    "\n",
    "\n",
    "def interpolate_spline(train_points, train_values, query_points, order, regularization_weight=0.0, ):\n",
    "    # First, fit the spline to the observed data.\n",
    "    w, v = solve_interpolation(train_points, train_values, order, regularization_weight)\n",
    "    # Then, evaluate the spline at the query locations.\n",
    "    query_values = apply_interpolation(query_points, train_points, w, v, order)\n",
    "\n",
    "    return query_values\n",
    "\n",
    "\n",
    "def solve_interpolation(train_points, train_values, order, regularization_weight):\n",
    "    b, n, d = train_points.shape\n",
    "    k = train_values.shape[-1]\n",
    "\n",
    "    # First, rename variables so that the notation (c, f, w, v, A, B, etc.)\n",
    "    # follows https://en.wikipedia.org/wiki/Polyharmonic_spline.\n",
    "    # To account for python style guidelines we use\n",
    "    # matrix_a for A and matrix_b for B.\n",
    "\n",
    "    c = train_points\n",
    "    f = train_values.float()\n",
    "\n",
    "    matrix_a = phi(cross_squared_distance_matrix(c, c), order).unsqueeze(0)  # [b, n, n]\n",
    "    #     if regularization_weight > 0:\n",
    "    #         batch_identity_matrix = array_ops.expand_dims(\n",
    "    #           linalg_ops.eye(n, dtype=c.dtype), 0)\n",
    "    #         matrix_a += regularization_weight * batch_identity_matrix\n",
    "\n",
    "    # Append ones to the feature values for the bias term in the linear model.\n",
    "    ones = torch.ones(1, dtype=train_points.dtype).view([-1, 1, 1])\n",
    "    matrix_b = torch.cat((c, ones), 2).float()  # [b, n, d + 1]\n",
    "\n",
    "    # [b, n + d + 1, n]\n",
    "    left_block = torch.cat((matrix_a, torch.transpose(matrix_b, 2, 1)), 1)\n",
    "\n",
    "    num_b_cols = matrix_b.shape[2]  # d + 1\n",
    "\n",
    "    # In Tensorflow, zeros are used here. Pytorch gesv fails with zeros for some reason we don't understand.\n",
    "    # So instead we use very tiny randn values (variance of one, zero mean) on one side of our multiplication.\n",
    "    lhs_zeros = torch.randn((b, num_b_cols, num_b_cols)) / 1e10\n",
    "    right_block = torch.cat((matrix_b, lhs_zeros),\n",
    "                            1)  # [b, n + d + 1, d + 1]\n",
    "    lhs = torch.cat((left_block, right_block),\n",
    "                    2)  # [b, n + d + 1, n + d + 1]\n",
    "\n",
    "    rhs_zeros = torch.zeros((b, d + 1, k), dtype=train_points.dtype).float()\n",
    "    rhs = torch.cat((f, rhs_zeros), 1)  # [b, n + d + 1, k]\n",
    "\n",
    "    # Then, solve the linear system and unpack the results.\n",
    "    X = torch.linalg.solve(lhs, rhs)\n",
    "    w = X[:, :n, :]\n",
    "    v = X[:, n:, :]\n",
    "\n",
    "    return w, v\n",
    "\n",
    "def solve_interpolation(train_points, train_values, order, regularization_weight):\n",
    "    b, n, d = train_points.shape\n",
    "    k = train_values.shape[-1]\n",
    "\n",
    "    # First, rename variables so that the notation (c, f, w, v, A, B, etc.)\n",
    "    # follows https://en.wikipedia.org/wiki/Polyharmonic_spline.\n",
    "    # To account for python style guidelines we use\n",
    "    # matrix_a for A and matrix_b for B.\n",
    "\n",
    "    c = train_points\n",
    "    f = train_values.float()\n",
    "\n",
    "    matrix_a = phi(cross_squared_distance_matrix(c, c), order).unsqueeze(0)  # [b, n, n]\n",
    "    #     if regularization_weight > 0:\n",
    "    #         batch_identity_matrix = array_ops.expand_dims(\n",
    "    #           linalg_ops.eye(n, dtype=c.dtype), 0)\n",
    "    #         matrix_a += regularization_weight * batch_identity_matrix\n",
    "\n",
    "    # Append ones to the feature values for the bias term in the linear model.\n",
    "    ones = torch.ones(1, dtype=train_points.dtype).view([-1, 1, 1])\n",
    "    matrix_b = torch.cat((c, ones), 2).float()  # [b, n, d + 1]\n",
    "\n",
    "    # [b, n + d + 1, n]\n",
    "    left_block = torch.cat((matrix_a, torch.transpose(matrix_b, 2, 1)), 1)\n",
    "\n",
    "    num_b_cols = matrix_b.shape[2]  # d + 1\n",
    "\n",
    "    # In Tensorflow, zeros are used here. Pytorch gesv fails with zeros for some reason we don't understand.\n",
    "    # So instead we use very tiny randn values (variance of one, zero mean) on one side of our multiplication.\n",
    "    lhs_zeros = torch.randn((b, num_b_cols, num_b_cols)) / 1e10\n",
    "    right_block = torch.cat((matrix_b, lhs_zeros),\n",
    "                            1)  # [b, n + d + 1, d + 1]\n",
    "    lhs = torch.cat((left_block, right_block),\n",
    "                    2)  # [b, n + d + 1, n + d + 1]\n",
    "\n",
    "    rhs_zeros = torch.zeros((b, d + 1, k), dtype=train_points.dtype).float()\n",
    "    rhs = torch.cat((f, rhs_zeros), 1)  # [b, n + d + 1, k]\n",
    "\n",
    "    # Then, solve the linear system and unpack the results.\n",
    "    X = torch.linalg.solve(lhs, rhs)\n",
    "    w = X[:, :n, :]\n",
    "    v = X[:, n:, :]\n",
    "\n",
    "    return w, v\n",
    "\n",
    "\n",
    "def cross_squared_distance_matrix(x, y):\n",
    "    \"\"\"Pairwise squared distance between two (batch) matrices' rows (2nd dim).\n",
    "        Computes the pairwise distances between rows of x and rows of y\n",
    "        Args:\n",
    "        x: [batch_size, n, d] float `Tensor`\n",
    "        y: [batch_size, m, d] float `Tensor`\n",
    "        Returns:\n",
    "        squared_dists: [batch_size, n, m] float `Tensor`, where\n",
    "        squared_dists[b,i,j] = ||x[b,i,:] - y[b,j,:]||^2\n",
    "    \"\"\"\n",
    "    x_norm_squared = torch.sum(torch.mul(x, x))\n",
    "    y_norm_squared = torch.sum(torch.mul(y, y))\n",
    "\n",
    "    x_y_transpose = torch.matmul(x.squeeze(0), y.squeeze(0).transpose(0, 1))\n",
    "\n",
    "    # squared_dists[b,i,j] = ||x_bi - y_bj||^2 = x_bi'x_bi- 2x_bi'x_bj + x_bj'x_bj\n",
    "    squared_dists = x_norm_squared - 2 * x_y_transpose + y_norm_squared\n",
    "\n",
    "    return squared_dists.float()\n",
    "\n",
    "\n",
    "def phi(r, order):\n",
    "    \"\"\"Coordinate-wise nonlinearity used to define the order of the interpolation.\n",
    "    See https://en.wikipedia.org/wiki/Polyharmonic_spline for the definition.\n",
    "    Args:\n",
    "    r: input op\n",
    "    order: interpolation order\n",
    "    Returns:\n",
    "    phi_k evaluated coordinate-wise on r, for k = r\n",
    "    \"\"\"\n",
    "    EPSILON = torch.tensor(1e-10)\n",
    "    # using EPSILON prevents log(0), sqrt0), etc.\n",
    "    # sqrt(0) is well-defined, but its gradient is not\n",
    "    if order == 1:\n",
    "        r = torch.max(r, EPSILON)\n",
    "        r = torch.sqrt(r)\n",
    "        return r\n",
    "    elif order == 2:\n",
    "        return 0.5 * r * torch.log(torch.max(r, EPSILON))\n",
    "    elif order == 4:\n",
    "        return 0.5 * torch.square(r) * torch.log(torch.max(r, EPSILON))\n",
    "    elif order % 2 == 0:\n",
    "        r = torch.max(r, EPSILON)\n",
    "        return 0.5 * torch.pow(r, 0.5 * order) * torch.log(r)\n",
    "    else:\n",
    "        r = torch.max(r, EPSILON)\n",
    "        return torch.pow(r, 0.5 * order)\n",
    "\n",
    "\n",
    "def apply_interpolation(query_points, train_points, w, v, order):\n",
    "    \"\"\"Apply polyharmonic interpolation model to data.\n",
    "    Given coefficients w and v for the interpolation model, we evaluate\n",
    "    interpolated function values at query_points.\n",
    "    Args:\n",
    "    query_points: `[b, m, d]` x values to evaluate the interpolation at\n",
    "    train_points: `[b, n, d]` x values that act as the interpolation centers\n",
    "                    ( the c variables in the wikipedia article)\n",
    "    w: `[b, n, k]` weights on each interpolation center\n",
    "    v: `[b, d, k]` weights on each input dimension\n",
    "    order: order of the interpolation\n",
    "    Returns:\n",
    "    Polyharmonic interpolation evaluated at points defined in query_points.\n",
    "    \"\"\"\n",
    "    query_points = query_points.unsqueeze(0)\n",
    "    # First, compute the contribution from the rbf term.\n",
    "    pairwise_dists = cross_squared_distance_matrix(query_points.float(), train_points.float())\n",
    "    phi_pairwise_dists = phi(pairwise_dists, order)\n",
    "\n",
    "    rbf_term = torch.matmul(phi_pairwise_dists, w)\n",
    "\n",
    "    # Then, compute the contribution from the linear term.\n",
    "    # Pad query_points with ones, for the bias term in the linear model.\n",
    "    ones = torch.ones_like(query_points[..., :1])\n",
    "    query_points_pad = torch.cat((\n",
    "        query_points,\n",
    "        ones\n",
    "    ), 2).float()\n",
    "    linear_term = torch.matmul(query_points_pad, v)\n",
    "\n",
    "    return rbf_term + linear_term\n",
    "\n",
    "\n",
    "def dense_image_warp(image, flow):\n",
    "    \"\"\"Image warping using per-pixel flow vectors.\n",
    "    Apply a non-linear warp to the image, where the warp is specified by a dense\n",
    "    flow field of offset vectors that define the correspondences of pixel values\n",
    "    in the output image back to locations in the  source image. Specifically, the\n",
    "    pixel value at output[b, j, i, c] is\n",
    "    images[b, j - flow[b, j, i, 0], i - flow[b, j, i, 1], c].\n",
    "    The locations specified by this formula do not necessarily map to an int\n",
    "    index. Therefore, the pixel value is obtained by bilinear\n",
    "    interpolation of the 4 nearest pixels around\n",
    "    (b, j - flow[b, j, i, 0], i - flow[b, j, i, 1]). For locations outside\n",
    "    of the image, we use the nearest pixel values at the image boundary.\n",
    "    Args:\n",
    "    image: 4-D float `Tensor` with shape `[batch, height, width, channels]`.\n",
    "    flow: A 4-D float `Tensor` with shape `[batch, height, width, 2]`.\n",
    "    name: A name for the operation (optional).\n",
    "    Note that image and flow can be of type tf.half, tf.float32, or tf.float64,\n",
    "    and do not necessarily have to be the same type.\n",
    "    Returns:\n",
    "    A 4-D float `Tensor` with shape`[batch, height, width, channels]`\n",
    "    and same type as input image.\n",
    "    Raises:\n",
    "    ValueError: if height < 2 or width < 2 or the inputs have the wrong number\n",
    "    of dimensions.\n",
    "    \"\"\"\n",
    "    image = image.unsqueeze(3)  # add a single channel dimension to image tensor\n",
    "    batch_size, height, width, channels = image.shape\n",
    "\n",
    "    # The flow is defined on the image grid. Turn the flow into a list of query\n",
    "    # points in the grid space.\n",
    "    grid_x, grid_y = torch.meshgrid(\n",
    "        torch.arange(width), torch.arange(height))\n",
    "\n",
    "    stacked_grid = torch.stack((grid_y, grid_x), dim=2).float()\n",
    "\n",
    "    batched_grid = stacked_grid.unsqueeze(-1).permute(3, 1, 0, 2)\n",
    "\n",
    "    query_points_on_grid = batched_grid - flow\n",
    "    query_points_flattened = torch.reshape(query_points_on_grid,\n",
    "                                           [batch_size, height * width, 2])\n",
    "    # Compute values at the query points, then reshape the result back to the\n",
    "    # image grid.\n",
    "    interpolated = interpolate_bilinear(image, query_points_flattened)\n",
    "    interpolated = torch.reshape(interpolated,\n",
    "                                 [batch_size, height, width, channels])\n",
    "    return interpolated\n",
    "\n",
    "\n",
    "def interpolate_bilinear(grid,\n",
    "                         query_points,\n",
    "                         name='interpolate_bilinear',\n",
    "                         indexing='ij'):\n",
    "    \"\"\"Similar to Matlab's interp2 function.\n",
    "    Finds values for query points on a grid using bilinear interpolation.\n",
    "    Args:\n",
    "    grid: a 4-D float `Tensor` of shape `[batch, height, width, channels]`.\n",
    "    query_points: a 3-D float `Tensor` of N points with shape `[batch, N, 2]`.\n",
    "    name: a name for the operation (optional).\n",
    "    indexing: whether the query points are specified as row and column (ij),\n",
    "      or Cartesian coordinates (xy).\n",
    "    Returns:\n",
    "    values: a 3-D `Tensor` with shape `[batch, N, channels]`\n",
    "    Raises:\n",
    "    ValueError: if the indexing mode is invalid, or if the shape of the inputs\n",
    "      invalid.\n",
    "    \"\"\"\n",
    "    if indexing != 'ij' and indexing != 'xy':\n",
    "        raise ValueError('Indexing mode must be \\'ij\\' or \\'xy\\'')\n",
    "\n",
    "    shape = grid.shape\n",
    "    if len(shape) != 4:\n",
    "        msg = 'Grid must be 4 dimensional. Received size: '\n",
    "        raise ValueError(msg + str(grid.shape))\n",
    "\n",
    "    batch_size, height, width, channels = grid.shape\n",
    "\n",
    "    shape = [batch_size, height, width, channels]\n",
    "    query_type = query_points.dtype\n",
    "    grid_type = grid.dtype\n",
    "\n",
    "    num_queries = query_points.shape[1]\n",
    "\n",
    "    alphas = []\n",
    "    floors = []\n",
    "    ceils = []\n",
    "    index_order = [0, 1] if indexing == 'ij' else [1, 0]\n",
    "    unstacked_query_points = query_points.unbind(2)\n",
    "\n",
    "    for dim in index_order:\n",
    "        queries = unstacked_query_points[dim]\n",
    "\n",
    "        size_in_indexing_dimension = shape[dim + 1]\n",
    "\n",
    "        # max_floor is size_in_indexing_dimension - 2 so that max_floor + 1\n",
    "        # is still a valid index into the grid.\n",
    "        max_floor = torch.tensor(size_in_indexing_dimension - 2, dtype=query_type)\n",
    "        min_floor = torch.tensor(0.0, dtype=query_type)\n",
    "        maxx = torch.max(min_floor, torch.floor(queries))\n",
    "        floor = torch.min(maxx, max_floor)\n",
    "        int_floor = floor.long()\n",
    "        floors.append(int_floor)\n",
    "        ceil = int_floor + 1\n",
    "        ceils.append(ceil)\n",
    "\n",
    "        # alpha has the same type as the grid, as we will directly use alpha\n",
    "        # when taking linear combinations of pixel values from the image.\n",
    "        alpha = (queries-floor).clone().detach().type(grid_type)\n",
    "        min_alpha = torch.tensor(0.0, dtype=grid_type)\n",
    "        max_alpha = torch.tensor(1.0, dtype=grid_type)\n",
    "        alpha = torch.min(torch.max(min_alpha, alpha), max_alpha)\n",
    "\n",
    "        # Expand alpha to [b, n, 1] so we can use broadcasting\n",
    "        # (since the alpha values don't depend on the channel).\n",
    "        alpha = torch.unsqueeze(alpha, 2)\n",
    "        alphas.append(alpha)\n",
    "\n",
    "    flattened_grid = torch.reshape(\n",
    "        grid, [batch_size * height * width, channels])\n",
    "    batch_offsets = torch.reshape(\n",
    "        torch.arange(batch_size) * height * width, [batch_size, 1])\n",
    "\n",
    "    # This wraps array_ops.gather. We reshape the image data such that the\n",
    "    # batch, y, and x coordinates are pulled into the first dimension.\n",
    "    # Then we gather. Finally, we reshape the output back. It's possible this\n",
    "    # code would be made simpler by using array_ops.gather_nd.\n",
    "    def gather(y_coords, x_coords, name):\n",
    "        linear_coordinates = batch_offsets + y_coords * width + x_coords\n",
    "        gathered_values = torch.gather(flattened_grid.t(), 1, linear_coordinates)\n",
    "        return torch.reshape(gathered_values,\n",
    "                             [batch_size, num_queries, channels])\n",
    "\n",
    "    # grab the pixel values in the 4 corners around each query point\n",
    "    top_left = gather(floors[0], floors[1], 'top_left')\n",
    "    top_right = gather(floors[0], ceils[1], 'top_right')\n",
    "    bottom_left = gather(ceils[0], floors[1], 'bottom_left')\n",
    "    bottom_right = gather(ceils[0], ceils[1], 'bottom_right')\n",
    "\n",
    "    interp_top = alphas[1] * (top_right - top_left) + top_left\n",
    "    interp_bottom = alphas[1] * (bottom_right - bottom_left) + bottom_left\n",
    "    interp = alphas[0] * (interp_bottom - interp_top) + interp_top\n",
    "\n",
    "    return interp\n",
    "\n",
    "def spec_augment(mel_spectrogram, time_warping_para=80, frequency_masking_para=27,\n",
    "                 time_masking_para=100, frequency_mask_num=1, time_mask_num=1):\n",
    "    \"\"\"Spec augmentation Calculation Function.\n",
    "    'SpecAugment' have 3 steps for audio data augmentation.\n",
    "    first step is time warping using Tensorflow's image_sparse_warp function.\n",
    "    Second step is frequency masking, last step is time masking.\n",
    "    # Arguments:\n",
    "      mel_spectrogram(numpy array): audio file path of you want to warping and masking.\n",
    "      time_warping_para(float): Augmentation parameter, \"time warp parameter W\".\n",
    "        If none, default = 80 for LibriSpeech.\n",
    "      frequency_masking_para(float): Augmentation parameter, \"frequency mask parameter F\"\n",
    "        If none, default = 100 for LibriSpeech.\n",
    "      time_masking_para(float): Augmentation parameter, \"time mask parameter T\"\n",
    "        If none, default = 27 for LibriSpeech.\n",
    "      frequency_mask_num(float): number of frequency masking lines, \"m_F\".\n",
    "        If none, default = 1 for LibriSpeech.\n",
    "      time_mask_num(float): number of time masking lines, \"m_T\".\n",
    "        If none, default = 1 for LibriSpeech.\n",
    "    # Returns\n",
    "      mel_spectrogram(numpy array): warped and masked mel spectrogram.\n",
    "    \"\"\"\n",
    "    v = mel_spectrogram.shape[1]\n",
    "    tau = mel_spectrogram.shape[2]\n",
    "\n",
    "    # Step 1 : Time warping\n",
    "    warped_mel_spectrogram = time_warp(mel_spectrogram, W=time_warping_para)\n",
    "\n",
    "    # Step 2 : Frequency masking\n",
    "    for i in range(frequency_mask_num):\n",
    "        f = np.random.uniform(low=0.0, high=frequency_masking_para)\n",
    "        f = int(f)\n",
    "        f0 = random.randint(0, v-f)\n",
    "        warped_mel_spectrogram[:, f0:f0+f, :] = 0\n",
    "\n",
    "    # Step 3 : Time masking\n",
    "    for i in range(time_mask_num):\n",
    "        t = np.random.uniform(low=0.0, high=time_masking_para)\n",
    "        t = int(t)\n",
    "        t0 = random.randint(0, tau-t)\n",
    "        warped_mel_spectrogram[:, :, t0:t0+t] = 0\n",
    "\n",
    "    return warped_mel_spectrogram"
   ]
  },
  {
   "cell_type": "markdown",
   "id": "4250246b",
   "metadata": {
    "ExecuteTime": {
     "end_time": "2022-10-20T11:32:08.657094Z",
     "start_time": "2022-10-20T11:32:08.655073Z"
    }
   },
   "source": [
    "# Visualize Spectograms"
   ]
  },
  {
   "cell_type": "code",
   "execution_count": 20,
   "id": "5e5bfea4",
   "metadata": {
    "ExecuteTime": {
     "end_time": "2022-10-23T22:18:15.530200Z",
     "start_time": "2022-10-23T22:18:15.502431Z"
    }
   },
   "outputs": [
    {
     "data": {
      "text/html": [
       "<div>\n",
       "<style scoped>\n",
       "    .dataframe tbody tr th:only-of-type {\n",
       "        vertical-align: middle;\n",
       "    }\n",
       "\n",
       "    .dataframe tbody tr th {\n",
       "        vertical-align: top;\n",
       "    }\n",
       "\n",
       "    .dataframe thead th {\n",
       "        text-align: right;\n",
       "    }\n",
       "</style>\n",
       "<table border=\"1\" class=\"dataframe\">\n",
       "  <thead>\n",
       "    <tr style=\"text-align: right;\">\n",
       "      <th></th>\n",
       "      <th>namefile</th>\n",
       "      <th>dir</th>\n",
       "      <th>start</th>\n",
       "      <th>end</th>\n",
       "      <th>pos_ini</th>\n",
       "      <th>pos_fin</th>\n",
       "      <th>labels</th>\n",
       "    </tr>\n",
       "  </thead>\n",
       "  <tbody>\n",
       "    <tr>\n",
       "      <th>31</th>\n",
       "      <td>012213d40662f86e8f775379bbf94dec</td>\n",
       "      <td>../input/datathon2022/dataset1/012213d40662f86...</td>\n",
       "      <td>62.0</td>\n",
       "      <td>64.0</td>\n",
       "      <td>3100000</td>\n",
       "      <td>3200000</td>\n",
       "      <td>[whistle]</td>\n",
       "    </tr>\n",
       "    <tr>\n",
       "      <th>186</th>\n",
       "      <td>0159af9f3ca04ada46f0c353ac210bb8</td>\n",
       "      <td>../input/datathon2022/dataset1/0159af9f3ca04ad...</td>\n",
       "      <td>78.0</td>\n",
       "      <td>80.0</td>\n",
       "      <td>3900000</td>\n",
       "      <td>4000000</td>\n",
       "      <td>[cetaceans_allfreq]</td>\n",
       "    </tr>\n",
       "    <tr>\n",
       "      <th>187</th>\n",
       "      <td>0159af9f3ca04ada46f0c353ac210bb8</td>\n",
       "      <td>../input/datathon2022/dataset1/0159af9f3ca04ad...</td>\n",
       "      <td>80.0</td>\n",
       "      <td>82.0</td>\n",
       "      <td>4000000</td>\n",
       "      <td>4100000</td>\n",
       "      <td>[cetaceans_allfreq]</td>\n",
       "    </tr>\n",
       "    <tr>\n",
       "      <th>188</th>\n",
       "      <td>0159af9f3ca04ada46f0c353ac210bb8</td>\n",
       "      <td>../input/datathon2022/dataset1/0159af9f3ca04ad...</td>\n",
       "      <td>82.0</td>\n",
       "      <td>84.0</td>\n",
       "      <td>4100000</td>\n",
       "      <td>4200000</td>\n",
       "      <td>[cetaceans_allfreq]</td>\n",
       "    </tr>\n",
       "    <tr>\n",
       "      <th>189</th>\n",
       "      <td>0159af9f3ca04ada46f0c353ac210bb8</td>\n",
       "      <td>../input/datathon2022/dataset1/0159af9f3ca04ad...</td>\n",
       "      <td>84.0</td>\n",
       "      <td>86.0</td>\n",
       "      <td>4200000</td>\n",
       "      <td>4300000</td>\n",
       "      <td>[cetaceans_allfreq]</td>\n",
       "    </tr>\n",
       "  </tbody>\n",
       "</table>\n",
       "</div>"
      ],
      "text/plain": [
       "                             namefile                                                dir  start   end  pos_ini  pos_fin               labels\n",
       "31   012213d40662f86e8f775379bbf94dec  ../input/datathon2022/dataset1/012213d40662f86...   62.0  64.0  3100000  3200000            [whistle]\n",
       "186  0159af9f3ca04ada46f0c353ac210bb8  ../input/datathon2022/dataset1/0159af9f3ca04ad...   78.0  80.0  3900000  4000000  [cetaceans_allfreq]\n",
       "187  0159af9f3ca04ada46f0c353ac210bb8  ../input/datathon2022/dataset1/0159af9f3ca04ad...   80.0  82.0  4000000  4100000  [cetaceans_allfreq]\n",
       "188  0159af9f3ca04ada46f0c353ac210bb8  ../input/datathon2022/dataset1/0159af9f3ca04ad...   82.0  84.0  4100000  4200000  [cetaceans_allfreq]\n",
       "189  0159af9f3ca04ada46f0c353ac210bb8  ../input/datathon2022/dataset1/0159af9f3ca04ad...   84.0  86.0  4200000  4300000  [cetaceans_allfreq]"
      ]
     },
     "execution_count": 20,
     "metadata": {},
     "output_type": "execute_result"
    }
   ],
   "source": [
    "df_train[df_train.labels.astype(str)!='[]'].head()"
   ]
  },
  {
   "cell_type": "code",
   "execution_count": 21,
   "id": "e3011fae",
   "metadata": {
    "ExecuteTime": {
     "end_time": "2022-10-23T22:18:16.672702Z",
     "start_time": "2022-10-23T22:18:15.531356Z"
    }
   },
   "outputs": [
    {
     "name": "stdout",
     "output_type": "stream",
     "text": [
      "namefile                     0159af9f3ca04ada46f0c353ac210bb8\n",
      "dir         ../input/datathon2022/dataset1/0159af9f3ca04ad...\n",
      "start                                                    80.0\n",
      "end                                                      82.0\n",
      "pos_ini                                               4000000\n",
      "pos_fin                                               4100000\n",
      "labels                                    [cetaceans_allfreq]\n",
      "Name: 187, dtype: object\n"
     ]
    },
    {
     "data": {
      "image/png": "[encoded data removed]",
      "text/plain": [
       "<Figure size 640x480 with 1 Axes>"
      ]
     },
     "metadata": {},
     "output_type": "display_data"
    }
   ],
   "source": [
    "record = df_train[df_train.labels.astype(str)!='[]'].iloc[2]\n",
    "y, sr = sf.read(record['dir'])\n",
    "# y = y * 15 #(y-np.mean(y))/np.std(y)\n",
    "plt.plot(y)\n",
    "plt.title(f'Nombre={name_file.split(\"/\")[-1]} sr={sr} len_y={len(y)/sr} seg')\n",
    "print(record)"
   ]
  },
  {
   "cell_type": "code",
   "execution_count": 22,
   "id": "b78daa95",
   "metadata": {
    "ExecuteTime": {
     "end_time": "2022-10-23T22:18:16.676599Z",
     "start_time": "2022-10-23T22:18:16.674054Z"
    }
   },
   "outputs": [],
   "source": [
    "lencrop = 50000*10 #\n",
    "pos_ini = np.random.randint(0,len(y)-lencrop)\n",
    "pos_fin = pos_ini + lencrop\n",
    "y_crop = y[pos_ini:pos_fin]"
   ]
  },
  {
   "cell_type": "code",
   "execution_count": 23,
   "id": "21a34fda",
   "metadata": {
    "ExecuteTime": {
     "end_time": "2022-10-23T22:18:17.311190Z",
     "start_time": "2022-10-23T22:18:16.677795Z"
    }
   },
   "outputs": [],
   "source": [
    "# from matplotlib.patches import Rectangle\n",
    "\n",
    "# fft = {\n",
    "#     'n_fft' : 512, #16384, #384000 // 2 // 512 * 16, # 512 * 2\n",
    "#     'hop_length' : 512 // 3, #00 * 0.01, #256, #345 * 2, # 320\n",
    "#     'fmin' : 0,\n",
    "#     'fmax' : 40960, #384000 // 4,\n",
    "#     'step_fft_time': 1,\n",
    "# }\n",
    "\n",
    "    \n",
    "# f_min = fft['fmin']\n",
    "# f_max = fft['fmax']\n",
    "# max_record_time = len(y_crop) / sr\n",
    "# # t_min = np.random.random(1)[0]*float(max_record_time-tramo_length)\n",
    "# # t_max = t_min+fft['tramo_length']\n",
    "# t_min = 0\n",
    "# t_max = tramo_length\n",
    "\n",
    "# # Frecuencias\n",
    "# frecuencias = np.arange(0, 1 + fft['n_fft'] / 2) * sr / fft['n_fft']\n",
    "# indices_freq = (frecuencias >= f_min) & (frecuencias <= f_max)\n",
    "\n",
    "# # Tiempos \n",
    "# tiempo = np.linspace(0, max_record_time, int(1+sr*max_record_time // fft['hop_length']))\n",
    "# indices_tiempo = (tiempo >= t_min) & (tiempo <= t_max)\n",
    "            \n",
    "# # Visualizamos el ffttrograma completo\n",
    "# se = Spectrogram(n_fft=fft['n_fft'], hop_length=fft['hop_length'])\n",
    "# amplitude_to_db = AmplitudeToDB()\n",
    "# img = se.forward(input=torch.from_numpy(y_crop).float().unsqueeze(0))\n",
    "# img = amplitude_to_db(img.squeeze(0))\n",
    "# img = img.transpose(1,2).squeeze(0)\n",
    "# ax, fig = plt.subplots(figsize=(15,10))\n",
    "# librosa.display.specshow(img.numpy(), sr=sr, x_axis='time', y_axis='linear', hop_length=fft['hop_length']);\n",
    "# plt.title(f'ffttograma de la señal completa {img.shape}')\n"
   ]
  },
  {
   "cell_type": "code",
   "execution_count": 24,
   "id": "5aeb6b3a-86c0-4b80-8dd7-9ba38af70173",
   "metadata": {
    "ExecuteTime": {
     "end_time": "2022-10-23T22:18:17.874251Z",
     "start_time": "2022-10-23T22:18:17.312563Z"
    }
   },
   "outputs": [
    {
     "name": "stdout",
     "output_type": "stream",
     "text": [
      "FFT\n"
     ]
    }
   ],
   "source": [
    "#########################################\n",
    "print(\"FFT\")\n",
    "\n",
    "def fft_img(y):\n",
    "    # Visualizamos el spectrograma completo\n",
    "    # Con 0.50 Segundos\n",
    "#     se = Spectrogram(n_fft=1024, hop_length=1024 // 32)\n",
    "    # Con 10 segundos\n",
    "    se = Spectrogram(n_fft=1024, hop_length=975, power=3)\n",
    "    amplitude_to_db = AmplitudeToDB()\n",
    "    img = se.forward(input=torch.from_numpy(y).float().unsqueeze(0))\n",
    "    img = img.squeeze(0)\n",
    "    img = amplitude_to_db(img.squeeze(0))\n",
    "    img = img.transpose(0,1)\n",
    "    return img\n",
    "\n",
    "# img = fft_img(y_crop)\n",
    "# print(img.min(), img.max())\n",
    "# plt.figure(figsize=(10,10))\n",
    "# plt.imshow(img.squeeze(0).numpy())\n",
    "# # plt.imshow(img.transpose(1,2).squeeze(0).numpy())\n",
    "# plt.title(f'FFT -> {img.shape}')\n",
    "# plt.show()\n",
    "   "
   ]
  },
  {
   "cell_type": "code",
   "execution_count": 25,
   "id": "d028acc3-9a6f-4684-85df-1e4726159632",
   "metadata": {
    "ExecuteTime": {
     "end_time": "2022-10-23T22:18:19.062551Z",
     "start_time": "2022-10-23T22:18:17.896175Z"
    }
   },
   "outputs": [
    {
     "name": "stdout",
     "output_type": "stream",
     "text": [
      "CQT\n"
     ]
    }
   ],
   "source": [
    "#########################################\n",
    "print(\"CQT\")\n",
    "def cqt_img(y):\n",
    "    # Con 0.50 segundos\n",
    "#     transform_cqt_to_img = CQT1992v2(sr=50000, hop_length=32,\n",
    "#                                     fmin=30, n_bins=96, bins_per_octave=10,\n",
    "#                                      verbose=False)\n",
    "#     # Con 2 segundos\n",
    "    transform_cqt_to_img = CQT1992v2(sr=50000, hop_length=975,\n",
    "                                    fmin=30, n_bins=256, bins_per_octave=32,\n",
    "                                     verbose=False)\n",
    "    \n",
    "    img = torch.from_numpy(y).float().unsqueeze(0)\n",
    "    img = transform_cqt_to_img(img).squeeze().numpy()\n",
    "#     print(img.shape)\n",
    "    img = transforms.ToPILImage()(torch.from_numpy(img).float())\n",
    "    img = transforms.Resize((513,513))(img)\n",
    "    img = transforms.ToTensor()(img)\n",
    "    return img.squeeze()\n",
    "\n",
    "# img = cqt_img(y_crop)\n",
    "# # print(img.min(), img.max())\n",
    "# plt.figure(figsize=(7,7))\n",
    "# plt.pcolormesh(img)\n",
    "# plt.title(f'CQT -> {img.shape}')\n",
    "# plt.show()"
   ]
  },
  {
   "cell_type": "markdown",
   "id": "3a60a007",
   "metadata": {},
   "source": [
    "# DataLoaders"
   ]
  },
  {
   "cell_type": "code",
   "execution_count": 26,
   "id": "317a7ae4",
   "metadata": {
    "ExecuteTime": {
     "end_time": "2022-10-23T22:18:19.104522Z",
     "start_time": "2022-10-23T22:18:19.092295Z"
    }
   },
   "outputs": [
    {
     "data": {
      "text/html": [
       "<div>\n",
       "<style scoped>\n",
       "    .dataframe tbody tr th:only-of-type {\n",
       "        vertical-align: middle;\n",
       "    }\n",
       "\n",
       "    .dataframe tbody tr th {\n",
       "        vertical-align: top;\n",
       "    }\n",
       "\n",
       "    .dataframe thead th {\n",
       "        text-align: right;\n",
       "    }\n",
       "</style>\n",
       "<table border=\"1\" class=\"dataframe\">\n",
       "  <thead>\n",
       "    <tr style=\"text-align: right;\">\n",
       "      <th></th>\n",
       "      <th>path</th>\n",
       "      <th>start</th>\n",
       "      <th>duration</th>\n",
       "      <th>end</th>\n",
       "      <th>label</th>\n",
       "      <th>len_audio</th>\n",
       "      <th>sr_audio</th>\n",
       "      <th>seconds_audio</th>\n",
       "      <th>dir</th>\n",
       "      <th>clase</th>\n",
       "      <th>pos_ini</th>\n",
       "      <th>pos_fin</th>\n",
       "      <th>clase_num</th>\n",
       "    </tr>\n",
       "  </thead>\n",
       "  <tbody>\n",
       "    <tr>\n",
       "      <th>0</th>\n",
       "      <td>012213d40662f86e8f775379bbf94dec</td>\n",
       "      <td>61.186</td>\n",
       "      <td>2.500</td>\n",
       "      <td>63.686</td>\n",
       "      <td>whistle</td>\n",
       "      <td>14700000</td>\n",
       "      <td>50000</td>\n",
       "      <td>294.0</td>\n",
       "      <td>../input/datathon2022/dataset1/012213d40662f86...</td>\n",
       "      <td>whistle</td>\n",
       "      <td>3059300.0</td>\n",
       "      <td>3184300.0</td>\n",
       "      <td>0</td>\n",
       "    </tr>\n",
       "    <tr>\n",
       "      <th>1</th>\n",
       "      <td>0159af9f3ca04ada46f0c353ac210bb8</td>\n",
       "      <td>76.260</td>\n",
       "      <td>17.000</td>\n",
       "      <td>93.260</td>\n",
       "      <td>cetaceans_allfreq</td>\n",
       "      <td>14700000</td>\n",
       "      <td>50000</td>\n",
       "      <td>294.0</td>\n",
       "      <td>../input/datathon2022/dataset1/0159af9f3ca04ad...</td>\n",
       "      <td>cetaceans_allfreq</td>\n",
       "      <td>3813000.0</td>\n",
       "      <td>4663000.0</td>\n",
       "      <td>2</td>\n",
       "    </tr>\n",
       "    <tr>\n",
       "      <th>2</th>\n",
       "      <td>0159af9f3ca04ada46f0c353ac210bb8</td>\n",
       "      <td>161.482</td>\n",
       "      <td>1.000</td>\n",
       "      <td>162.482</td>\n",
       "      <td>click</td>\n",
       "      <td>14700000</td>\n",
       "      <td>50000</td>\n",
       "      <td>294.0</td>\n",
       "      <td>../input/datathon2022/dataset1/0159af9f3ca04ad...</td>\n",
       "      <td>click</td>\n",
       "      <td>8074100.0</td>\n",
       "      <td>8124100.0</td>\n",
       "      <td>1</td>\n",
       "    </tr>\n",
       "    <tr>\n",
       "      <th>3</th>\n",
       "      <td>0271a0818427d7fae7afde67bf49ba30</td>\n",
       "      <td>91.563</td>\n",
       "      <td>1.000</td>\n",
       "      <td>92.563</td>\n",
       "      <td>click</td>\n",
       "      <td>14700000</td>\n",
       "      <td>50000</td>\n",
       "      <td>294.0</td>\n",
       "      <td>../input/datathon2022/dataset1/0271a0818427d7f...</td>\n",
       "      <td>click</td>\n",
       "      <td>4578150.0</td>\n",
       "      <td>4628150.0</td>\n",
       "      <td>1</td>\n",
       "    </tr>\n",
       "    <tr>\n",
       "      <th>4</th>\n",
       "      <td>0271a0818427d7fae7afde67bf49ba30</td>\n",
       "      <td>125.627</td>\n",
       "      <td>1.316</td>\n",
       "      <td>126.943</td>\n",
       "      <td>click</td>\n",
       "      <td>14700000</td>\n",
       "      <td>50000</td>\n",
       "      <td>294.0</td>\n",
       "      <td>../input/datathon2022/dataset1/0271a0818427d7f...</td>\n",
       "      <td>click</td>\n",
       "      <td>6281350.0</td>\n",
       "      <td>6347150.0</td>\n",
       "      <td>1</td>\n",
       "    </tr>\n",
       "  </tbody>\n",
       "</table>\n",
       "</div>"
      ],
      "text/plain": [
       "                               path    start  duration      end              label  len_audio  sr_audio  seconds_audio                                                dir              clase    pos_ini    pos_fin  clase_num\n",
       "0  012213d40662f86e8f775379bbf94dec   61.186     2.500   63.686            whistle   14700000     50000          294.0  ../input/datathon2022/dataset1/012213d40662f86...            whistle  3059300.0  3184300.0          0\n",
       "1  0159af9f3ca04ada46f0c353ac210bb8   76.260    17.000   93.260  cetaceans_allfreq   14700000     50000          294.0  ../input/datathon2022/dataset1/0159af9f3ca04ad...  cetaceans_allfreq  3813000.0  4663000.0          2\n",
       "2  0159af9f3ca04ada46f0c353ac210bb8  161.482     1.000  162.482              click   14700000     50000          294.0  ../input/datathon2022/dataset1/0159af9f3ca04ad...              click  8074100.0  8124100.0          1\n",
       "3  0271a0818427d7fae7afde67bf49ba30   91.563     1.000   92.563              click   14700000     50000          294.0  ../input/datathon2022/dataset1/0271a0818427d7f...              click  4578150.0  4628150.0          1\n",
       "4  0271a0818427d7fae7afde67bf49ba30  125.627     1.316  126.943              click   14700000     50000          294.0  ../input/datathon2022/dataset1/0271a0818427d7f...              click  6281350.0  6347150.0          1"
      ]
     },
     "execution_count": 26,
     "metadata": {},
     "output_type": "execute_result"
    }
   ],
   "source": [
    "df.head()"
   ]
  },
  {
   "cell_type": "code",
   "execution_count": 27,
   "id": "5aef4bfa",
   "metadata": {
    "ExecuteTime": {
     "end_time": "2022-10-23T22:18:24.502230Z",
     "start_time": "2022-10-23T22:18:19.105390Z"
    }
   },
   "outputs": [],
   "source": [
    "class SedDataset:\n",
    "    def __init__(self, df, audio_transform=None, modo=\"train\"):\n",
    "        self.audio_transform = audio_transform\n",
    "        self.modo = modo\n",
    "        self.df = df\n",
    "        self.lencrop = 50000 * 10 #10 secs\n",
    "\n",
    "    def __len__(self):\n",
    "        return len(self.df)\n",
    "    \n",
    "    def __getitem__(self, idx):\n",
    "        global tramo_length\n",
    "        record = self.df.iloc[idx]\n",
    "        name_file = record['path']\n",
    "        namedir = record['dir']\n",
    "        len_audio = record['len_audio']\n",
    "        \n",
    "        if self.modo == \"train\" or self.modo=='valid':\n",
    "            pos_ini = record['pos_ini'] - np.random.randint(0, self.lencrop)\n",
    "            pos_fin = pos_ini + self.lencrop\n",
    "            \n",
    "            if pos_ini<0:\n",
    "                pos_ini=0\n",
    "                pos_fin = self.lencrop\n",
    "            elif pos_fin>len_audio:\n",
    "                pos_fin = len_audio\n",
    "                pos_ini = len_audio - self.lencrop\n",
    "        else:\n",
    "            pos_ini = record['pos_ini']\n",
    "            pos_fin = record['pos_fin']\n",
    "            \n",
    "        y, sr = sf.read(namedir, start=int(pos_ini), stop=int(pos_fin))\n",
    "\n",
    "        # Agumentation in audio\n",
    "        if self.audio_transform:\n",
    "            y = self.audio_transform(samples=y, sample_rate=sr)\n",
    "\n",
    "        img_fft = fft_img(y)\n",
    "        img_cqt = cqt_img(y)\n",
    "        # Specaugment\n",
    "        img_fft = img_fft.unsqueeze(0)\n",
    "        img_cqt = img_cqt.unsqueeze(0)\n",
    "        \n",
    "        if self.modo=='train' and SPECAUGMENT:\n",
    "            img_fft = spec_augment(img_fft, time_warping_para=1, \n",
    "                               time_masking_para=36,  time_mask_num=2,\n",
    "                               frequency_masking_para=36, frequency_mask_num=2)\n",
    "            img_cqt = spec_augment(img_cqt, time_warping_para=1, \n",
    "                               time_masking_para=36,  time_mask_num=2,\n",
    "                               frequency_masking_para=36, frequency_mask_num=2)\n",
    "\n",
    "        labels = 0\n",
    "        if self.modo=='train' or self.modo=='valid':\n",
    "            dentro_caja = df.query('path == @name_file & pos_ini > @pos_ini & pos_ini < @pos_fin')\n",
    "            indices = np.linspace(pos_ini, pos_fin, 513)\n",
    "            labels = np.zeros((513, 4))\n",
    "            for nrow, row in dentro_caja.iterrows():\n",
    "                pos_ini_label = row['pos_ini']\n",
    "                pos_fin_label = row['pos_fin']\n",
    "                label = row['label']\n",
    "                labels[(indices>=pos_ini_label) & (indices<=pos_fin_label), clases_num[label]] = 1.0\n",
    "                \n",
    "        return {\"img_fft\" : img_fft, \"img_cqt\" : img_cqt, \"target\" : labels, 'filename' : record['dir']}\n",
    "    \n",
    "# SPECAUGMENT = False\n",
    "# # Prueba visualiza imagenes y tamanio\n",
    "# # -----------------------------------\n",
    "# seed_everything(1234)\n",
    "# trainset = SedDataset(\n",
    "#         df = df.sample(4),\n",
    "# #         audio_transform=train_audio_transform,\n",
    "#         audio_transform=None, \n",
    "#         modo=\"train\"\n",
    "#     )\n",
    "# train_loader = DataLoader(trainset, batch_size=2, shuffle=True, drop_last=True, num_workers=0)\n",
    "# for entrada in tqdm(train_loader):\n",
    "# #     print(entrada['image'].shape)\n",
    "#     print(entrada['target'].cpu().numpy()[0])\n",
    "# #     print(entrada['filename'])\n",
    "#     fig, ax = plt.subplots(2,1,figsize=(20,10))\n",
    "#     ax[0].imshow(entrada['img_fft'].cpu().numpy()[0,0,:,:])\n",
    "#     ax[1].imshow(entrada['img_cqt'].cpu().numpy()[0,0,:,:])\n",
    "#     plt.title(entrada['filename'][0].split('/')[-1])\n",
    "#     plt.show()"
   ]
  },
  {
   "cell_type": "markdown",
   "id": "c2c673ab",
   "metadata": {
    "ExecuteTime": {
     "end_time": "2022-10-23T16:28:21.980655Z",
     "start_time": "2022-10-23T16:28:21.977569Z"
    }
   },
   "source": [
    "# PANN Functions"
   ]
  },
  {
   "cell_type": "markdown",
   "id": "8fe01ad9",
   "metadata": {
    "ExecuteTime": {
     "end_time": "2022-10-23T16:29:03.841263Z",
     "start_time": "2022-10-23T16:29:03.830474Z"
    }
   },
   "source": [
    "-> [PANNs repository](https://github.com/qiuqiangkong/audioset_tagging_cnn/)\n",
    "\n",
    "-> [PANNs paper](https://arxiv.org/abs/1912.10211)"
   ]
  },
  {
   "cell_type": "code",
   "execution_count": 28,
   "id": "260c0ba2",
   "metadata": {
    "ExecuteTime": {
     "end_time": "2022-10-23T22:18:24.515702Z",
     "start_time": "2022-10-23T22:18:24.503563Z"
    }
   },
   "outputs": [],
   "source": [
    "def init_layer(layer):\n",
    "    nn.init.xavier_uniform_(layer.weight)\n",
    "\n",
    "    if hasattr(layer, \"bias\"):\n",
    "        if layer.bias is not None:\n",
    "            layer.bias.data.fill_(0.)\n",
    "\n",
    "\n",
    "def init_bn(bn):\n",
    "    bn.bias.data.fill_(0.)\n",
    "    bn.weight.data.fill_(1.0)\n",
    "\n",
    "\n",
    "def init_weights(model):\n",
    "    classname = model.__class__.__name__\n",
    "    if classname.find(\"Conv2d\") != -1:\n",
    "        nn.init.xavier_uniform_(model.weight, gain=np.sqrt(2))\n",
    "        model.bias.data.fill_(0)\n",
    "    elif classname.find(\"BatchNorm\") != -1:\n",
    "        model.weight.data.normal_(1.0, 0.02)\n",
    "        model.bias.data.fill_(0)\n",
    "    elif classname.find(\"GRU\") != -1:\n",
    "        for weight in model.parameters():\n",
    "            if len(weight.size()) > 1:\n",
    "                nn.init.orghogonal_(weight.data)\n",
    "    elif classname.find(\"Linear\") != -1:\n",
    "        model.weight.data.normal_(0, 0.01)\n",
    "        model.bias.data.zero_()\n",
    "\n",
    "def do_mixup(x: torch.Tensor, mixup_lambda: torch.Tensor):\n",
    "    \"\"\"Mixup x of even indexes (0, 2, 4, ...) with x of odd indexes\n",
    "    (1, 3, 5, ...).\n",
    "    Args:\n",
    "      x: (batch_size * 2, ...)\n",
    "      mixup_lambda: (batch_size * 2,)\n",
    "    Returns:\n",
    "      out: (batch_size, ...)\n",
    "    \"\"\"\n",
    "    out = (x[0::2].transpose(0, -1) * mixup_lambda[0::2] +\n",
    "           x[1::2].transpose(0, -1) * mixup_lambda[1::2]).transpose(0, -1)\n",
    "    return out\n",
    "\n",
    "\n",
    "class Mixup(object):\n",
    "    def __init__(self, mixup_alpha, random_seed=1234):\n",
    "        \"\"\"Mixup coefficient generator.\n",
    "        \"\"\"\n",
    "        self.mixup_alpha = mixup_alpha\n",
    "        self.random_state = np.random.RandomState(random_seed)\n",
    "\n",
    "    def get_lambda(self, batch_size):\n",
    "        \"\"\"Get mixup random coefficients.\n",
    "        Args:\n",
    "          batch_size: int\n",
    "        Returns:\n",
    "          mixup_lambdas: (batch_size,)\n",
    "        \"\"\"\n",
    "        mixup_lambdas = []\n",
    "        for n in range(0, batch_size, 2):\n",
    "            lam = self.random_state.beta(self.mixup_alpha, self.mixup_alpha, 1)[0]\n",
    "            mixup_lambdas.append(lam)\n",
    "            mixup_lambdas.append(1. - lam)\n",
    "\n",
    "        return torch.from_numpy(np.array(mixup_lambdas, dtype=np.float32))\n",
    "\n",
    "def interpolate(x: torch.Tensor, ratio: int):\n",
    "    \"\"\"Interpolate data in time domain. This is used to compensate the\n",
    "    resolution reduction in downsampling of a CNN.\n",
    "    Args:\n",
    "      x: (batch_size, time_steps, classes_num)\n",
    "      ratio: int, ratio to interpolate\n",
    "    Returns:\n",
    "      upsampled: (batch_size, time_steps * ratio, classes_num)\n",
    "    \"\"\"\n",
    "    (batch_size, time_steps, classes_num) = x.shape\n",
    "    upsampled = x[:, :, None, :].repeat(1, 1, ratio, 1)\n",
    "    upsampled = upsampled.reshape(batch_size, time_steps * ratio, classes_num)\n",
    "    return upsampled\n",
    "\n",
    "\n",
    "def pad_framewise_output(framewise_output: torch.Tensor, frames_num: int):\n",
    "    \"\"\"Pad framewise_output to the same length as input frames. The pad value\n",
    "    is the same as the value of the last frame.\n",
    "    Args:\n",
    "      framewise_output: (batch_size, frames_num, classes_num)\n",
    "      frames_num: int, number of frames to pad\n",
    "    Outputs:\n",
    "      output: (batch_size, frames_num, classes_num)\n",
    "    \"\"\"\n",
    "    pad = framewise_output[:, -1:, :].repeat(\n",
    "        1, frames_num - framewise_output.shape[1], 1)\n",
    "    \"\"\"tensor for padding\"\"\"\n",
    "\n",
    "    output = torch.cat((framewise_output, pad), dim=1)\n",
    "    \"\"\"(batch_size, frames_num, classes_num)\"\"\"\n",
    "\n",
    "    return output\n",
    "\n",
    "\n",
    "class ConvBlock(nn.Module):\n",
    "    def __init__(self, in_channels: int, out_channels: int):\n",
    "        super().__init__()\n",
    "\n",
    "        self.conv1 = nn.Conv2d(\n",
    "            in_channels=in_channels,\n",
    "            out_channels=out_channels,\n",
    "            kernel_size=(3, 3),\n",
    "            stride=(1, 1),\n",
    "            padding=(1, 1),\n",
    "            bias=False)\n",
    "\n",
    "        self.conv2 = nn.Conv2d(\n",
    "            in_channels=out_channels,\n",
    "            out_channels=out_channels,\n",
    "            kernel_size=(3, 3),\n",
    "            stride=(1, 1),\n",
    "            padding=(1, 1),\n",
    "            bias=False)\n",
    "\n",
    "        self.bn1 = nn.BatchNorm2d(out_channels)\n",
    "        self.bn2 = nn.BatchNorm2d(out_channels)\n",
    "\n",
    "        self.init_weight()\n",
    "\n",
    "    def init_weight(self):\n",
    "        init_layer(self.conv1)\n",
    "        init_layer(self.conv2)\n",
    "        init_bn(self.bn1)\n",
    "        init_bn(self.bn2)\n",
    "\n",
    "    def forward(self, input, pool_size=(2, 2), pool_type='avg'):\n",
    "\n",
    "        x = input\n",
    "        x = F.relu_(self.bn1(self.conv1(x)))\n",
    "        x = F.relu_(self.bn2(self.conv2(x)))\n",
    "        if pool_type == 'max':\n",
    "            x = F.max_pool2d(x, kernel_size=pool_size)\n",
    "        elif pool_type == 'avg':\n",
    "            x = F.avg_pool2d(x, kernel_size=pool_size)\n",
    "        elif pool_type == 'avg+max':\n",
    "            x1 = F.avg_pool2d(x, kernel_size=pool_size)\n",
    "            x2 = F.max_pool2d(x, kernel_size=pool_size)\n",
    "            x = x1 + x2\n",
    "        else:\n",
    "            raise Exception('Incorrect argument!')\n",
    "\n",
    "        return x\n",
    "\n",
    "\n",
    "class AttBlock(nn.Module):\n",
    "    def __init__(self,\n",
    "                 in_features: int,\n",
    "                 out_features: int,\n",
    "                 activation=\"linear\",\n",
    "                 temperature=1.0):\n",
    "        super().__init__()\n",
    "\n",
    "        self.activation = activation\n",
    "        self.temperature = temperature\n",
    "        self.att = nn.Conv1d(\n",
    "            in_channels=in_features,\n",
    "            out_channels=out_features,\n",
    "            kernel_size=1,\n",
    "            stride=1,\n",
    "            padding=0,\n",
    "            bias=True)\n",
    "        self.cla = nn.Conv1d(\n",
    "            in_channels=in_features,\n",
    "            out_channels=out_features,\n",
    "            kernel_size=1,\n",
    "            stride=1,\n",
    "            padding=0,\n",
    "            bias=True)\n",
    "\n",
    "        self.bn_att = nn.BatchNorm1d(out_features)\n",
    "        self.init_weights()\n",
    "\n",
    "    def init_weights(self):\n",
    "        init_layer(self.att)\n",
    "        init_layer(self.cla)\n",
    "        init_bn(self.bn_att)\n",
    "\n",
    "    def forward(self, x):\n",
    "        # x: (n_samples, n_in, n_time)\n",
    "        norm_att = torch.softmax(torch.clamp(self.att(x), -10, 10), dim=-1)\n",
    "#         norm_att = torch.softmax(torch.tanh(self.att(x)), dim=-1)\n",
    "        cla = self.nonlinear_transform(self.cla(x))\n",
    "        x = torch.sum(norm_att * cla, dim=2)\n",
    "        return x, norm_att, cla\n",
    "\n",
    "    def nonlinear_transform(self, x):\n",
    "        if self.activation == 'linear':\n",
    "            return x\n",
    "        elif self.activation == 'sigmoid':\n",
    "            return torch.sigmoid(x)\n",
    "        "
   ]
  },
  {
   "cell_type": "markdown",
   "id": "39e2371c",
   "metadata": {},
   "source": [
    "# Model SED"
   ]
  },
  {
   "attachments": {
    "imagen.png": {
     "image/png": "[encoded data removed]"
    }
   },
   "cell_type": "markdown",
   "id": "4655eb7b",
   "metadata": {
    "ExecuteTime": {
     "end_time": "2022-10-23T16:26:45.311224Z",
     "start_time": "2022-10-23T16:26:45.302956Z"
    }
   },
   "source": [
    "1. Model takes raw waveform and converted into log-melspectogram using `torchlibrosa`'s module\n",
    "2. spectogram converted into 3-channels input for ImageNet pretrain model to extract features from CNN's\n",
    "3. Although it's downsized through several convolution and pooling layers, the size of it's third dimension and it still contains time information. Each element of this dimension is segment. In SED model, we provide prediction for each of this.\n",
    "![imagen.png](attachment:imagen.png)\n",
    "\n",
    "\n",
    "4. This figure gives us an intuitive explanation what is weak annotation and what is strong annotation in terms of sound event detection. For this competition, we only have weak annotation (clip level annotation). Therefore, we need to train our SED model in weakly-supervised manner.\n",
    "\n",
    "5. In weakly-supervised setting, we only have clip-level annotation, therefore we also need to aggregate that in time axis. Hense, we at first put classifier that outputs class existence probability for each time step just after the feature extractor and then aggregate the output of the classifier result in time axis. In this way we can get both clip-level prediction and segment-level prediction (if the time resolution is high, it can be treated as event-level prediction). Then we train it normally by using BCE loss with clip-level prediction and clip-level annotation.\n"
   ]
  },
  {
   "cell_type": "code",
   "execution_count": 29,
   "id": "8ae96af4",
   "metadata": {
    "ExecuteTime": {
     "end_time": "2022-10-23T22:18:24.531637Z",
     "start_time": "2022-10-23T22:18:24.516538Z"
    }
   },
   "outputs": [],
   "source": [
    "encoder_params = {\n",
    "    \"tf_efficientnet_b0_ns\": {\n",
    "        \"features\": 1280,\n",
    "        \"init_op\": partial(tf_efficientnet_b0_ns, pretrained=True, drop_path_rate=0.2)\n",
    "    },\n",
    "    \"tf_efficientnet_b1_ns\": {\n",
    "        \"features\": 1280,\n",
    "        \"init_op\": partial(tf_efficientnet_b1_ns, pretrained=True, drop_path_rate=0.2)\n",
    "    },\n",
    "    \"tf_efficientnet_b2_ns\": {\n",
    "        \"features\": 1408,\n",
    "        \"init_op\": partial(tf_efficientnet_b2_ns, pretrained=True, drop_path_rate=0.2)\n",
    "    },\n",
    "    \"tf_efficientnet_b3_ns\": {\n",
    "        \"features\": 1536,\n",
    "        \"init_op\": partial(tf_efficientnet_b3_ns, pretrained=True, drop_path_rate=0.2)\n",
    "    },\n",
    "    \"tf_efficientnet_b4_ns\": {\n",
    "        \"features\": 1792,\n",
    "        \"init_op\": partial(tf_efficientnet_b4_ns, pretrained=True, drop_path_rate=0.2)\n",
    "    },\n",
    "    \"mobilenetv3_small_075\": {\n",
    "        \"features\": 1024,\n",
    "        \"init_op\": partial(mobilenetv3_small_075, pretrained=True, drop_path_rate=0)\n",
    "    },\n",
    "    \"mobilenetv3_small_100\": {\n",
    "        \"features\": 1024,\n",
    "        \"init_op\": partial(mobilenetv3_small_100, pretrained=True, drop_path_rate=0)\n",
    "    },\n",
    "    \"mobilenetv3_large_075\": {\n",
    "        \"features\": 1280,\n",
    "        \"init_op\": partial(mobilenetv3_large_075, pretrained=True, drop_path_rate=0)\n",
    "    },\n",
    "    \"mobilenetv3_large_100\": {\n",
    "        \"features\": 1280,\n",
    "        \"init_op\": partial(mobilenetv3_large_100, pretrained=True, drop_path_rate=0)\n",
    "    },\n",
    "    \"resnest50d\": {\n",
    "        \"features\": 2048,\n",
    "        \"init_op\": partial(resnest50d, pretrained=True, drop_path_rate=0)\n",
    "    },\n",
    "    \"resnest101e\": {\n",
    "        \"features\": 2048,\n",
    "        \"init_op\": partial(resnest101e, pretrained=True, drop_path_rate=0)\n",
    "    },\n",
    "    \"resnest200e\": {\n",
    "        \"features\": 2048,\n",
    "        \"init_op\": partial(resnest200e, pretrained=True, drop_path_rate=0)\n",
    "    },\n",
    "}"
   ]
  },
  {
   "cell_type": "code",
   "execution_count": 30,
   "id": "29bd615e-29ca-4be7-84d8-03014fa557aa",
   "metadata": {
    "ExecuteTime": {
     "end_time": "2022-10-23T22:18:24.545976Z",
     "start_time": "2022-10-23T22:18:24.532946Z"
    }
   },
   "outputs": [],
   "source": [
    "def Model_GlobalPool():\n",
    "    model = timm.create_model(arquitectura, pretrained=True, in_chans=1, num_classes=0, global_pool='avg')\n",
    "    return model\n",
    "\n",
    "class AudioSEDModel(nn.Module):\n",
    "    def __init__(self, encoder, classes_num):\n",
    "        super().__init__()\n",
    "\n",
    "        window = 'hann'\n",
    "        center = True\n",
    "        pad_mode = 'reflect'\n",
    "        ref = 1.0\n",
    "        amin = 1e-10\n",
    "        top_db = None\n",
    "        self.interpolate_ratio = 30  # Downsampled ratio\n",
    "\n",
    "#         # Spectrogram extractor\n",
    "#         self.spectrogram_extractor = Spectrogram(n_fft=window_size, hop_length=hop_size, \n",
    "#             win_length=window_size, window=window, center=center, pad_mode=pad_mode, \n",
    "#             freeze_parameters=True)\n",
    "\n",
    "#         # Logmel feature extractor\n",
    "#         self.logmel_extractor = LogmelFilterBank(sr=sample_rate, n_fft=window_size, \n",
    "#             n_mels=mel_bins, fmin=fmin, fmax=fmax, ref=ref, amin=amin, top_db=top_db, \n",
    "#             freeze_parameters=True)\n",
    "\n",
    "        # Spec augmenter\n",
    "        self.spec_augmenter = SpecAugmentation(time_drop_width=64, time_stripes_num=2, \n",
    "            freq_drop_width=8, freq_stripes_num=2)\n",
    "        \n",
    "#         # Model Encoders\n",
    "        self.encoder_fft = encoder_params[encoder][\"init_op\"]()\n",
    "        self.fce1_fft = nn.Linear(encoder_params[encoder][\"features\"], 1024, bias=True)\n",
    "        self.encoder_cqt = encoder_params[encoder][\"init_op\"]()\n",
    "        self.fce1_cqt = nn.Linear(encoder_params[encoder][\"features\"], 1024, bias=True)\n",
    "    \n",
    "        self.att_block1 = AttBlock(1024, classes_num, activation=\"sigmoid\")\n",
    "        self.att_block2 = AttBlock(1024, classes_num, activation=\"sigmoid\")\n",
    "        \n",
    "        self.bn0_fft = nn.BatchNorm2d(513)\n",
    "        self.bn0_cqt = nn.BatchNorm2d(513)\n",
    "#         self.init_weight()\n",
    "\n",
    "    def init_weight(self):\n",
    "        init_layer(self.fc1)\n",
    "        init_bn(self.bn0_fft)\n",
    "        init_bn(self.bn0_cqt)\n",
    "    \n",
    "    def forward(self, input_fft, input_cqt, mixup_lambda=None):\n",
    "        \"\"\"Input : (batch_size, data_length)\"\"\"\n",
    "\n",
    "#         x = self.spectrogram_extractor(input)\n",
    "        \n",
    "# #         # --------------------------\n",
    "# #         # High Contrast!!!\n",
    "# #         if self.training:\n",
    "# #             x = random_power(x, power = 2.0, c= 0.5)\n",
    "# #         else:\n",
    "# #             x = fixed_power(x, power = 2.0, c= 0.5)\n",
    "# #         # --------------------------\n",
    "        \n",
    "#         # batch_size x 1 x time_steps x freq_bins\n",
    "#         x = self.logmel_extractor(x)\n",
    "#         # batch_size x 1 x time_steps x mel_bins\n",
    "\n",
    "\n",
    "        frames_num = input_fft.shape[2] \n",
    "    \n",
    "        # FFT\n",
    "        # -----\n",
    "        input_fft = input_fft.transpose(1, 3)\n",
    "        input_fft = self.bn0_fft(input_fft)\n",
    "        input_fft = input_fft.transpose(1, 3)\n",
    "        \n",
    "\n",
    "        if self.training:\n",
    "            input_fft = self.spec_augmenter(input_fft)\n",
    "        \n",
    "        # Mixup on spectrogram\n",
    "        if self.training and mixup_lambda is not None:\n",
    "            input_fft = do_mixup(input_fft, mixup_lambda)\n",
    "        input_fft = input_fft.permute(0,1,3,2)\n",
    "        input_fft = input_fft.expand(input_fft.shape[0], 3, input_fft.shape[2], input_fft.shape[3])\n",
    "        input_fft = self.encoder_cqt.forward_features(input_fft)\n",
    "        input_fft = torch.mean(input_fft, dim=3)\n",
    "#         print(input_fft.shape)\n",
    "        \n",
    "        x1fft = F.max_pool1d(input_fft, kernel_size=3, stride=1, padding=1)\n",
    "        x2fft = F.avg_pool1d(input_fft, kernel_size=3, stride=1, padding=1)\n",
    "        xfft = x1fft + x2fft\n",
    "        xfft = F.dropout(xfft, p=0.5, training=self.training)\n",
    "        xfft = xfft.transpose(1, 2)\n",
    "        xfft = F.relu_(self.fce1_fft(xfft))\n",
    "        xfft = xfft.transpose(1, 2)\n",
    "        xfft = F.dropout(xfft, p=0.5, training=self.training)\n",
    "#         print(xfft.shape)   \n",
    "        \n",
    "        # CQT\n",
    "        # ---\n",
    "        input_cqt = input_cqt.transpose(1, 3)\n",
    "        input_cqt = self.bn0_cqt(input_cqt)\n",
    "        input_cqt = input_cqt.transpose(1, 3)\n",
    "        #print(x.shape)\n",
    "        if self.training:\n",
    "            input_cqt = self.spec_augmenter(input_cqt)\n",
    "        \n",
    "        # Mixup on spectrogram\n",
    "        if self.training and mixup_lambda is not None:\n",
    "            input_cqt = do_mixup(input_cqt, mixup_lambda)\n",
    "            \n",
    "        # Output shape (batch size, channels, time, frequency)\n",
    "#         input_cqt = input_cqt.expand(x.shape[0], 3, x.shape[2], x.shape[3])\n",
    "        input_cqt = input_cqt.permute(0,1,3,2)\n",
    "        input_cqt = input_cqt.expand(input_cqt.shape[0], 3, input_cqt.shape[2], input_cqt.shape[3])\n",
    "        input_cqt = self.encoder_cqt.forward_features(input_cqt)\n",
    "        input_cqt = torch.mean(input_cqt, dim=3)\n",
    "#         print(input_cqt.shape)\n",
    "        \n",
    "        x1cqt = F.max_pool1d(input_cqt, kernel_size=3, stride=1, padding=1)\n",
    "        x2cqt = F.avg_pool1d(input_cqt, kernel_size=3, stride=1, padding=1)\n",
    "        xcqt = x1cqt + x2cqt\n",
    "        xcqt = F.dropout(xcqt, p=0.5, training=self.training)\n",
    "        xcqt = xcqt.transpose(1, 2)\n",
    "        xcqt = F.relu_(self.fce1_cqt(xcqt))\n",
    "        xcqt = xcqt.transpose(1, 2)\n",
    "        xcqt = F.dropout(xcqt, p=0.5, training=self.training)\n",
    "#         print(xcqt.shape)     \n",
    "        \n",
    "        \n",
    "        (clipwise_output_fft, norm_att_fft, segmentwise_output_fft) = self.att_block1(xfft)\n",
    "        logitfft = torch.sum(norm_att_fft * self.att_block1.cla(xfft), dim=2)\n",
    "        segmentwise_outputfft = segmentwise_output_fft.transpose(1, 2)\n",
    "        # Get framewise output\n",
    "        framewise_outputfft = interpolate(segmentwise_outputfft,\n",
    "                                       self.interpolate_ratio)\n",
    "        framewise_outputfft = pad_framewise_output(framewise_outputfft, frames_num)\n",
    "\n",
    "        \n",
    "        (clipwise_output_cqt, norm_att_cqt, segmentwise_output_cqt) = self.att_block2(xcqt)\n",
    "        logitcqt = torch.sum(norm_att_cqt * self.att_block2.cla(xcqt), dim=2)\n",
    "        segmentwise_outputcqt = segmentwise_output_cqt.transpose(1, 2)\n",
    "        \n",
    "        # Get framewise output\n",
    "        framewise_outputcqt = interpolate(segmentwise_outputcqt,\n",
    "                                       self.interpolate_ratio)\n",
    "        framewise_outputcqt = pad_framewise_output(framewise_outputcqt, frames_num)\n",
    "        \n",
    "        framewise_output = torch.maximum(framewise_outputfft, framewise_outputcqt)\n",
    "        logit = torch.maximum(logitfft, logitcqt)\n",
    "        clipwise_output = torch.maximum(clipwise_output_fft, clipwise_output_cqt)\n",
    "        \n",
    "        output_dict = {\n",
    "            'framewise_output' : framewise_output,\n",
    "            'logit' : logit,\n",
    "            'clipwise_output' : clipwise_output\n",
    "        }\n",
    "\n",
    "        return output_dict\n",
    "\n",
    "        \n",
    "  \n",
    "\n",
    "# model = AudioSEDModel('tf_efficientnet_b0_ns', 4).to(device)\n",
    "# model.train()\n",
    "# output = model(entrada['img_fft'].to(device).float(), entrada['img_cqt'].to(device).float()) #, mixup_lambda=torch.tensor([0.3,0.4]))\n",
    "# output['framewise_output'].shape"
   ]
  },
  {
   "cell_type": "markdown",
   "id": "a219cd1d",
   "metadata": {},
   "source": [
    "# Modelo"
   ]
  },
  {
   "cell_type": "code",
   "execution_count": 31,
   "id": "333915ba",
   "metadata": {
    "ExecuteTime": {
     "end_time": "2022-10-23T22:18:27.862863Z",
     "start_time": "2022-10-23T22:18:27.859225Z"
    }
   },
   "outputs": [],
   "source": [
    "# def Model():\n",
    "#     model = timm.create_model(arquitectura, pretrained=True, num_classes=labels_train.shape[1], in_chans=1)\n",
    "#     return model\n",
    "# def Model_Features():\n",
    "#     model = timm.create_model(arquitectura, pretrained=True, in_chans=1, features_only=True)\n",
    "#     return model\n",
    "# def Model_GlobalPool():\n",
    "#     model = timm.create_model(arquitectura, pretrained=True, in_chans=1, num_classes=0, global_pool='avg')\n",
    "#     return model"
   ]
  },
  {
   "cell_type": "code",
   "execution_count": 32,
   "id": "6c9a7063",
   "metadata": {
    "ExecuteTime": {
     "end_time": "2022-10-23T22:18:27.867562Z",
     "start_time": "2022-10-23T22:18:27.863656Z"
    }
   },
   "outputs": [],
   "source": [
    "# class ModelDos(nn.Module):\n",
    "#     def __init__(self):\n",
    "#         super(ModelDos, self).__init__()\n",
    "#         self.model1 = Model_GlobalPool()\n",
    "#         self.model2 = Model_GlobalPool()\n",
    "#         self.fc1 = nn.Linear(1536, 128)\n",
    "#         self.fc2 = nn.Linear(1536, 128)\n",
    "#         self.fc_int = nn.Linear(256, 64)\n",
    "#         self.fc_out = nn.Linear(64, 4)\n",
    "        \n",
    "#     def forward(self, x1, x2):\n",
    "#         x1 = self.model1(x1)\n",
    "#         x1 = x1.view(x1.size(0), -1)\n",
    "#         x1 = F.relu(self.fc1(x1))\n",
    "# #         print(x1.shape)\n",
    "#         x2 = self.model2(x2)\n",
    "#         x2 = x2.view(x2.size(0), -1)\n",
    "#         x2 = F.relu(self.fc2(x2))\n",
    "#         # Concatenate in dim1 (feature dimension)\n",
    "#         x = torch.cat((x1, x2), 1)\n",
    "#         x = F.relu(self.fc_int(x))\n",
    "# #         print(x.shape)\n",
    "#         x = self.fc_out(x)\n",
    "#         return x\n",
    "\n",
    "# # modelo_dos = ModelDos()\n",
    "# # input_fft = entrada['img_fft'].float().to(device)\n",
    "# # input_cqt = entrada['img_cqt'].float().to(device)\n",
    "# # modelo_dos(input_fft, input_cqt)"
   ]
  },
  {
   "cell_type": "markdown",
   "id": "ac96e504",
   "metadata": {},
   "source": [
    "# Funciones Train"
   ]
  },
  {
   "cell_type": "code",
   "execution_count": 33,
   "id": "f44e4eea",
   "metadata": {
    "ExecuteTime": {
     "end_time": "2022-10-23T22:18:27.874371Z",
     "start_time": "2022-10-23T22:18:27.868547Z"
    }
   },
   "outputs": [],
   "source": [
    "class AverageMeter(object):\n",
    "    \"\"\"Computes and stores the average and current value\"\"\"\n",
    "\n",
    "    def __init__(self):\n",
    "        self.reset()\n",
    "\n",
    "    def reset(self):\n",
    "        self.val = 0\n",
    "        self.avg = 0\n",
    "        self.sum = 0\n",
    "        self.count = 0\n",
    "\n",
    "    def update(self, val, n=1):\n",
    "        self.val = val\n",
    "        self.sum += val * n\n",
    "        self.count += n\n",
    "        self.avg = self.sum / self.count"
   ]
  },
  {
   "cell_type": "code",
   "execution_count": 34,
   "id": "e17c0c79",
   "metadata": {
    "ExecuteTime": {
     "end_time": "2022-10-23T22:18:27.881563Z",
     "start_time": "2022-10-23T22:18:27.875600Z"
    }
   },
   "outputs": [],
   "source": [
    "# Para entrenar\n",
    "def train_epoch(model, loader, criterion, optimizer, scheduler, epoch):\n",
    "    model.train()\n",
    "    y_true = []\n",
    "    y_pred = []\n",
    "    losses = AverageMeter()\n",
    "    \n",
    "    t = tqdm(loader)\n",
    "    for i, sample in enumerate(t):\n",
    "        optimizer.zero_grad()\n",
    "        input_fft = sample['img_fft'].float().to(device)\n",
    "        input_cqt = sample['img_cqt'].float().to(device)\n",
    "#         input = sample['image'].float().to(device)\n",
    "        target = sample['target'].float().to(device)\n",
    "        bs = input_fft.size(0)\n",
    "        with torch.cuda.amp.autocast():\n",
    "#             output = model(input)\n",
    "            output = model(input_fft, input_cqt)\n",
    "            loss = criterion(output['framewise_output'], target) #BCEWithLogitLoss\n",
    "            \n",
    "#             max_label = torch.argmax(target,dim=1)\n",
    "#             loss = criterion(output, max_label)   # CrossEntropyLoss\n",
    "\n",
    "        if USA_FP16:\n",
    "            # For FP16\n",
    "            scaler.scale(loss).backward()\n",
    "            scaler.step(optimizer)\n",
    "            scaler.update()\n",
    "        else:\n",
    "            loss.backward()\n",
    "            optimizer.step()\n",
    "\n",
    "        if scheduler:\n",
    "            scheduler.step()\n",
    "        \n",
    "        y_true.append(target.cpu().numpy())\n",
    "        y_pred.append(torch.sigmoid(output['framewise_output']).detach().cpu().numpy())\n",
    "        losses.update(loss.item(), bs)\n",
    "        t.set_description(f\"Train E:{epoch} - Loss:{losses.avg:0.4f}\")\n",
    "    t.close()\n",
    "    y_true = np.vstack(y_true)\n",
    "    y_pred = np.vstack(y_pred)\n",
    "    return losses.avg, y_true, y_pred\n",
    "\n",
    "# Para validar o inferencia\n",
    "def valid_epoch(model, loader, criterion, epoch):\n",
    "    model.eval()\n",
    "    y_true = []\n",
    "    y_pred = []\n",
    "    losses = AverageMeter()\n",
    "    with torch.no_grad():\n",
    "        t = tqdm(loader)\n",
    "        for i, sample in enumerate(t):\n",
    "            input_fft = sample['img_fft'].float().to(device)\n",
    "            input_cqt = sample['img_cqt'].float().to(device)\n",
    "#             input = sample['image'].float().to(device)\n",
    "            target = sample['target'].float().to(device)\n",
    "            bs = input_fft.size(0)\n",
    "\n",
    "#             output = model(input)\n",
    "            output = model(input_fft, input_cqt)\n",
    "            loss = criterion(output['framewise_output'], target) #BCEWithLogitLoss\n",
    "            \n",
    "#             max_label = torch.argmax(target,dim=1)\n",
    "#             loss = criterion(output, max_label)\n",
    "\n",
    "            y_true.append(target.cpu().numpy())\n",
    "            y_pred.append(torch.sigmoid(output['framewise_output']).detach().cpu().numpy())\n",
    "            losses.update(loss.item(), bs)\n",
    "            t.set_description(f\"Valid E:{epoch} - Loss:{losses.avg:0.4f}\")\n",
    "        t.close()\n",
    "    y_true = np.vstack(y_true)\n",
    "    y_pred = np.vstack(y_pred)\n",
    "    return losses.avg, y_true, y_pred"
   ]
  },
  {
   "cell_type": "markdown",
   "id": "0b1eded9",
   "metadata": {
    "ExecuteTime": {
     "end_time": "2022-10-21T10:22:57.080563Z",
     "start_time": "2022-10-21T10:22:57.077849Z"
    }
   },
   "source": [
    "# Folds"
   ]
  },
  {
   "cell_type": "code",
   "execution_count": 35,
   "id": "03372f79",
   "metadata": {
    "ExecuteTime": {
     "end_time": "2022-10-23T22:18:27.915368Z",
     "start_time": "2022-10-23T22:18:27.882325Z"
    }
   },
   "outputs": [],
   "source": [
    "df_train_unique = df_train[df_train['labels'].astype(str)!='[]'].reset_index(drop=True)\n",
    "df_train_unique['labels'] = df_train_unique['labels'].astype(str)\n",
    "df_train_unique2 = df_train_unique.groupby('namefile')['labels'].value_counts()\n",
    "df_train_unique2 = pd.DataFrame(df_train_unique2.groupby('namefile').apply(lambda x: len(x))).reset_index(drop=False)\n",
    "df_train_unique2.loc[df_train_unique2.labels>3, 'labels'] = 3"
   ]
  },
  {
   "cell_type": "code",
   "execution_count": 36,
   "id": "0c5609e4",
   "metadata": {
    "ExecuteTime": {
     "end_time": "2022-10-23T22:18:27.920130Z",
     "start_time": "2022-10-23T22:18:27.916335Z"
    }
   },
   "outputs": [
    {
     "data": {
      "text/html": [
       "<div>\n",
       "<style scoped>\n",
       "    .dataframe tbody tr th:only-of-type {\n",
       "        vertical-align: middle;\n",
       "    }\n",
       "\n",
       "    .dataframe tbody tr th {\n",
       "        vertical-align: top;\n",
       "    }\n",
       "\n",
       "    .dataframe thead th {\n",
       "        text-align: right;\n",
       "    }\n",
       "</style>\n",
       "<table border=\"1\" class=\"dataframe\">\n",
       "  <thead>\n",
       "    <tr style=\"text-align: right;\">\n",
       "      <th></th>\n",
       "      <th>namefile</th>\n",
       "      <th>labels</th>\n",
       "    </tr>\n",
       "  </thead>\n",
       "  <tbody>\n",
       "    <tr>\n",
       "      <th>0</th>\n",
       "      <td>012213d40662f86e8f775379bbf94dec</td>\n",
       "      <td>1</td>\n",
       "    </tr>\n",
       "    <tr>\n",
       "      <th>1</th>\n",
       "      <td>0159af9f3ca04ada46f0c353ac210bb8</td>\n",
       "      <td>2</td>\n",
       "    </tr>\n",
       "    <tr>\n",
       "      <th>2</th>\n",
       "      <td>0271a0818427d7fae7afde67bf49ba30</td>\n",
       "      <td>1</td>\n",
       "    </tr>\n",
       "    <tr>\n",
       "      <th>3</th>\n",
       "      <td>035195366b6849c1b339cff8e6de574a</td>\n",
       "      <td>3</td>\n",
       "    </tr>\n",
       "    <tr>\n",
       "      <th>4</th>\n",
       "      <td>0389792d2f422f25f5d9abd7e7a308d1</td>\n",
       "      <td>2</td>\n",
       "    </tr>\n",
       "  </tbody>\n",
       "</table>\n",
       "</div>"
      ],
      "text/plain": [
       "                           namefile  labels\n",
       "0  012213d40662f86e8f775379bbf94dec       1\n",
       "1  0159af9f3ca04ada46f0c353ac210bb8       2\n",
       "2  0271a0818427d7fae7afde67bf49ba30       1\n",
       "3  035195366b6849c1b339cff8e6de574a       3\n",
       "4  0389792d2f422f25f5d9abd7e7a308d1       2"
      ]
     },
     "execution_count": 36,
     "metadata": {},
     "output_type": "execute_result"
    }
   ],
   "source": [
    "df_train_unique2.head()"
   ]
  },
  {
   "cell_type": "code",
   "execution_count": 37,
   "id": "110d99c0",
   "metadata": {
    "ExecuteTime": {
     "end_time": "2022-10-23T22:18:27.937299Z",
     "start_time": "2022-10-23T22:18:27.921053Z"
    }
   },
   "outputs": [
    {
     "name": "stdout",
     "output_type": "stream",
     "text": [
      "\n",
      "DISTRIBUCION PARA FOLD: 0\n",
      "               1         3         2\n",
      "labels  0.553073  0.251397  0.195531\n",
      "labels  0.575000  0.250000  0.175000\n",
      "\n",
      "DISTRIBUCION PARA FOLD: 1\n",
      "               1         3         2\n",
      "labels  0.553073  0.251397  0.195531\n",
      "labels  0.575000  0.250000  0.175000\n",
      "\n",
      "DISTRIBUCION PARA FOLD: 2\n",
      "               1         3         2\n",
      "labels  0.553073  0.251397  0.195531\n",
      "labels  0.575000  0.250000  0.175000\n",
      "\n",
      "DISTRIBUCION PARA FOLD: 3\n",
      "               1         3         2\n",
      "labels  0.553073  0.251397  0.195531\n",
      "labels  0.575000  0.250000  0.175000\n",
      "\n",
      "DISTRIBUCION PARA FOLD: 4\n",
      "               1         3         2\n",
      "labels  0.553073  0.251397  0.195531\n",
      "labels  0.575000  0.250000  0.175000\n",
      "\n",
      "DISTRIBUCION PARA FOLD: 5\n",
      "               1         3         2\n",
      "labels  0.553073  0.251397  0.195531\n",
      "labels  0.575000  0.250000  0.175000\n",
      "\n",
      "DISTRIBUCION PARA FOLD: 6\n",
      "               1         3         2\n",
      "labels  0.553073  0.251397  0.195531\n",
      "labels  0.575000  0.250000  0.175000\n",
      "\n",
      "DISTRIBUCION PARA FOLD: 7\n",
      "               1         3         2\n",
      "labels  0.553073  0.251397  0.195531\n",
      "labels  0.575000  0.250000  0.175000\n",
      "\n",
      "DISTRIBUCION PARA FOLD: 8\n",
      "               1         3         2\n",
      "labels  0.553073  0.251397  0.195531\n",
      "labels  0.575000  0.250000  0.175000\n",
      "\n",
      "DISTRIBUCION PARA FOLD: 9\n",
      "               1         3         2\n",
      "labels  0.553073  0.251397  0.195531\n",
      "labels  0.575000  0.250000  0.175000\n"
     ]
    }
   ],
   "source": [
    "seed_everything(SEED)\n",
    "#     MultilabelStratifiedKFold\n",
    "#     StratifiedKFold\n",
    "kfold = StratifiedKFold(n_splits=NUM_FOLDS, shuffle=True, random_state=SEED)\n",
    "df_train_unique2['kfold'] = -1\n",
    "for fold, (t_idx, v_idx) in enumerate(kfold.split(df_train_unique2, df_train_unique2['labels'].astype(str))):\n",
    "    df_train_unique2.loc[v_idx, \"kfold\"] = fold\n",
    "df_train_unique2.head()\n",
    "\n",
    "for fold in range(NUM_FOLDS):\n",
    "    print('\\nDISTRIBUCION PARA FOLD:',fold)\n",
    "    print(pd.DataFrame([df_train_unique2[df_train_unique2.kfold!=0]['labels'].astype(str).value_counts()[:10]/(df_train_unique2.kfold!=0).sum(),\n",
    "                  df_train_unique2[df_train_unique2.kfold==0]['labels'].astype(str).value_counts()[:10]/(df_train_unique2.kfold==0).sum()]))"
   ]
  },
  {
   "cell_type": "markdown",
   "id": "b7431d33",
   "metadata": {},
   "source": [
    "#  SED Database"
   ]
  },
  {
   "cell_type": "code",
   "execution_count": 38,
   "id": "5d7755d0",
   "metadata": {
    "ExecuteTime": {
     "end_time": "2022-10-23T22:18:27.944923Z",
     "start_time": "2022-10-23T22:18:27.938070Z"
    }
   },
   "outputs": [
    {
     "data": {
      "text/html": [
       "<div>\n",
       "<style scoped>\n",
       "    .dataframe tbody tr th:only-of-type {\n",
       "        vertical-align: middle;\n",
       "    }\n",
       "\n",
       "    .dataframe tbody tr th {\n",
       "        vertical-align: top;\n",
       "    }\n",
       "\n",
       "    .dataframe thead th {\n",
       "        text-align: right;\n",
       "    }\n",
       "</style>\n",
       "<table border=\"1\" class=\"dataframe\">\n",
       "  <thead>\n",
       "    <tr style=\"text-align: right;\">\n",
       "      <th></th>\n",
       "      <th>path</th>\n",
       "      <th>start</th>\n",
       "      <th>duration</th>\n",
       "      <th>end</th>\n",
       "      <th>label</th>\n",
       "      <th>len_audio</th>\n",
       "      <th>sr_audio</th>\n",
       "      <th>seconds_audio</th>\n",
       "      <th>dir</th>\n",
       "      <th>clase</th>\n",
       "      <th>pos_ini</th>\n",
       "      <th>pos_fin</th>\n",
       "      <th>clase_num</th>\n",
       "    </tr>\n",
       "  </thead>\n",
       "  <tbody>\n",
       "    <tr>\n",
       "      <th>0</th>\n",
       "      <td>012213d40662f86e8f775379bbf94dec</td>\n",
       "      <td>61.186</td>\n",
       "      <td>2.500</td>\n",
       "      <td>63.686</td>\n",
       "      <td>whistle</td>\n",
       "      <td>14700000</td>\n",
       "      <td>50000</td>\n",
       "      <td>294.0</td>\n",
       "      <td>../input/datathon2022/dataset1/012213d40662f86...</td>\n",
       "      <td>whistle</td>\n",
       "      <td>3059300.0</td>\n",
       "      <td>3184300.0</td>\n",
       "      <td>0</td>\n",
       "    </tr>\n",
       "    <tr>\n",
       "      <th>1</th>\n",
       "      <td>0159af9f3ca04ada46f0c353ac210bb8</td>\n",
       "      <td>76.260</td>\n",
       "      <td>17.000</td>\n",
       "      <td>93.260</td>\n",
       "      <td>cetaceans_allfreq</td>\n",
       "      <td>14700000</td>\n",
       "      <td>50000</td>\n",
       "      <td>294.0</td>\n",
       "      <td>../input/datathon2022/dataset1/0159af9f3ca04ad...</td>\n",
       "      <td>cetaceans_allfreq</td>\n",
       "      <td>3813000.0</td>\n",
       "      <td>4663000.0</td>\n",
       "      <td>2</td>\n",
       "    </tr>\n",
       "    <tr>\n",
       "      <th>2</th>\n",
       "      <td>0159af9f3ca04ada46f0c353ac210bb8</td>\n",
       "      <td>161.482</td>\n",
       "      <td>1.000</td>\n",
       "      <td>162.482</td>\n",
       "      <td>click</td>\n",
       "      <td>14700000</td>\n",
       "      <td>50000</td>\n",
       "      <td>294.0</td>\n",
       "      <td>../input/datathon2022/dataset1/0159af9f3ca04ad...</td>\n",
       "      <td>click</td>\n",
       "      <td>8074100.0</td>\n",
       "      <td>8124100.0</td>\n",
       "      <td>1</td>\n",
       "    </tr>\n",
       "    <tr>\n",
       "      <th>3</th>\n",
       "      <td>0271a0818427d7fae7afde67bf49ba30</td>\n",
       "      <td>91.563</td>\n",
       "      <td>1.000</td>\n",
       "      <td>92.563</td>\n",
       "      <td>click</td>\n",
       "      <td>14700000</td>\n",
       "      <td>50000</td>\n",
       "      <td>294.0</td>\n",
       "      <td>../input/datathon2022/dataset1/0271a0818427d7f...</td>\n",
       "      <td>click</td>\n",
       "      <td>4578150.0</td>\n",
       "      <td>4628150.0</td>\n",
       "      <td>1</td>\n",
       "    </tr>\n",
       "    <tr>\n",
       "      <th>4</th>\n",
       "      <td>0271a0818427d7fae7afde67bf49ba30</td>\n",
       "      <td>125.627</td>\n",
       "      <td>1.316</td>\n",
       "      <td>126.943</td>\n",
       "      <td>click</td>\n",
       "      <td>14700000</td>\n",
       "      <td>50000</td>\n",
       "      <td>294.0</td>\n",
       "      <td>../input/datathon2022/dataset1/0271a0818427d7f...</td>\n",
       "      <td>click</td>\n",
       "      <td>6281350.0</td>\n",
       "      <td>6347150.0</td>\n",
       "      <td>1</td>\n",
       "    </tr>\n",
       "  </tbody>\n",
       "</table>\n",
       "</div>"
      ],
      "text/plain": [
       "                               path    start  duration      end              label  len_audio  sr_audio  seconds_audio                                                dir              clase    pos_ini    pos_fin  clase_num\n",
       "0  012213d40662f86e8f775379bbf94dec   61.186     2.500   63.686            whistle   14700000     50000          294.0  ../input/datathon2022/dataset1/012213d40662f86...            whistle  3059300.0  3184300.0          0\n",
       "1  0159af9f3ca04ada46f0c353ac210bb8   76.260    17.000   93.260  cetaceans_allfreq   14700000     50000          294.0  ../input/datathon2022/dataset1/0159af9f3ca04ad...  cetaceans_allfreq  3813000.0  4663000.0          2\n",
       "2  0159af9f3ca04ada46f0c353ac210bb8  161.482     1.000  162.482              click   14700000     50000          294.0  ../input/datathon2022/dataset1/0159af9f3ca04ad...              click  8074100.0  8124100.0          1\n",
       "3  0271a0818427d7fae7afde67bf49ba30   91.563     1.000   92.563              click   14700000     50000          294.0  ../input/datathon2022/dataset1/0271a0818427d7f...              click  4578150.0  4628150.0          1\n",
       "4  0271a0818427d7fae7afde67bf49ba30  125.627     1.316  126.943              click   14700000     50000          294.0  ../input/datathon2022/dataset1/0271a0818427d7f...              click  6281350.0  6347150.0          1"
      ]
     },
     "execution_count": 38,
     "metadata": {},
     "output_type": "execute_result"
    }
   ],
   "source": [
    "df.head()"
   ]
  },
  {
   "cell_type": "code",
   "execution_count": 39,
   "id": "5bf273eb",
   "metadata": {
    "ExecuteTime": {
     "end_time": "2022-10-23T22:18:27.954797Z",
     "start_time": "2022-10-23T22:18:27.945725Z"
    }
   },
   "outputs": [
    {
     "data": {
      "text/html": [
       "<div>\n",
       "<style scoped>\n",
       "    .dataframe tbody tr th:only-of-type {\n",
       "        vertical-align: middle;\n",
       "    }\n",
       "\n",
       "    .dataframe tbody tr th {\n",
       "        vertical-align: top;\n",
       "    }\n",
       "\n",
       "    .dataframe thead th {\n",
       "        text-align: right;\n",
       "    }\n",
       "</style>\n",
       "<table border=\"1\" class=\"dataframe\">\n",
       "  <thead>\n",
       "    <tr style=\"text-align: right;\">\n",
       "      <th></th>\n",
       "      <th>path</th>\n",
       "      <th>start</th>\n",
       "      <th>duration</th>\n",
       "      <th>end</th>\n",
       "      <th>label</th>\n",
       "      <th>len_audio</th>\n",
       "      <th>sr_audio</th>\n",
       "      <th>seconds_audio</th>\n",
       "      <th>dir</th>\n",
       "      <th>clase</th>\n",
       "      <th>pos_ini</th>\n",
       "      <th>pos_fin</th>\n",
       "      <th>clase_num</th>\n",
       "      <th>kfold</th>\n",
       "    </tr>\n",
       "  </thead>\n",
       "  <tbody>\n",
       "    <tr>\n",
       "      <th>0</th>\n",
       "      <td>012213d40662f86e8f775379bbf94dec</td>\n",
       "      <td>61.186</td>\n",
       "      <td>2.500</td>\n",
       "      <td>63.686</td>\n",
       "      <td>whistle</td>\n",
       "      <td>14700000</td>\n",
       "      <td>50000</td>\n",
       "      <td>294.0</td>\n",
       "      <td>../input/datathon2022/dataset1/012213d40662f86...</td>\n",
       "      <td>whistle</td>\n",
       "      <td>3059300.0</td>\n",
       "      <td>3184300.0</td>\n",
       "      <td>0</td>\n",
       "      <td>0.0</td>\n",
       "    </tr>\n",
       "    <tr>\n",
       "      <th>1</th>\n",
       "      <td>0159af9f3ca04ada46f0c353ac210bb8</td>\n",
       "      <td>76.260</td>\n",
       "      <td>17.000</td>\n",
       "      <td>93.260</td>\n",
       "      <td>cetaceans_allfreq</td>\n",
       "      <td>14700000</td>\n",
       "      <td>50000</td>\n",
       "      <td>294.0</td>\n",
       "      <td>../input/datathon2022/dataset1/0159af9f3ca04ad...</td>\n",
       "      <td>cetaceans_allfreq</td>\n",
       "      <td>3813000.0</td>\n",
       "      <td>4663000.0</td>\n",
       "      <td>2</td>\n",
       "      <td>5.0</td>\n",
       "    </tr>\n",
       "    <tr>\n",
       "      <th>2</th>\n",
       "      <td>0159af9f3ca04ada46f0c353ac210bb8</td>\n",
       "      <td>161.482</td>\n",
       "      <td>1.000</td>\n",
       "      <td>162.482</td>\n",
       "      <td>click</td>\n",
       "      <td>14700000</td>\n",
       "      <td>50000</td>\n",
       "      <td>294.0</td>\n",
       "      <td>../input/datathon2022/dataset1/0159af9f3ca04ad...</td>\n",
       "      <td>click</td>\n",
       "      <td>8074100.0</td>\n",
       "      <td>8124100.0</td>\n",
       "      <td>1</td>\n",
       "      <td>5.0</td>\n",
       "    </tr>\n",
       "    <tr>\n",
       "      <th>3</th>\n",
       "      <td>0271a0818427d7fae7afde67bf49ba30</td>\n",
       "      <td>91.563</td>\n",
       "      <td>1.000</td>\n",
       "      <td>92.563</td>\n",
       "      <td>click</td>\n",
       "      <td>14700000</td>\n",
       "      <td>50000</td>\n",
       "      <td>294.0</td>\n",
       "      <td>../input/datathon2022/dataset1/0271a0818427d7f...</td>\n",
       "      <td>click</td>\n",
       "      <td>4578150.0</td>\n",
       "      <td>4628150.0</td>\n",
       "      <td>1</td>\n",
       "      <td>8.0</td>\n",
       "    </tr>\n",
       "    <tr>\n",
       "      <th>4</th>\n",
       "      <td>0271a0818427d7fae7afde67bf49ba30</td>\n",
       "      <td>125.627</td>\n",
       "      <td>1.316</td>\n",
       "      <td>126.943</td>\n",
       "      <td>click</td>\n",
       "      <td>14700000</td>\n",
       "      <td>50000</td>\n",
       "      <td>294.0</td>\n",
       "      <td>../input/datathon2022/dataset1/0271a0818427d7f...</td>\n",
       "      <td>click</td>\n",
       "      <td>6281350.0</td>\n",
       "      <td>6347150.0</td>\n",
       "      <td>1</td>\n",
       "      <td>8.0</td>\n",
       "    </tr>\n",
       "  </tbody>\n",
       "</table>\n",
       "</div>"
      ],
      "text/plain": [
       "                               path    start  duration      end              label  len_audio  sr_audio  seconds_audio                                                dir              clase    pos_ini    pos_fin  clase_num  kfold\n",
       "0  012213d40662f86e8f775379bbf94dec   61.186     2.500   63.686            whistle   14700000     50000          294.0  ../input/datathon2022/dataset1/012213d40662f86...            whistle  3059300.0  3184300.0          0    0.0\n",
       "1  0159af9f3ca04ada46f0c353ac210bb8   76.260    17.000   93.260  cetaceans_allfreq   14700000     50000          294.0  ../input/datathon2022/dataset1/0159af9f3ca04ad...  cetaceans_allfreq  3813000.0  4663000.0          2    5.0\n",
       "2  0159af9f3ca04ada46f0c353ac210bb8  161.482     1.000  162.482              click   14700000     50000          294.0  ../input/datathon2022/dataset1/0159af9f3ca04ad...              click  8074100.0  8124100.0          1    5.0\n",
       "3  0271a0818427d7fae7afde67bf49ba30   91.563     1.000   92.563              click   14700000     50000          294.0  ../input/datathon2022/dataset1/0271a0818427d7f...              click  4578150.0  4628150.0          1    8.0\n",
       "4  0271a0818427d7fae7afde67bf49ba30  125.627     1.316  126.943              click   14700000     50000          294.0  ../input/datathon2022/dataset1/0271a0818427d7f...              click  6281350.0  6347150.0          1    8.0"
      ]
     },
     "execution_count": 39,
     "metadata": {},
     "output_type": "execute_result"
    }
   ],
   "source": [
    "df_para_sed = df.copy()\n",
    "df_para_sed['kfold'] = df_para_sed['path'].map(dict(zip(df_train_unique2['namefile'], df_train_unique2.kfold)))\n",
    "df_para_sed.head()"
   ]
  },
  {
   "cell_type": "markdown",
   "id": "5c49a200",
   "metadata": {},
   "source": [
    "# Entrenamiento"
   ]
  },
  {
   "cell_type": "code",
   "execution_count": 40,
   "id": "fd5d9ead",
   "metadata": {
    "ExecuteTime": {
     "end_time": "2022-10-23T22:18:27.970272Z",
     "start_time": "2022-10-23T22:18:27.955540Z"
    }
   },
   "outputs": [
    {
     "name": "stdout",
     "output_type": "stream",
     "text": [
      "188 2 28\n"
     ]
    },
    {
     "data": {
      "text/plain": [
       "'resultados/0042_model'"
      ]
     },
     "execution_count": 40,
     "metadata": {},
     "output_type": "execute_result"
    }
   ],
   "source": [
    "# GPU con 8 Gigas\n",
    "BATCH_TRAIN = 20 #10\n",
    "NUM_WORKERS = 8\n",
    "BATCH_VALID = BATCH_TRAIN\n",
    "BATCH_TEST = BATCH_TRAIN\n",
    "\n",
    "# --------------------------------------\n",
    "# Parametros para optimizar con 'CosineAnnealingWarmUpRestarts'\n",
    "LR = 0.00001 #1e-7 #Learning rate\n",
    "T_MULT = 1 # Factor multiplicador de  la longitud del siguiente ciclo\n",
    "ETA_MAX = 0.002  #0.002 0.001 # Valor maximo LR\n",
    "EPOCHS_UP = 2 # Epochs ciclo de subida  EPOCHS_CYCLE//4\n",
    "NUM_EPOCHS = 2 + 26 # Max epochs\n",
    "EPOCHS_CYCLE = NUM_EPOCHS #Epochs ciclo completo EPOCHS//(1+T_MULT+(T_MULT*T_MULT))\n",
    "# Num iters per epoch len of (num_folds-1) trainning DB / BATCH_SIZE\n",
    "\n",
    "# ITERS_EPOCH = len(df_train) // BATCH_TRAIN #*(NUM_FOLDS-1) // (BATCH_TRAIN*(NUM_FOLDS)) #Calcula los iters por epoch\n",
    "ITERS_EPOCH = int(len(df_para_sed.query('kfold > 2')) // (BATCH_TRAIN)) #Calcula los iters por epoc\n",
    "print(ITERS_EPOCH, EPOCHS_UP, NUM_EPOCHS)\n",
    "\n",
    "GAMMA = 0.90 # Factor reductor del maximo de cada ciclo\n",
    "# -------------------------------------\n",
    "EARLY_STOP = 9999 # Numero de epochs para si no mejora\n",
    "\n",
    "# output_dir = create_output_dir(display=True, create=True, dirbase = 'resultados')\n",
    "# print(output_dir)\n",
    "\n",
    "# output_dir = create_output_dir(display=True, create=True, dirbase = 'resultados')\n",
    "output_dir = Path('resultados/0042_model/')\n",
    "str(output_dir)\n"
   ]
  },
  {
   "cell_type": "code",
   "execution_count": 41,
   "id": "f6520cd6",
   "metadata": {
    "ExecuteTime": {
     "start_time": "2022-10-23T22:17:58.007Z"
    }
   },
   "outputs": [],
   "source": [
    "if ENTRENA:\n",
    "    start = time.time()\n",
    "    # Base de datos de entrenamiento y validacion\n",
    "    # --------------------------------------------\n",
    "    trues_total = []\n",
    "    preds_total = []\n",
    "    for fold in [0]: #range(NUM_FOLDS):\n",
    "        print('FOLD:',fold)\n",
    "        valid_df = df_para_sed[df_para_sed['kfold'] == 0].reset_index(drop=True)\n",
    "        test_df = df_para_sed[df_para_sed['kfold'] == 1].reset_index(drop=True)\n",
    "        train_df = df_para_sed[df_para_sed['kfold'] >= 2].reset_index(drop=True)\n",
    "\n",
    "        print(train_df.shape, valid_df.shape, test_df.shape)\n",
    "        \n",
    "        # Modelo y optimizacion\n",
    "        # ---------------------\n",
    "#         model = ModelDos().to(device)\n",
    "        model = AudioSEDModel('tf_efficientnet_b3_ns', 4).to(device)\n",
    "        # optimizer = torch.optim.Adam(model.parameters(), lr=0.0018)\n",
    "        # https://pythonawesome.com/a-collection-of-optimizers-for-pytorch/\n",
    "        optimizer = optim.DiffGrad(model.parameters(), lr=LR)\n",
    "        if USA_FP16:\n",
    "            scaler = torch.cuda.amp.GradScaler()\n",
    "            \n",
    "        scheduler = CosineAnnealingWarmUpRestarts(optimizer, T_0=ITERS_EPOCH*EPOCHS_CYCLE, T_mult=T_MULT, \n",
    "                                          eta_max=ETA_MAX, T_up=ITERS_EPOCH*EPOCHS_UP, gamma=GAMMA)\n",
    "        # scheduler = None\n",
    "#         criterion = nn.CrossEntropyLoss()\n",
    "        criterion = nn.BCEWithLogitsLoss() # Multilabel\n",
    "\n",
    "    \n",
    "        # train loader\n",
    "        # ------------\n",
    "        trainset = SedDataset(df=train_df, audio_transform=None,  modo=\"train\")\n",
    "                              #         audio_transform=train_audio_transform,\n",
    "        train_loader = DataLoader(trainset, batch_size=BATCH_TRAIN, shuffle=True, drop_last=False) #, num_workers=NUM_WORKERS)\n",
    "            \n",
    "        # valid loader\n",
    "        # ------------\n",
    "        validset = SedDataset(df=valid_df, audio_transform=None,  modo=\"valid\")\n",
    "        valid_loader = DataLoader(validset, batch_size=BATCH_VALID, shuffle=False, drop_last=False, num_workers=NUM_WORKERS)\n",
    "\n",
    "        # Inicializamos variables\n",
    "        # -----------------------\n",
    "        best_auc = 0\n",
    "        best_acc = 0\n",
    "        best_f1_micro = 0\n",
    "        best_f1_macro = 0\n",
    "        best_f1_weighted = 0\n",
    "        best_epoch = 0\n",
    "        best_loss = np.inf\n",
    "        early_stop_count = 0\n",
    "        res = []\n",
    "        best_preds_fold = []\n",
    "        best_trues_fold = []  \n",
    "\n",
    "        # Bucle principal\n",
    "        # ---------------\n",
    "        \n",
    "        for epoch in range(NUM_EPOCHS):\n",
    "            seed_everything(SEED*(epoch+1))\n",
    "            \n",
    "            trainset = SedDataset(df=train_df.sample(500).reset_index(drop=True), audio_transform=None,  modo=\"train\")\n",
    "            train_loader = DataLoader(trainset, batch_size=BATCH_TRAIN, shuffle=True, drop_last=False)\n",
    "        \n",
    "            \n",
    "#             # train loader\n",
    "#             # ------------\n",
    "#             train_df_nolabels_idx = train_df[no_labels_in_train].index\n",
    "#             train_df_labels_idx = train_df[~no_labels_in_train].index\n",
    "#             train_df_nolabels_idx_sample = np.random.choice(train_df_nolabels_idx,NUM_NO_EVENT, replace=False)\n",
    "#             train_df_combi = pd.concat([train_df.iloc[train_df_labels_idx], \n",
    "#                                         train_df.iloc[train_df_nolabels_idx_sample]]).reset_index(drop=True)\n",
    "#             train_labels_combi = pd.concat([train_labels.iloc[train_df_labels_idx], \n",
    "#                                             train_labels.iloc[train_df_nolabels_idx_sample]]).reset_index(drop=True)\n",
    "            \n",
    "#             trainset = SedDataset(df=train_df_combi, labels=train_labels_combi, audio_transform=None,  modo=\"train\")\n",
    "#                                   #         audio_transform=train_audio_transform,\n",
    "#             train_loader = DataLoader(trainset, batch_size=BATCH_TRAIN, shuffle=True, drop_last=False, num_workers=NUM_WORKERS)\n",
    "        \n",
    "            start_epoch = time.time()\n",
    "            warnings.filterwarnings('ignore')\n",
    "            train_loss, y_true_train, y_pred_train = train_epoch(model, train_loader, criterion, optimizer, scheduler, epoch)\n",
    "            warnings.filterwarnings('ignore')\n",
    "            valid_loss, y_true_valid, y_pred_valid = valid_epoch(model, valid_loader, criterion, epoch)\n",
    "            \n",
    "            valid_auc = 0\n",
    "            # valid_auc = mean_auc(y_true_valid, y_pred_valid)\n",
    "            valid_acc = np.mean((y_true_valid.flatten()>0.50)==(y_pred_valid.flatten()>0.50))\n",
    "            # # f1_micro = metrics.f1_score(y_true_valid>0.50, y_pred_valid>0.50, average='micro')\n",
    "            # f1_macro = metrics.f1_score(y_true_valid>0.50, y_pred_valid>0.50, average='macro')\n",
    "            # f1_weighted = metrics.f1_score(y_true_valid>0.50, y_pred_valid>0.50, average='weighted')\n",
    "\n",
    "            \n",
    "            # Obtain best f1macro\n",
    "            y_pred_valid_cp = np.vstack([i for i in y_pred_valid])\n",
    "            y_true_valid_cp = np.vstack([i for i in y_true_valid])\n",
    "\n",
    "            #             y_pred_valid_cp = y_pred_valid.copy()\n",
    "            y_pred_valid_labels = (y_pred_valid_cp>0.50)\n",
    "            y_true_valid_labels = (y_true_valid_cp>0.50)\n",
    "\n",
    "            best_thr = [0.0, 0.0, 0.0, 0.0]\n",
    "            for ncol in tqdm(range(4)):\n",
    "                f1_col = 0\n",
    "                for thr_col in np.linspace(0,0.99,100):\n",
    "                    y_pred_valid_labels[:,ncol] = y_pred_valid_cp[:,ncol]>thr_col\n",
    "                    f1_tmp = metrics.f1_score(y_true_valid_labels[:,ncol].flatten(), \n",
    "                                              y_pred_valid_labels[:,ncol].flatten())\n",
    "                    if f1_tmp>f1_col:\n",
    "                        f1_col = f1_tmp\n",
    "                        best_thr[ncol] = thr_col\n",
    "\n",
    "            for ncol, thr_col in enumerate(best_thr):\n",
    "                y_pred_valid_labels[:,ncol] = y_pred_valid_cp[:,ncol]>thr_col\n",
    "\n",
    "            f1_micro = metrics.f1_score(y_true_valid_labels, y_pred_valid_labels, average='micro')\n",
    "            f1_macro = metrics.f1_score(y_true_valid_labels, y_pred_valid_labels, average='macro')\n",
    "            f1_weighted = metrics.f1_score(y_true_valid_labels, y_pred_valid_labels, average='weighted')\n",
    "\n",
    "#             f1_col = 0\n",
    "#             for thr_col1 in tqdm(np.linspace(0,0.90,41)):\n",
    "#                 for thr_col2 in np.linspace(0,0.90,41):\n",
    "#                     for thr_col3 in np.linspace(0,0.90,41):\n",
    "#                         y_pred_valid_labels[:,0] = y_pred_valid_cp[:,0]>thr_col1\n",
    "#                         y_pred_valid_labels[:,1] = y_pred_valid_cp[:,1]>thr_col2\n",
    "#                         y_pred_valid_labels[:,2] = y_pred_valid_cp[:,2]>thr_col3\n",
    "#                         f1_tmp = metrics.f1_score(y_true_valid_labels, y_pred_valid_labels, average='micro')\n",
    "#                         if f1_tmp>f1_col:\n",
    "#                             best_thr = [thr_col1, thr_col2, thr_col3]\n",
    "#                             f1_col = f1_tmp\n",
    "\n",
    "#             for ncol, thr_col in enumerate(best_thr):\n",
    "#                 y_pred_valid_labels[:,ncol] = y_pred_valid_cp[:,ncol]>thr_col\n",
    "                \n",
    "#             f1_micro = metrics.f1_score(y_true_valid_labels, y_pred_valid_labels, average='micro')\n",
    "#             f1_macro = metrics.f1_score(y_true_valid_labels, y_pred_valid_labels, average='macro')\n",
    "#             f1_weighted = metrics.f1_score(y_true_valid_labels, y_pred_valid_labels, average='weighted')\n",
    "            \n",
    "            tiempo = round(((time.time() - start)/60),2)\n",
    "            tiempo_epoch = round(((time.time() - start_epoch)/60),2)\n",
    "#             clear_output(wait=True) #para limpiar warnings\n",
    "            print(f'Epoch={epoch:02d} TrainLOSS={train_loss:.04f}\\tValidLOSS={valid_loss:.04f}  ValidACC={valid_acc:.04f}  ValidAUC={valid_auc:0.4f}')\n",
    "            print(f'\\t\\t\\t f1_micro={f1_micro:.04f}  f1_macro={f1_macro:.04f}  f1_weighted={f1_weighted:0.4f}')\n",
    "            print(f'BestE={best_epoch:02d} min={tiempo_epoch:.01f}/{tiempo:.01f}\\tBest_LOSS={best_loss:.04f}  Best_ACC={best_acc:.04f}  Best_AUC={best_auc:.04f}')\n",
    "            print(f'\\t\\t\\t best_f1_micro={best_f1_micro:.04f}  best_f1_macro={best_f1_macro:.04f}  best_f1_weighted={best_f1_weighted:0.4f}')\n",
    "\n",
    "            # Guarda mejor modelo y mejores resultados\n",
    "            # ----------------------------------------\n",
    "            \n",
    "            # if f1_micro > best_f1_micro:\n",
    "            #     print(f\"########## >>>>>>>> Model Mejorado de loss={best_f1_micro} ----> loss=={f1_micro} thr={best_thr}\")\n",
    "                # print(f\"########## >>>>>>>> Model Mejorado de loss={best_auc} ----> loss=={valid_auc}\")\n",
    "            \n",
    "            if valid_loss < best_loss:\n",
    "                print(f\"########## >>>>>>>> Model Mejorado de loss={best_loss} ----> loss=={valid_loss}\")\n",
    "                \n",
    "                torch.save(model.state_dict(), output_dir / f'modelo_fold-{fold}.bin')\n",
    "                best_epoch = epoch\n",
    "                best_loss = valid_loss\n",
    "                best_acc = valid_acc\n",
    "                best_auc = valid_auc\n",
    "                best_f1_micro = f1_micro\n",
    "                best_f1_macro = f1_macro\n",
    "                best_f1_weighted = f1_weighted\n",
    "                best_thr_all = best_thr.copy()\n",
    "                early_stop_count = 0\n",
    "                best_preds_fold = y_pred_valid\n",
    "                best_trues_fold = y_true_valid\n",
    "            else:\n",
    "                early_stop_count += 1\n",
    "\n",
    "            # Guarda resultados del epoch\n",
    "            # ---------------------------\n",
    "            if scheduler.__class__ ==  torch.optim.lr_scheduler.OneCycleLR:\n",
    "                lr = scheduler.get_last_lr()[0]\n",
    "            else:\n",
    "                lr = optimizer.param_groups[0]['lr']\n",
    "\n",
    "            res.append(dict({'epoch':epoch, 'lr':lr, 'tiempo':tiempo,\n",
    "                             'trn_loss':train_loss, 'val_loss':valid_loss, \n",
    "                             'val_acc':valid_acc, 'val_auc':valid_auc,\n",
    "                             'f1_micro':f1_micro, 'f1_macro':f1_macro, 'f1_weighted':f1_weighted,\n",
    "                             'best_epoch':best_epoch, 'best_loss':best_loss,\n",
    "                             'best_acc':best_acc, 'best_auc':best_auc,\n",
    "                             'best_f1_micro':best_f1_micro, 'best_f1_macro':best_f1_macro, 'best_f1_weighted':best_f1_weighted,\n",
    "                             }))\n",
    "            res_df = pd.DataFrame(res)\n",
    "            res_df.to_csv(output_dir / f'modelo_fold-{fold}.csv')\n",
    "\n",
    "            # Guarda predicciones\n",
    "            # -------------------\n",
    "            with open(output_dir / f'modelo_fold-{fold}.pkl', 'wb') as file:\n",
    "                pickle.dump(best_preds_fold, file)\n",
    "                pickle.dump(best_trues_fold, file)\n",
    "\n",
    "            # Dibuja graficos\n",
    "            # ---------------\n",
    "            fig, axs = plt.subplots(2,2, figsize=(15,15))\n",
    "            axs[0,0].plot(res_df['trn_loss'].values, label='trn_loss')\n",
    "            axs[0,0].plot(res_df['val_loss'].values, label='val_loss')\n",
    "            axs[0,0].set_xlabel('Epochs')\n",
    "            axs[0,0].set_ylabel('Loss')\n",
    "            axs[0,0].set_title(f'Val_loss={valid_loss:.6f} Best={best_loss:.6f} in Epoch{best_epoch}')\n",
    "            axs[0,0].legend(loc='upper right')\n",
    "\n",
    "            axs[0,1].plot(res_df['val_acc'].values, label='val_acc')\n",
    "            axs[0,1].plot(res_df['f1_micro'].values, label='f1_micro')\n",
    "#             axs[0,1].plot(res_df['f1_macro'].values, label='f1_macro')\n",
    "    #         axs[0,1].plot(res_df['f1_weighted'].values, label='f1_weighted')\n",
    "            axs[0,1].set_xlabel('Epochs')\n",
    "            axs[0,1].set_ylabel('Acc y f1micro')\n",
    "    #         axs[0,1].set_title(f'ACC={valid_acc:.3f},fmic={f1_micro:.3f},fmac={f1_macro:.3f} fweig={f1_weighted:.3f} Best[ACC={best_acc:.3f},fmic={best_f1_micro:.3f},fmac={best_f1_macro:.3f},fweig={best_f1_weighted:.3f} Epoch{best_epoch}]')\n",
    "            axs[0,1].set_title(f'ACC={valid_acc:.4f} fmic={f1_micro:.5f} Best:[ACC={best_acc:.4f} fmic={best_f1_micro:.5f}')\n",
    "            axs[0,1].legend(loc='lower right')\n",
    "\n",
    "            axs[1,0].plot(res_df['val_auc'].values, label='auc')\n",
    "            axs[1,0].set_xlabel('Epochs')\n",
    "            axs[1,0].set_ylabel('AUC MEAN')\n",
    "            axs[1,0].set_title(f'AUC={valid_auc:.6f} BestAUC={best_auc:.6f} in Epoch{best_epoch}')\n",
    "\n",
    "            axs[1,1].plot(res_df['lr'].values)\n",
    "            axs[1,1].set_xlabel('Epochs')\n",
    "            axs[1,1].set_ylabel('Learning Rate')\n",
    "            axs[1,1].set_title(f'Learning Rate={lr:.8f} Max={res_df.lr.max():.8f} Min={res_df.lr.min():.8f}')\n",
    "            fig.savefig(output_dir / f'modelo_fold-{fold}.png',facecolor='white', edgecolor='white')\n",
    "            plt.close(fig)\n",
    "\n",
    "            # Si se alcanza parada temprada sal\n",
    "            # ---------------------------------\n",
    "            if EARLY_STOP == early_stop_count:\n",
    "                print('\\n !!! ALCANZADO EARLY STOPPING EN EL EPOCH:', epoch, '!!! MEJOR MODELO EN EPOCH:', best_epoch)\n",
    "                break\n",
    "        trues_total.append(best_trues_fold)\n",
    "        preds_total.append(best_preds_fold)\n",
    "\n",
    "    best_trues_fold = np.vstack(trues_total)\n",
    "    best_preds_fold = np.vstack(preds_total)"
   ]
  },
  {
   "cell_type": "markdown",
   "id": "d7830b47-9ed2-4edc-9bc0-59feb877104a",
   "metadata": {},
   "source": [
    "# Inferencia de 10 segundos con paso 5 de la base de datos de testeo"
   ]
  },
  {
   "cell_type": "code",
   "execution_count": 42,
   "id": "c2d0f35f-441e-45fe-8ed5-9a5969786015",
   "metadata": {},
   "outputs": [],
   "source": [
    "# Bucle para inferencia\n",
    "def test_epoch(model, loader):\n",
    "    model.eval()\n",
    "    y_pred = []\n",
    "    y_frame = []\n",
    "    with torch.no_grad():\n",
    "        for sample in tqdm(loader):\n",
    "            input_fft = sample['img_fft'].float().to(device)\n",
    "            input_cqt = sample['img_cqt'].float().to(device)\n",
    "            bs = input_fft.size(0)\n",
    "            output = model(input_fft, input_cqt)\n",
    "            y_pred.append(torch.sigmoid(output['logit']).detach().cpu().numpy())  \n",
    "            y_frame.append(output['framewise_output'].detach().cpu().numpy())\n",
    "            \n",
    "    y_pred = np.vstack(y_pred)\n",
    "    y_frame = np.vstack(y_frame)\n",
    "    return y_pred, y_frame"
   ]
  },
  {
   "cell_type": "code",
   "execution_count": 43,
   "id": "0a3ff6fd-06c9-461d-abbe-268acb1518c8",
   "metadata": {},
   "outputs": [
    {
     "data": {
      "text/plain": [
       "(566, 14)"
      ]
     },
     "execution_count": 43,
     "metadata": {},
     "output_type": "execute_result"
    }
   ],
   "source": [
    "# Base de datos de testeo fold 1\n",
    "test_df = df_para_sed[df_para_sed['kfold'] == 1].reset_index(drop=True)\n",
    "test_df.shape"
   ]
  },
  {
   "cell_type": "code",
   "execution_count": 44,
   "id": "60d8ebb8-5949-4b3f-92cf-48451516cfea",
   "metadata": {},
   "outputs": [
    {
     "name": "stdout",
     "output_type": "stream",
     "text": [
      "(40, 2)\n"
     ]
    },
    {
     "data": {
      "text/html": [
       "<div>\n",
       "<style scoped>\n",
       "    .dataframe tbody tr th:only-of-type {\n",
       "        vertical-align: middle;\n",
       "    }\n",
       "\n",
       "    .dataframe tbody tr th {\n",
       "        vertical-align: top;\n",
       "    }\n",
       "\n",
       "    .dataframe thead th {\n",
       "        text-align: right;\n",
       "    }\n",
       "</style>\n",
       "<table border=\"1\" class=\"dataframe\">\n",
       "  <thead>\n",
       "    <tr style=\"text-align: right;\">\n",
       "      <th></th>\n",
       "      <th>path</th>\n",
       "      <th>dir</th>\n",
       "    </tr>\n",
       "  </thead>\n",
       "  <tbody>\n",
       "    <tr>\n",
       "      <th>0</th>\n",
       "      <td>0bdbfee0862b52849e9448cf51999722</td>\n",
       "      <td>../input/datathon2022/dataset1/0bdbfee0862b528...</td>\n",
       "    </tr>\n",
       "    <tr>\n",
       "      <th>1</th>\n",
       "      <td>12626fc70269add8eaa3a904c3ee598e</td>\n",
       "      <td>../input/datathon2022/dataset1/12626fc70269add...</td>\n",
       "    </tr>\n",
       "    <tr>\n",
       "      <th>2</th>\n",
       "      <td>1fcc39b2754c7bad3bd1091deff26949</td>\n",
       "      <td>../input/datathon2022/dataset1/1fcc39b2754c7ba...</td>\n",
       "    </tr>\n",
       "    <tr>\n",
       "      <th>3</th>\n",
       "      <td>2a1adb8d907b5ef1808260ac802c73a3</td>\n",
       "      <td>../input/datathon2022/dataset1/2a1adb8d907b5ef...</td>\n",
       "    </tr>\n",
       "    <tr>\n",
       "      <th>4</th>\n",
       "      <td>2d2302e4ae13b1dd6a79251ddd4baa48</td>\n",
       "      <td>../input/datathon2022/dataset1/2d2302e4ae13b1d...</td>\n",
       "    </tr>\n",
       "  </tbody>\n",
       "</table>\n",
       "</div>"
      ],
      "text/plain": [
       "                               path                                                dir\n",
       "0  0bdbfee0862b52849e9448cf51999722  ../input/datathon2022/dataset1/0bdbfee0862b528...\n",
       "1  12626fc70269add8eaa3a904c3ee598e  ../input/datathon2022/dataset1/12626fc70269add...\n",
       "2  1fcc39b2754c7bad3bd1091deff26949  ../input/datathon2022/dataset1/1fcc39b2754c7ba...\n",
       "3  2a1adb8d907b5ef1808260ac802c73a3  ../input/datathon2022/dataset1/2a1adb8d907b5ef...\n",
       "4  2d2302e4ae13b1dd6a79251ddd4baa48  ../input/datathon2022/dataset1/2d2302e4ae13b1d..."
      ]
     },
     "execution_count": 44,
     "metadata": {},
     "output_type": "execute_result"
    }
   ],
   "source": [
    "test_df_filenames = test_df[['path', 'dir']].drop_duplicates().reset_index(drop=True)\n",
    "print(test_df_filenames.shape)\n",
    "test_df_filenames.head()"
   ]
  },
  {
   "cell_type": "markdown",
   "id": "947043c9-e02b-4074-b815-a43fb37f6d08",
   "metadata": {},
   "source": [
    "## Creamos BD con paso 5"
   ]
  },
  {
   "cell_type": "code",
   "execution_count": 45,
   "id": "99d26952-ae05-4e69-a5ce-6f5774437548",
   "metadata": {},
   "outputs": [
    {
     "name": "stderr",
     "output_type": "stream",
     "text": [
      "100%|██████████| 40/40 [00:00<00:00, 3053.57it/s]"
     ]
    },
    {
     "name": "stdout",
     "output_type": "stream",
     "text": [
      "(1160, 7)\n",
      "[500000]\n"
     ]
    },
    {
     "name": "stderr",
     "output_type": "stream",
     "text": [
      "\n"
     ]
    },
    {
     "data": {
      "text/html": [
       "<div>\n",
       "<style scoped>\n",
       "    .dataframe tbody tr th:only-of-type {\n",
       "        vertical-align: middle;\n",
       "    }\n",
       "\n",
       "    .dataframe tbody tr th {\n",
       "        vertical-align: top;\n",
       "    }\n",
       "\n",
       "    .dataframe thead th {\n",
       "        text-align: right;\n",
       "    }\n",
       "</style>\n",
       "<table border=\"1\" class=\"dataframe\">\n",
       "  <thead>\n",
       "    <tr style=\"text-align: right;\">\n",
       "      <th></th>\n",
       "      <th>path</th>\n",
       "      <th>dir</th>\n",
       "      <th>start</th>\n",
       "      <th>end</th>\n",
       "      <th>pos_ini</th>\n",
       "      <th>pos_fin</th>\n",
       "      <th>len_audio</th>\n",
       "      <th>duracion</th>\n",
       "    </tr>\n",
       "  </thead>\n",
       "  <tbody>\n",
       "    <tr>\n",
       "      <th>1155</th>\n",
       "      <td>fd90a64e5df64cdfb0b37ebe23b585a1</td>\n",
       "      <td>../input/datathon2022/dataset1/fd90a64e5df64cd...</td>\n",
       "      <td>240.0</td>\n",
       "      <td>250.0</td>\n",
       "      <td>12000000</td>\n",
       "      <td>12500000</td>\n",
       "      <td>14700000</td>\n",
       "      <td>500000</td>\n",
       "    </tr>\n",
       "    <tr>\n",
       "      <th>1156</th>\n",
       "      <td>fd90a64e5df64cdfb0b37ebe23b585a1</td>\n",
       "      <td>../input/datathon2022/dataset1/fd90a64e5df64cd...</td>\n",
       "      <td>250.0</td>\n",
       "      <td>260.0</td>\n",
       "      <td>12500000</td>\n",
       "      <td>13000000</td>\n",
       "      <td>14700000</td>\n",
       "      <td>500000</td>\n",
       "    </tr>\n",
       "    <tr>\n",
       "      <th>1157</th>\n",
       "      <td>fd90a64e5df64cdfb0b37ebe23b585a1</td>\n",
       "      <td>../input/datathon2022/dataset1/fd90a64e5df64cd...</td>\n",
       "      <td>260.0</td>\n",
       "      <td>270.0</td>\n",
       "      <td>13000000</td>\n",
       "      <td>13500000</td>\n",
       "      <td>14700000</td>\n",
       "      <td>500000</td>\n",
       "    </tr>\n",
       "    <tr>\n",
       "      <th>1158</th>\n",
       "      <td>fd90a64e5df64cdfb0b37ebe23b585a1</td>\n",
       "      <td>../input/datathon2022/dataset1/fd90a64e5df64cd...</td>\n",
       "      <td>270.0</td>\n",
       "      <td>280.0</td>\n",
       "      <td>13500000</td>\n",
       "      <td>14000000</td>\n",
       "      <td>14700000</td>\n",
       "      <td>500000</td>\n",
       "    </tr>\n",
       "    <tr>\n",
       "      <th>1159</th>\n",
       "      <td>fd90a64e5df64cdfb0b37ebe23b585a1</td>\n",
       "      <td>../input/datathon2022/dataset1/fd90a64e5df64cd...</td>\n",
       "      <td>280.0</td>\n",
       "      <td>290.0</td>\n",
       "      <td>14000000</td>\n",
       "      <td>14500000</td>\n",
       "      <td>14700000</td>\n",
       "      <td>500000</td>\n",
       "    </tr>\n",
       "  </tbody>\n",
       "</table>\n",
       "</div>"
      ],
      "text/plain": [
       "                                  path                                                dir  start    end   pos_ini   pos_fin  len_audio  duracion\n",
       "1155  fd90a64e5df64cdfb0b37ebe23b585a1  ../input/datathon2022/dataset1/fd90a64e5df64cd...  240.0  250.0  12000000  12500000   14700000    500000\n",
       "1156  fd90a64e5df64cdfb0b37ebe23b585a1  ../input/datathon2022/dataset1/fd90a64e5df64cd...  250.0  260.0  12500000  13000000   14700000    500000\n",
       "1157  fd90a64e5df64cdfb0b37ebe23b585a1  ../input/datathon2022/dataset1/fd90a64e5df64cd...  260.0  270.0  13000000  13500000   14700000    500000\n",
       "1158  fd90a64e5df64cdfb0b37ebe23b585a1  ../input/datathon2022/dataset1/fd90a64e5df64cd...  270.0  280.0  13500000  14000000   14700000    500000\n",
       "1159  fd90a64e5df64cdfb0b37ebe23b585a1  ../input/datathon2022/dataset1/fd90a64e5df64cd...  280.0  290.0  14000000  14500000   14700000    500000"
      ]
     },
     "execution_count": 45,
     "metadata": {},
     "output_type": "execute_result"
    }
   ],
   "source": [
    "step_audio = int(10.0 * 50000) \n",
    "win_ancho = int(10.0 * 50000)\n",
    "db_testeo_troceada = []\n",
    "for nrow, row in tqdm(test_df_filenames.iterrows(),total=len(test_df_filenames)):\n",
    "    for pos_ini in np.arange(0,14700000-step_audio,step_audio):\n",
    "        pos_fin = pos_ini + win_ancho\n",
    "        if pos_fin > 14700000:\n",
    "            break\n",
    "        db_testeo_troceada.append(dict(path=row['path'],\n",
    "                                dir=row['dir'],\n",
    "                                start=float(pos_ini/50000),\n",
    "                                end=float(pos_fin/50000),\n",
    "                                pos_ini=pos_ini,\n",
    "                                pos_fin=pos_fin,\n",
    "                                len_audio=14700000))\n",
    "db_testeo_troceada = pd.DataFrame(db_testeo_troceada)\n",
    "print(db_testeo_troceada.shape)\n",
    "db_testeo_troceada['duracion'] = db_testeo_troceada['pos_fin'] - db_testeo_troceada['pos_ini']\n",
    "print(db_testeo_troceada.duracion.unique())\n",
    "db_testeo_troceada.tail()"
   ]
  },
  {
   "cell_type": "markdown",
   "id": "a4331347-4791-4714-ba89-81f1e412e4d7",
   "metadata": {},
   "source": [
    "## Inferencia"
   ]
  },
  {
   "cell_type": "code",
   "execution_count": 46,
   "id": "4189b11a-a105-4716-bab5-4fc34105fe93",
   "metadata": {},
   "outputs": [
    {
     "name": "stderr",
     "output_type": "stream",
     "text": [
      "100%|██████████| 58/58 [06:07<00:00,  6.33s/it]\n"
     ]
    }
   ],
   "source": [
    "model = AudioSEDModel('tf_efficientnet_b0_ns', 4).to(device)\n",
    "model.load_state_dict(torch.load('resultados/0048_model/modelo_fold-0.bin'))\n",
    "model = model.to(device)\n",
    "\n",
    "testset = SedDataset(df=db_testeo_troceada, audio_transform=None,  modo=\"test\")\n",
    "test_loader = DataLoader(testset, batch_size=BATCH_VALID, shuffle=False, drop_last=False, num_workers=NUM_WORKERS)\n",
    "warnings.filterwarnings('ignore')\n",
    "preds_fragments, frames_fragments = test_epoch(model, test_loader)"
   ]
  },
  {
   "cell_type": "markdown",
   "id": "8401cbc5-ca43-4275-863d-d7fc47624da6",
   "metadata": {},
   "source": [
    "# Sacamos los Eventos Reales"
   ]
  },
  {
   "cell_type": "code",
   "execution_count": 47,
   "id": "eb1c62d0-cd7d-4cee-8805-4e4a5b83ccd3",
   "metadata": {},
   "outputs": [],
   "source": [
    "true_fragments = []\n",
    "for nrow, record in db_testeo_troceada.iterrows():\n",
    "    name_file = record['path']\n",
    "    namedir = record['dir']\n",
    "    len_audio = record['len_audio']\n",
    "    pos_ini = record['pos_ini']\n",
    "    pos_fin = record['pos_fin']\n",
    "            \n",
    "    dentro_caja = test_df.query('path == @name_file & pos_ini > @pos_ini & pos_ini < @pos_fin')\n",
    "    labels = np.zeros(4)\n",
    "    for nrow, row in dentro_caja.iterrows():\n",
    "        pos_ini_label = row['pos_ini']\n",
    "        pos_fin_label = row['pos_fin']\n",
    "        label = row['label']\n",
    "        labels[clases_num[label]] = 1.0\n",
    "    true_fragments.append(labels)\n",
    "true_fragments = np.stack(true_fragments)"
   ]
  },
  {
   "cell_type": "code",
   "execution_count": 230,
   "id": "1f4fb14e-0875-4020-aad5-1d55ba6bba3e",
   "metadata": {},
   "outputs": [],
   "source": [
    "with open('resultados/pred_db_testeo.pkl', 'wb') as file:\n",
    "    pickle.dump(test_df, file)\n",
    "    pickle.dump(db_testeo_troceada, file)\n",
    "    pickle.dump(preds_fragments, file)\n",
    "    pickle.dump(true_fragments, file)\n",
    "    pickle.dump(frames_fragments, file)    "
   ]
  },
  {
   "cell_type": "code",
   "execution_count": 56,
   "id": "3a366873-d591-4ee6-8186-75400ad51867",
   "metadata": {},
   "outputs": [
    {
     "data": {
      "text/plain": [
       "(array([175., 166.,  30.,   4.]),\n",
       " 1160,\n",
       " {'whistle': 2848, 'click': 2077, 'cetaceans_allfreq': 475, 'allfreq': 23})"
      ]
     },
     "execution_count": 56,
     "metadata": {},
     "output_type": "execute_result"
    }
   ],
   "source": [
    "# Cuantos hay realmente en 1160 fragmentos\n",
    "true_fragments_cp = true_fragments.copy()\n",
    "preds_fragments_cp = preds_fragments.copy()\n",
    "true_fragments.sum(axis=0), len(true_fragments), clases"
   ]
  },
  {
   "cell_type": "code",
   "execution_count": 90,
   "id": "f64f5e33-562a-43f6-a46b-061153f45dde",
   "metadata": {},
   "outputs": [
    {
     "data": {
      "text/plain": [
       "(array([  12,   20,   21,   30,   32,   45,   47,   48,  145,  146,  147,\n",
       "         148,  149,  150,  151,  152,  153,  154,  155,  156,  157,  158,\n",
       "         159,  160,  161,  163,  164,  165,  172,  174,  176,  177,  178,\n",
       "         180,  181,  182,  183,  184,  185,  186,  188,  189,  190,  191,\n",
       "         192,  193,  194,  195,  196,  197,  198,  199,  200,  201,  202,\n",
       "         211,  212,  242,  247,  249,  256,  259,  412,  414,  415,  416,\n",
       "         417,  419,  420,  421,  422,  423,  424,  431,  433,  434,  435,\n",
       "         494,  503,  515,  519,  520,  521,  667,  670,  673,  674,  675,\n",
       "         676,  677,  678,  679,  680,  681,  682,  683,  684,  685,  686,\n",
       "         687,  688,  689,  690,  691,  692,  693,  694,  695,  696,  697,\n",
       "         698,  699,  700,  701,  702,  703,  704,  705,  706,  707,  708,\n",
       "         709,  710,  711,  713,  714,  717,  718,  719,  731,  812,  826,\n",
       "         893,  895,  896,  897,  898,  916, 1015, 1016, 1017, 1018, 1020,\n",
       "        1021, 1022, 1023, 1024, 1025, 1026, 1027, 1028, 1029, 1030, 1031,\n",
       "        1032, 1033, 1034, 1035, 1036, 1037, 1038, 1039, 1040, 1041, 1042,\n",
       "        1043]),)"
      ]
     },
     "execution_count": 90,
     "metadata": {},
     "output_type": "execute_result"
    }
   ],
   "source": [
    "np.where(true_fragments[:,1]==1)"
   ]
  },
  {
   "cell_type": "code",
   "execution_count": 108,
   "id": "c2088114-8a78-41ae-b95a-99320ec6e42c",
   "metadata": {},
   "outputs": [
    {
     "data": {
      "text/plain": [
       "array([0., 1., 0., 0.])"
      ]
     },
     "execution_count": 108,
     "metadata": {},
     "output_type": "execute_result"
    }
   ],
   "source": [
    "true_fragments[45,:]"
   ]
  },
  {
   "cell_type": "code",
   "execution_count": 111,
   "id": "57286bab-d1c6-4a2f-aa1a-9c6622508f3d",
   "metadata": {},
   "outputs": [
    {
     "data": {
      "text/plain": [
       "array([False, False, False, False])"
      ]
     },
     "execution_count": 111,
     "metadata": {},
     "output_type": "execute_result"
    }
   ],
   "source": [
    "preds_fragments[45,:]>best_thr_tst"
   ]
  },
  {
   "cell_type": "code",
   "execution_count": 115,
   "id": "cbb1ec42-dc5d-4c73-83fb-30e599765296",
   "metadata": {},
   "outputs": [
    {
     "data": {
      "text/plain": [
       "array([[ True, False, False, False],\n",
       "       [ True, False, False, False],\n",
       "       [ True, False, False, False],\n",
       "       ...,\n",
       "       [ True, False,  True,  True],\n",
       "       [ True, False,  True,  True],\n",
       "       [ True, False,  True,  True]])"
      ]
     },
     "execution_count": 115,
     "metadata": {},
     "output_type": "execute_result"
    }
   ],
   "source": [
    "frames_fragments[45,:,:]>best_thr_tst"
   ]
  },
  {
   "cell_type": "code",
   "execution_count": null,
   "id": "b4a73f62-bea7-47f3-83bb-3c4ebc38fbc2",
   "metadata": {},
   "outputs": [],
   "source": []
  },
  {
   "cell_type": "code",
   "execution_count": 53,
   "id": "c2e20e4d-542a-4085-9c84-5174d312f62d",
   "metadata": {},
   "outputs": [
    {
     "name": "stdout",
     "output_type": "stream",
     "text": [
      "[0.2022022  0.13713714 0.07307307 0.001001  ]\n"
     ]
    },
    {
     "data": {
      "text/plain": [
       "array([176, 166,  25,   1])"
      ]
     },
     "execution_count": 53,
     "metadata": {},
     "output_type": "execute_result"
    }
   ],
   "source": [
    "# Buscamos los mejores THR que igualen el numero de clases de predicción con las reales\n",
    "numero_en_test = true_fragments.sum(axis=0)\n",
    "best_thr_tst = np.array([0.0, 0.0, 0.0, 0.0])\n",
    "for nclase in range(4):\n",
    "    diff_total=999999\n",
    "    for thr in np.linspace(0.0,1.0,1000):\n",
    "        dif_num = np.abs(numero_en_test[nclase]-(preds_fragments_cp[:,nclase].flatten()>thr).sum())\n",
    "        if dif_num < diff_total:\n",
    "            # print(thr, dif_num)\n",
    "            diff_total = dif_num\n",
    "            best_thr_tst[nclase] = thr\n",
    "            \n",
    "print(best_thr_tst)\n",
    "(preds_fragments_cp>np.array(best_thr_tst)).sum(axis=0)"
   ]
  },
  {
   "cell_type": "code",
   "execution_count": 54,
   "id": "dc0bee16-cdb0-4865-891c-9926daeb8750",
   "metadata": {},
   "outputs": [
    {
     "data": {
      "text/plain": [
       "array([0.15086207, 0.14310345, 0.02586207, 0.00344828])"
      ]
     },
     "execution_count": 54,
     "metadata": {},
     "output_type": "execute_result"
    }
   ],
   "source": [
    "true_fragments.sum(axis=0) / len(true_fragments)"
   ]
  },
  {
   "cell_type": "code",
   "execution_count": 57,
   "id": "069d364a-2ab1-40e8-a6e8-b8ce308250cd",
   "metadata": {},
   "outputs": [
    {
     "name": "stdout",
     "output_type": "stream",
     "text": [
      "0.34185733512786004 0.18939003878762917 0.33849192782526116\n"
     ]
    }
   ],
   "source": [
    "y_true_valid_labels = (true_fragments_cp > 0.50)\n",
    "y_pred_valid_labels = (preds_fragments_cp > 0.50)\n",
    "for ncol, thr_col in enumerate(best_thr_tst):\n",
    "    y_pred_valid_labels[:,ncol] = preds_fragments_cp[:,ncol]>thr_col\n",
    "\n",
    "f1_micro = metrics.f1_score(y_true_valid_labels, y_pred_valid_labels, average='micro')\n",
    "f1_macro = metrics.f1_score(y_true_valid_labels, y_pred_valid_labels, average='macro')\n",
    "f1_weighted = metrics.f1_score(y_true_valid_labels, y_pred_valid_labels, average='weighted')\n",
    "print(f1_micro, f1_macro, f1_weighted)"
   ]
  },
  {
   "cell_type": "markdown",
   "id": "6ede063e-9b8f-459e-8c66-8d6f9afa9407",
   "metadata": {},
   "source": [
    "# Obtenemos Thresholds de Validacion y Comprobamos con Test"
   ]
  },
  {
   "cell_type": "code",
   "execution_count": 58,
   "id": "e16f23a8-5d2f-4f73-b465-f9104ff11965",
   "metadata": {},
   "outputs": [],
   "source": [
    "with open('resultados/0048_model/modelo_fold-0.pkl', 'rb') as file:\n",
    "    best_preds_fold = pickle.load(file)\n",
    "    best_trues_fold = pickle.load(file)"
   ]
  },
  {
   "cell_type": "code",
   "execution_count": 63,
   "id": "0b74cc80-9393-4817-9882-6a0f63a02fe9",
   "metadata": {},
   "outputs": [
    {
     "data": {
      "text/plain": [
       "(array([52., 27., 20.,  0.], dtype=float32), 513)"
      ]
     },
     "execution_count": 63,
     "metadata": {},
     "output_type": "execute_result"
    }
   ],
   "source": [
    "# Cuantos hay realmente en 513 (OJO SON MENOS QUE EN TEST)\n",
    "true_fragments_cp_val = best_trues_fold.copy()\n",
    "preds_fragments_cp_val = best_preds_fold.copy()\n",
    "true_fragments_cp_val.sum(axis=0), len(true_fragments_cp_val)"
   ]
  },
  {
   "cell_type": "code",
   "execution_count": 64,
   "id": "7967b54e-c2b0-4e65-a90a-46a67ae17812",
   "metadata": {},
   "outputs": [
    {
     "name": "stdout",
     "output_type": "stream",
     "text": [
      "[0.21121121 0.11211211 0.07007007 0.002002  ]\n"
     ]
    },
    {
     "data": {
      "text/plain": [
       "array([53, 29, 22,  0])"
      ]
     },
     "execution_count": 64,
     "metadata": {},
     "output_type": "execute_result"
    }
   ],
   "source": [
    "# Buscamos los mejores THR que igualen el numero de clases de predicción con las reales en validación\n",
    "numero_en_valid = best_trues_fold.sum(axis=0)\n",
    "best_thr_val = np.array([0.0, 0.0, 0.0, 0.0])\n",
    "for nclase in range(4):\n",
    "    diff_total=999999\n",
    "    for thr in np.linspace(0.0,1.0,1000):\n",
    "        dif_num = np.abs(numero_en_valid[nclase]-(preds_fragments_cp_val[:,nclase].flatten()>thr).sum())\n",
    "        if dif_num < diff_total:\n",
    "            # print(thr, dif_num)\n",
    "            diff_total = dif_num\n",
    "            best_thr_val[nclase] = thr\n",
    "            \n",
    "print(best_thr_val)\n",
    "(preds_fragments_cp_val>np.array(best_thr_val)).sum(axis=0)"
   ]
  },
  {
   "cell_type": "code",
   "execution_count": 68,
   "id": "f5c7e4e2-e1f7-4ed3-9d5c-58d0268e62c2",
   "metadata": {},
   "outputs": [
    {
     "data": {
      "text/plain": [
       "array([0.2022022 , 0.13713714, 0.07307307, 0.001001  ])"
      ]
     },
     "execution_count": 68,
     "metadata": {},
     "output_type": "execute_result"
    }
   ],
   "source": [
    "best_thr_tst"
   ]
  },
  {
   "cell_type": "code",
   "execution_count": 67,
   "id": "660d2f27-147c-40d6-badc-3e1faace7b89",
   "metadata": {},
   "outputs": [],
   "source": [
    "# y_true_valid_labels_val = (true_fragments_cp_val > 0.50)\n",
    "# y_pred_valid_labels_val = (preds_fragments_cp_val > 0.50)\n",
    "# for ncol, thr_col in enumerate(best_thr_tst):\n",
    "#     y_pred_valid_labels_val[:,ncol] = preds_fragments_cp_val[:,ncol]>thr_col\n",
    "\n",
    "# f1_micro = metrics.f1_score(y_true_valid_labels_val, y_pred_valid_labels_val, average='micro')\n",
    "# f1_macro = metrics.f1_score(y_true_valid_labels_val, y_pred_valid_labels_val, average='macro')\n",
    "# f1_weighted = metrics.f1_score(y_true_valid_labels_val, y_pred_valid_labels_val, average='weighted')\n",
    "# print(f1_micro, f1_macro, f1_weighted)"
   ]
  },
  {
   "cell_type": "code",
   "execution_count": null,
   "id": "6f7ae067-12ae-4a63-bf4b-6baccb44f946",
   "metadata": {},
   "outputs": [],
   "source": [
    "BEST THR EN VAL = [0.21121121 0.11211211 0.07007007 0.002002  ] #513 en VAL \n",
    "BEST THR EN TST = [0.2022022  0.13713714 0.07307307 0.001001  ] #1160 en TEST **** "
   ]
  },
  {
   "cell_type": "code",
   "execution_count": 61,
   "id": "93206392-c34b-4900-a675-e08daa9694f9",
   "metadata": {},
   "outputs": [],
   "source": [
    "# # Obtain best f1macro\n",
    "# y_pred_valid_cp = best_preds_fold.copy() #np.vstack([i for i in best_preds_fold])\n",
    "# y_true_valid_cp = best_trues_fold.copy() #np.vstack([i for i in best_trues_fold])\n",
    "\n",
    "# #             y_pred_valid_cp = y_pred_valid.copy()\n",
    "# y_pred_valid_labels = (y_pred_valid_cp>0.50)\n",
    "# y_true_valid_labels = (y_true_valid_cp>0.50)\n",
    "\n",
    "# best_thr = [1.0, 1.0, 1.0, 1.0]\n",
    "# for ncol in tqdm(range(4)):\n",
    "#     f1_col = 0\n",
    "#     for thr_col in np.linspace(0,0.99,100):\n",
    "#         y_pred_valid_labels[:,ncol] = y_pred_valid_cp[:,ncol]>thr_col\n",
    "#         f1_tmp = metrics.f1_score(y_true_valid_labels[:,ncol].flatten(), \n",
    "#                                   y_pred_valid_labels[:,ncol].flatten())\n",
    "#         if f1_tmp>f1_col:\n",
    "#             f1_col = f1_tmp\n",
    "#             best_thr[ncol] = thr_col\n",
    "\n",
    "# for ncol, thr_col in enumerate(best_thr):\n",
    "#     y_pred_valid_labels[:,ncol] = y_pred_valid_cp[:,ncol]>thr_col\n",
    "\n",
    "# f1_micro = metrics.f1_score(y_true_valid_labels, y_pred_valid_labels, average='micro')\n",
    "# f1_macro = metrics.f1_score(y_true_valid_labels, y_pred_valid_labels, average='macro')\n",
    "# f1_weighted = metrics.f1_score(y_true_valid_labels, y_pred_valid_labels, average='weighted')\n",
    "\n",
    "# print(len(y_pred_valid_labels), best_thr)\n",
    "# print(f1_micro, f1_macro, f1_weighted)\n",
    "# print(y_pred_valid_labels.sum(axis=0))"
   ]
  },
  {
   "cell_type": "code",
   "execution_count": 308,
   "id": "3c2fd71e-c1c8-46ab-af46-07eb61bdda88",
   "metadata": {},
   "outputs": [],
   "source": [
    "# with open('resultados/0048_model/modelo_fold-0.pkl', 'rb') as file:\n",
    "#     best_preds_fold = pickle.load(file)\n",
    "#     best_trues_fold = pickle.load(file)"
   ]
  },
  {
   "cell_type": "code",
   "execution_count": 69,
   "id": "42207fbe-18dd-43fc-9ca4-d40dd39b44f9",
   "metadata": {},
   "outputs": [],
   "source": [
    "# y_pred_valid_cp = best_preds_fold.copy() #np.vstack([i for i in preds_fragments])\n",
    "# y_true_valid_cp = best_trues_fold.copy() #np.vstack([i for i in true_fragments])\n",
    "\n",
    "# y_pred_valid_labels = (y_pred_valid_cp<0.50)\n",
    "# y_true_valid_labels = (y_true_valid_cp>0.50)\n",
    "\n",
    "# best_thr = [1.0, 1.0, 1.0, 1.0]\n",
    "# best_score = 0\n",
    "# for nrun in tqdm(range(5)):\n",
    "#     for ncol, thr_col in enumerate(best_thr):\n",
    "#         y_pred_valid_labels[:,ncol] = y_pred_valid_cp[:,ncol]>thr_col\n",
    "#     for ncol in range(4):\n",
    "#         for thr_col in np.linspace(0,0.99,200):\n",
    "#             y_pred_valid_labels[:,ncol] = y_pred_valid_cp[:,ncol]>thr_col\n",
    "#             f1_tmp = metrics.f1_score(y_true_valid_labels, y_pred_valid_labels, average='micro')\n",
    "#             if f1_tmp>best_score:\n",
    "#                 best_score = f1_tmp\n",
    "#                 best_thr[ncol] = thr_col\n",
    "\n",
    "#     for ncol, thr_col in enumerate(best_thr):\n",
    "#         y_pred_valid_labels[:,ncol] = y_pred_valid_cp[:,ncol]>thr_col\n",
    "\n",
    "# f1_micro = metrics.f1_score(y_true_valid_labels, y_pred_valid_labels, average='micro')\n",
    "# f1_macro = metrics.f1_score(y_true_valid_labels, y_pred_valid_labels, average='macro')\n",
    "# f1_weighted = metrics.f1_score(y_true_valid_labels, y_pred_valid_labels, average='weighted')\n",
    "\n",
    "# print(len(y_pred_valid_labels), best_thr)\n",
    "# print(f1_micro, f1_macro, f1_weighted)\n",
    "# print(y_pred_valid_labels.sum(axis=0))"
   ]
  },
  {
   "cell_type": "markdown",
   "id": "666823ef-415b-4cbd-b6a6-d8218a6dc7d9",
   "metadata": {},
   "source": [
    "# Probamos con Test"
   ]
  },
  {
   "cell_type": "code",
   "execution_count": 70,
   "id": "83220277-bea6-486d-a07e-f64069ef0e24",
   "metadata": {},
   "outputs": [],
   "source": [
    "# # Obtain best f1macro\n",
    "# y_pred_valid_cp = preds_fragments.copy() #np.vstack([i for i in preds_fragments])\n",
    "# y_true_valid_cp = true_fragments.copy() #np.vstack([i for i in true_fragments])\n",
    "\n",
    "# #             y_pred_valid_cp = y_pred_valid.copy()\n",
    "# y_pred_valid_labels = (y_pred_valid_cp>0.50)\n",
    "# y_true_valid_labels = (y_true_valid_cp>0.50)\n",
    "\n",
    "# for ncol, thr_col in enumerate(best_thr):\n",
    "#     y_pred_valid_labels[:,ncol] = y_pred_valid_cp[:,ncol]>thr_col\n",
    "\n",
    "# f1_micro = metrics.f1_score(y_true_valid_labels, y_pred_valid_labels, average='micro')\n",
    "# f1_macro = metrics.f1_score(y_true_valid_labels, y_pred_valid_labels, average='macro')\n",
    "# f1_weighted = metrics.f1_score(y_true_valid_labels, y_pred_valid_labels, average='weighted')\n",
    "\n",
    "# print(len(y_pred_valid_labels), best_thr)\n",
    "# print(f1_micro, f1_macro, f1_weighted)\n",
    "# print(y_pred_valid_labels.sum(axis=0))"
   ]
  },
  {
   "cell_type": "code",
   "execution_count": 71,
   "id": "f320a09e-b054-4b46-b32f-dcb1fa699609",
   "metadata": {},
   "outputs": [],
   "source": [
    "# y_pred_valid_cp = preds_fragments.copy() #np.vstack([i for i in preds_fragments])\n",
    "# y_true_valid_cp = true_fragments.copy() #np.vstack([i for i in true_fragments])\n",
    "\n",
    "# y_pred_valid_labels = (y_pred_valid_cp<0.50)\n",
    "# y_true_valid_labels = (y_true_valid_cp>0.50)\n",
    "\n",
    "# best_thr = [1.0, 1.0, 1.0, 1.0]\n",
    "# best_score = 0\n",
    "# for nrun in tqdm(range(5)):\n",
    "#     for ncol, thr_col in enumerate(best_thr):\n",
    "#         y_pred_valid_labels[:,ncol] = y_pred_valid_cp[:,ncol]>thr_col\n",
    "#     for ncol in range(4):\n",
    "#         for thr_col in np.linspace(0,0.99,200):\n",
    "#             y_pred_valid_labels[:,ncol] = y_pred_valid_cp[:,ncol]>thr_col\n",
    "#             f1_tmp = metrics.f1_score(y_true_valid_labels, y_pred_valid_labels, average='micro')\n",
    "#             if f1_tmp>best_score:\n",
    "#                 best_score = f1_tmp\n",
    "#                 best_thr[ncol] = thr_col\n",
    "\n",
    "#     for ncol, thr_col in enumerate(best_thr):\n",
    "#         y_pred_valid_labels[:,ncol] = y_pred_valid_cp[:,ncol]>thr_col\n",
    "\n",
    "# f1_micro = metrics.f1_score(y_true_valid_labels, y_pred_valid_labels, average='micro')\n",
    "# f1_macro = metrics.f1_score(y_true_valid_labels, y_pred_valid_labels, average='macro')\n",
    "# f1_weighted = metrics.f1_score(y_true_valid_labels, y_pred_valid_labels, average='weighted')\n",
    "\n",
    "# print(len(y_pred_valid_labels), best_thr)\n",
    "# print(f1_micro, f1_macro, f1_weighted)\n",
    "# print(y_pred_valid_labels.sum(axis=0))"
   ]
  },
  {
   "cell_type": "markdown",
   "id": "41711f5c-9a9d-435c-b02a-1b0fe50eb704",
   "metadata": {},
   "source": [
    "# Vamos a hacerlo con las submission"
   ]
  },
  {
   "cell_type": "code",
   "execution_count": 78,
   "id": "1bb77ea9-a0b9-4825-8291-24d3cf8d4d84",
   "metadata": {},
   "outputs": [
    {
     "name": "stderr",
     "output_type": "stream",
     "text": [
      "100%|██████████| 70/70 [00:01<00:00, 42.14it/s]\n"
     ]
    },
    {
     "data": {
      "text/plain": [
       "(70, 5)"
      ]
     },
     "execution_count": 78,
     "metadata": {},
     "output_type": "execute_result"
    }
   ],
   "source": [
    "archivos_submission = os.listdir('../input/datathon2022/dataset1/submission/')\n",
    "len_audio = []\n",
    "sr_audio = []\n",
    "seconds_audio = []\n",
    "df_sub = pd.DataFrame({'path':[i.split('.')[0] for i in archivos_submission]})\n",
    "for name_file in tqdm(df_sub.path):\n",
    "    y, sr = sf.read(f'../input/datathon2022/dataset1/submission/{name_file}.wav')\n",
    "    len_audio.append(len(y))\n",
    "    sr_audio.append(sr)\n",
    "    seconds_audio.append(len(y)/sr)\n",
    "df_sub['len_audio'] = len_audio\n",
    "df_sub['sr_audio'] = sr_audio\n",
    "df_sub['seconds_audio'] = seconds_audio\n",
    "df_sub['dir'] = ['../input/datathon2022/dataset1/submission/'+i+'.wav' for i in df_sub['path']]\n",
    "df_sub.shape"
   ]
  },
  {
   "cell_type": "code",
   "execution_count": 79,
   "id": "0b940f99-9a12-4e97-a5ef-a8dc5e8da57c",
   "metadata": {},
   "outputs": [
    {
     "name": "stderr",
     "output_type": "stream",
     "text": [
      "100%|██████████| 70/70 [00:00<00:00, 3543.56it/s]"
     ]
    },
    {
     "name": "stdout",
     "output_type": "stream",
     "text": [
      "(1160, 8)\n",
      "[500000]\n"
     ]
    },
    {
     "name": "stderr",
     "output_type": "stream",
     "text": [
      "\n"
     ]
    },
    {
     "data": {
      "text/html": [
       "<div>\n",
       "<style scoped>\n",
       "    .dataframe tbody tr th:only-of-type {\n",
       "        vertical-align: middle;\n",
       "    }\n",
       "\n",
       "    .dataframe tbody tr th {\n",
       "        vertical-align: top;\n",
       "    }\n",
       "\n",
       "    .dataframe thead th {\n",
       "        text-align: right;\n",
       "    }\n",
       "</style>\n",
       "<table border=\"1\" class=\"dataframe\">\n",
       "  <thead>\n",
       "    <tr style=\"text-align: right;\">\n",
       "      <th></th>\n",
       "      <th>path</th>\n",
       "      <th>dir</th>\n",
       "      <th>start</th>\n",
       "      <th>end</th>\n",
       "      <th>pos_ini</th>\n",
       "      <th>pos_fin</th>\n",
       "      <th>len_audio</th>\n",
       "      <th>duracion</th>\n",
       "    </tr>\n",
       "  </thead>\n",
       "  <tbody>\n",
       "    <tr>\n",
       "      <th>1155</th>\n",
       "      <td>fd90a64e5df64cdfb0b37ebe23b585a1</td>\n",
       "      <td>../input/datathon2022/dataset1/fd90a64e5df64cd...</td>\n",
       "      <td>240.0</td>\n",
       "      <td>250.0</td>\n",
       "      <td>12000000</td>\n",
       "      <td>12500000</td>\n",
       "      <td>14700000</td>\n",
       "      <td>500000</td>\n",
       "    </tr>\n",
       "    <tr>\n",
       "      <th>1156</th>\n",
       "      <td>fd90a64e5df64cdfb0b37ebe23b585a1</td>\n",
       "      <td>../input/datathon2022/dataset1/fd90a64e5df64cd...</td>\n",
       "      <td>250.0</td>\n",
       "      <td>260.0</td>\n",
       "      <td>12500000</td>\n",
       "      <td>13000000</td>\n",
       "      <td>14700000</td>\n",
       "      <td>500000</td>\n",
       "    </tr>\n",
       "    <tr>\n",
       "      <th>1157</th>\n",
       "      <td>fd90a64e5df64cdfb0b37ebe23b585a1</td>\n",
       "      <td>../input/datathon2022/dataset1/fd90a64e5df64cd...</td>\n",
       "      <td>260.0</td>\n",
       "      <td>270.0</td>\n",
       "      <td>13000000</td>\n",
       "      <td>13500000</td>\n",
       "      <td>14700000</td>\n",
       "      <td>500000</td>\n",
       "    </tr>\n",
       "    <tr>\n",
       "      <th>1158</th>\n",
       "      <td>fd90a64e5df64cdfb0b37ebe23b585a1</td>\n",
       "      <td>../input/datathon2022/dataset1/fd90a64e5df64cd...</td>\n",
       "      <td>270.0</td>\n",
       "      <td>280.0</td>\n",
       "      <td>13500000</td>\n",
       "      <td>14000000</td>\n",
       "      <td>14700000</td>\n",
       "      <td>500000</td>\n",
       "    </tr>\n",
       "    <tr>\n",
       "      <th>1159</th>\n",
       "      <td>fd90a64e5df64cdfb0b37ebe23b585a1</td>\n",
       "      <td>../input/datathon2022/dataset1/fd90a64e5df64cd...</td>\n",
       "      <td>280.0</td>\n",
       "      <td>290.0</td>\n",
       "      <td>14000000</td>\n",
       "      <td>14500000</td>\n",
       "      <td>14700000</td>\n",
       "      <td>500000</td>\n",
       "    </tr>\n",
       "  </tbody>\n",
       "</table>\n",
       "</div>"
      ],
      "text/plain": [
       "                                  path                                                dir  start    end   pos_ini   pos_fin  len_audio  duracion\n",
       "1155  fd90a64e5df64cdfb0b37ebe23b585a1  ../input/datathon2022/dataset1/fd90a64e5df64cd...  240.0  250.0  12000000  12500000   14700000    500000\n",
       "1156  fd90a64e5df64cdfb0b37ebe23b585a1  ../input/datathon2022/dataset1/fd90a64e5df64cd...  250.0  260.0  12500000  13000000   14700000    500000\n",
       "1157  fd90a64e5df64cdfb0b37ebe23b585a1  ../input/datathon2022/dataset1/fd90a64e5df64cd...  260.0  270.0  13000000  13500000   14700000    500000\n",
       "1158  fd90a64e5df64cdfb0b37ebe23b585a1  ../input/datathon2022/dataset1/fd90a64e5df64cd...  270.0  280.0  13500000  14000000   14700000    500000\n",
       "1159  fd90a64e5df64cdfb0b37ebe23b585a1  ../input/datathon2022/dataset1/fd90a64e5df64cd...  280.0  290.0  14000000  14500000   14700000    500000"
      ]
     },
     "execution_count": 79,
     "metadata": {},
     "output_type": "execute_result"
    }
   ],
   "source": [
    "step_audio = int(10 * 50000) \n",
    "win_ancho = int(10 * 50000)\n",
    "db_sub_troceada = []\n",
    "for nrow, row in tqdm(df_sub.iterrows(),total=len(df_sub)):\n",
    "    for pos_ini in np.arange(0,14700000-step_audio,step_audio):\n",
    "        pos_fin = pos_ini + win_ancho\n",
    "        if pos_fin > 14700000:\n",
    "            break\n",
    "        db_sub_troceada.append(dict(path=row['path'],\n",
    "                                dir=row['dir'],\n",
    "                                start=float(pos_ini/50000),\n",
    "                                end=float(pos_fin/50000),\n",
    "                                pos_ini=pos_ini,\n",
    "                                pos_fin=pos_fin,\n",
    "                                len_audio=14700000))\n",
    "db_sub_troceada = pd.DataFrame(db_testeo_troceada)\n",
    "print(db_sub_troceada.shape)\n",
    "db_sub_troceada['duracion'] = db_sub_troceada['pos_fin'] - db_sub_troceada['pos_ini']\n",
    "print(db_sub_troceada.duracion.unique())\n",
    "db_sub_troceada.tail()"
   ]
  },
  {
   "cell_type": "code",
   "execution_count": 80,
   "id": "bd62f4b8-8379-4550-99d0-456d48cd167b",
   "metadata": {},
   "outputs": [
    {
     "name": "stderr",
     "output_type": "stream",
     "text": [
      "100%|██████████| 58/58 [06:14<00:00,  6.45s/it]\n"
     ]
    }
   ],
   "source": [
    "model = AudioSEDModel('tf_efficientnet_b0_ns', 4).to(device)\n",
    "model.load_state_dict(torch.load('resultados/0048_model/modelo_fold-0.bin'))\n",
    "model = model.to(device)\n",
    "\n",
    "testset = SedDataset(df=db_sub_troceada, audio_transform=None,  modo=\"test\")\n",
    "test_loader = DataLoader(testset, batch_size=BATCH_VALID, shuffle=False, drop_last=False, num_workers=NUM_WORKERS)\n",
    "warnings.filterwarnings('ignore')\n",
    "preds_fragments_sub, frames_fragments_sub = test_epoch(model, test_loader)"
   ]
  },
  {
   "cell_type": "markdown",
   "id": "3dd261b4-b6a9-4c4d-9262-d30d28b83852",
   "metadata": {},
   "source": [
    "## Obtenemos las predicciones usando los umbrales anteriores"
   ]
  },
  {
   "cell_type": "code",
   "execution_count": 81,
   "id": "276fe2ca-270e-4ab5-a050-bf277fc95b45",
   "metadata": {},
   "outputs": [
    {
     "data": {
      "text/plain": [
       "array([0.2022022 , 0.13713714, 0.07307307, 0.001001  ])"
      ]
     },
     "execution_count": 81,
     "metadata": {},
     "output_type": "execute_result"
    }
   ],
   "source": [
    "best_thr_tst"
   ]
  },
  {
   "cell_type": "code",
   "execution_count": 82,
   "id": "f4135e18-0195-409f-b570-098b7ede9da2",
   "metadata": {},
   "outputs": [],
   "source": [
    "# Obtain best f1macro\n",
    "y_pred_valid_cp = preds_fragments_sub.copy() #np.vstack([i for i in preds_fragments])\n",
    "y_pred_valid_labels = (y_pred_valid_cp>0.50)\n",
    "for ncol, thr_col in enumerate(best_thr_tst):\n",
    "    y_pred_valid_labels[:,ncol] = y_pred_valid_cp[:,ncol]>thr_col"
   ]
  },
  {
   "cell_type": "code",
   "execution_count": 83,
   "id": "f47b9ffa-3ea7-4e88-9420-50266829dc3d",
   "metadata": {},
   "outputs": [
    {
     "data": {
      "text/plain": [
       "array([0.15172414, 0.14310345, 0.02155172, 0.00086207])"
      ]
     },
     "execution_count": 83,
     "metadata": {},
     "output_type": "execute_result"
    }
   ],
   "source": [
    "y_pred_valid_labels.sum(axis=0)/len(preds_fragments_sub)"
   ]
  },
  {
   "cell_type": "code",
   "execution_count": 84,
   "id": "ee0b7fb3-9f37-4c29-a9ea-964fc1982fef",
   "metadata": {},
   "outputs": [
    {
     "data": {
      "text/html": [
       "<div>\n",
       "<style scoped>\n",
       "    .dataframe tbody tr th:only-of-type {\n",
       "        vertical-align: middle;\n",
       "    }\n",
       "\n",
       "    .dataframe tbody tr th {\n",
       "        vertical-align: top;\n",
       "    }\n",
       "\n",
       "    .dataframe thead th {\n",
       "        text-align: right;\n",
       "    }\n",
       "</style>\n",
       "<table border=\"1\" class=\"dataframe\">\n",
       "  <thead>\n",
       "    <tr style=\"text-align: right;\">\n",
       "      <th></th>\n",
       "      <th>whistle</th>\n",
       "      <th>click</th>\n",
       "      <th>cetaceans_allfreq</th>\n",
       "      <th>allfreq</th>\n",
       "    </tr>\n",
       "  </thead>\n",
       "  <tbody>\n",
       "    <tr>\n",
       "      <th>0</th>\n",
       "      <td>False</td>\n",
       "      <td>False</td>\n",
       "      <td>True</td>\n",
       "      <td>False</td>\n",
       "    </tr>\n",
       "    <tr>\n",
       "      <th>1</th>\n",
       "      <td>True</td>\n",
       "      <td>True</td>\n",
       "      <td>False</td>\n",
       "      <td>False</td>\n",
       "    </tr>\n",
       "    <tr>\n",
       "      <th>2</th>\n",
       "      <td>False</td>\n",
       "      <td>False</td>\n",
       "      <td>False</td>\n",
       "      <td>False</td>\n",
       "    </tr>\n",
       "    <tr>\n",
       "      <th>3</th>\n",
       "      <td>False</td>\n",
       "      <td>False</td>\n",
       "      <td>False</td>\n",
       "      <td>False</td>\n",
       "    </tr>\n",
       "    <tr>\n",
       "      <th>4</th>\n",
       "      <td>False</td>\n",
       "      <td>False</td>\n",
       "      <td>False</td>\n",
       "      <td>False</td>\n",
       "    </tr>\n",
       "  </tbody>\n",
       "</table>\n",
       "</div>"
      ],
      "text/plain": [
       "   whistle  click  cetaceans_allfreq  allfreq\n",
       "0    False  False               True    False\n",
       "1     True   True              False    False\n",
       "2    False  False              False    False\n",
       "3    False  False              False    False\n",
       "4    False  False              False    False"
      ]
     },
     "execution_count": 84,
     "metadata": {},
     "output_type": "execute_result"
    }
   ],
   "source": [
    "preds_tramo = pd.DataFrame(y_pred_valid_labels)\n",
    "preds_tramo.columns = list(clases.keys())\n",
    "preds_tramo.head()"
   ]
  },
  {
   "cell_type": "code",
   "execution_count": 85,
   "id": "695de53d-5716-42c8-8ae5-08aa38900a59",
   "metadata": {},
   "outputs": [
    {
     "data": {
      "text/plain": [
       "whistle              176\n",
       "click                166\n",
       "cetaceans_allfreq     25\n",
       "allfreq                1\n",
       "dtype: int64"
      ]
     },
     "execution_count": 85,
     "metadata": {},
     "output_type": "execute_result"
    }
   ],
   "source": [
    "preds_tramo.sum(axis=0)"
   ]
  },
  {
   "cell_type": "code",
   "execution_count": 86,
   "id": "092bc844-7dd2-4774-95f4-81318d1e7b6a",
   "metadata": {},
   "outputs": [
    {
     "name": "stdout",
     "output_type": "stream",
     "text": [
      "(1160, 12)\n"
     ]
    },
    {
     "data": {
      "text/html": [
       "<div>\n",
       "<style scoped>\n",
       "    .dataframe tbody tr th:only-of-type {\n",
       "        vertical-align: middle;\n",
       "    }\n",
       "\n",
       "    .dataframe tbody tr th {\n",
       "        vertical-align: top;\n",
       "    }\n",
       "\n",
       "    .dataframe thead th {\n",
       "        text-align: right;\n",
       "    }\n",
       "</style>\n",
       "<table border=\"1\" class=\"dataframe\">\n",
       "  <thead>\n",
       "    <tr style=\"text-align: right;\">\n",
       "      <th></th>\n",
       "      <th>path</th>\n",
       "      <th>dir</th>\n",
       "      <th>start</th>\n",
       "      <th>end</th>\n",
       "      <th>pos_ini</th>\n",
       "      <th>pos_fin</th>\n",
       "      <th>len_audio</th>\n",
       "      <th>duracion</th>\n",
       "      <th>whistle</th>\n",
       "      <th>click</th>\n",
       "      <th>cetaceans_allfreq</th>\n",
       "      <th>allfreq</th>\n",
       "    </tr>\n",
       "  </thead>\n",
       "  <tbody>\n",
       "    <tr>\n",
       "      <th>0</th>\n",
       "      <td>0bdbfee0862b52849e9448cf51999722</td>\n",
       "      <td>../input/datathon2022/dataset1/0bdbfee0862b528...</td>\n",
       "      <td>0.0</td>\n",
       "      <td>10.0</td>\n",
       "      <td>0</td>\n",
       "      <td>500000</td>\n",
       "      <td>14700000</td>\n",
       "      <td>500000</td>\n",
       "      <td>False</td>\n",
       "      <td>False</td>\n",
       "      <td>True</td>\n",
       "      <td>False</td>\n",
       "    </tr>\n",
       "    <tr>\n",
       "      <th>1</th>\n",
       "      <td>0bdbfee0862b52849e9448cf51999722</td>\n",
       "      <td>../input/datathon2022/dataset1/0bdbfee0862b528...</td>\n",
       "      <td>10.0</td>\n",
       "      <td>20.0</td>\n",
       "      <td>500000</td>\n",
       "      <td>1000000</td>\n",
       "      <td>14700000</td>\n",
       "      <td>500000</td>\n",
       "      <td>True</td>\n",
       "      <td>True</td>\n",
       "      <td>False</td>\n",
       "      <td>False</td>\n",
       "    </tr>\n",
       "    <tr>\n",
       "      <th>2</th>\n",
       "      <td>0bdbfee0862b52849e9448cf51999722</td>\n",
       "      <td>../input/datathon2022/dataset1/0bdbfee0862b528...</td>\n",
       "      <td>20.0</td>\n",
       "      <td>30.0</td>\n",
       "      <td>1000000</td>\n",
       "      <td>1500000</td>\n",
       "      <td>14700000</td>\n",
       "      <td>500000</td>\n",
       "      <td>False</td>\n",
       "      <td>False</td>\n",
       "      <td>False</td>\n",
       "      <td>False</td>\n",
       "    </tr>\n",
       "    <tr>\n",
       "      <th>3</th>\n",
       "      <td>0bdbfee0862b52849e9448cf51999722</td>\n",
       "      <td>../input/datathon2022/dataset1/0bdbfee0862b528...</td>\n",
       "      <td>30.0</td>\n",
       "      <td>40.0</td>\n",
       "      <td>1500000</td>\n",
       "      <td>2000000</td>\n",
       "      <td>14700000</td>\n",
       "      <td>500000</td>\n",
       "      <td>False</td>\n",
       "      <td>False</td>\n",
       "      <td>False</td>\n",
       "      <td>False</td>\n",
       "    </tr>\n",
       "    <tr>\n",
       "      <th>4</th>\n",
       "      <td>0bdbfee0862b52849e9448cf51999722</td>\n",
       "      <td>../input/datathon2022/dataset1/0bdbfee0862b528...</td>\n",
       "      <td>40.0</td>\n",
       "      <td>50.0</td>\n",
       "      <td>2000000</td>\n",
       "      <td>2500000</td>\n",
       "      <td>14700000</td>\n",
       "      <td>500000</td>\n",
       "      <td>False</td>\n",
       "      <td>False</td>\n",
       "      <td>False</td>\n",
       "      <td>False</td>\n",
       "    </tr>\n",
       "  </tbody>\n",
       "</table>\n",
       "</div>"
      ],
      "text/plain": [
       "                               path                                                dir  start   end  pos_ini  pos_fin  len_audio  duracion  whistle  click  cetaceans_allfreq  allfreq\n",
       "0  0bdbfee0862b52849e9448cf51999722  ../input/datathon2022/dataset1/0bdbfee0862b528...    0.0  10.0        0   500000   14700000    500000    False  False               True    False\n",
       "1  0bdbfee0862b52849e9448cf51999722  ../input/datathon2022/dataset1/0bdbfee0862b528...   10.0  20.0   500000  1000000   14700000    500000     True   True              False    False\n",
       "2  0bdbfee0862b52849e9448cf51999722  ../input/datathon2022/dataset1/0bdbfee0862b528...   20.0  30.0  1000000  1500000   14700000    500000    False  False              False    False\n",
       "3  0bdbfee0862b52849e9448cf51999722  ../input/datathon2022/dataset1/0bdbfee0862b528...   30.0  40.0  1500000  2000000   14700000    500000    False  False              False    False\n",
       "4  0bdbfee0862b52849e9448cf51999722  ../input/datathon2022/dataset1/0bdbfee0862b528...   40.0  50.0  2000000  2500000   14700000    500000    False  False              False    False"
      ]
     },
     "execution_count": 86,
     "metadata": {},
     "output_type": "execute_result"
    }
   ],
   "source": [
    "db_sub_troceada = pd.concat([db_sub_troceada, preds_tramo], axis=1)\n",
    "print(db_sub_troceada.shape)\n",
    "db_sub_troceada.head()"
   ]
  },
  {
   "cell_type": "code",
   "execution_count": 88,
   "id": "7943b5fb-0733-496f-8477-d34ca7bfa66f",
   "metadata": {},
   "outputs": [
    {
     "name": "stdout",
     "output_type": "stream",
     "text": [
      "(368, 4)\n"
     ]
    },
    {
     "data": {
      "text/html": [
       "<div>\n",
       "<style scoped>\n",
       "    .dataframe tbody tr th:only-of-type {\n",
       "        vertical-align: middle;\n",
       "    }\n",
       "\n",
       "    .dataframe tbody tr th {\n",
       "        vertical-align: top;\n",
       "    }\n",
       "\n",
       "    .dataframe thead th {\n",
       "        text-align: right;\n",
       "    }\n",
       "</style>\n",
       "<table border=\"1\" class=\"dataframe\">\n",
       "  <thead>\n",
       "    <tr style=\"text-align: right;\">\n",
       "      <th></th>\n",
       "      <th>path</th>\n",
       "      <th>start</th>\n",
       "      <th>end</th>\n",
       "      <th>label</th>\n",
       "    </tr>\n",
       "  </thead>\n",
       "  <tbody>\n",
       "    <tr>\n",
       "      <th>0</th>\n",
       "      <td>0bdbfee0862b52849e9448cf51999722</td>\n",
       "      <td>0.0</td>\n",
       "      <td>10.0</td>\n",
       "      <td>cetaceans_allfreq</td>\n",
       "    </tr>\n",
       "    <tr>\n",
       "      <th>1</th>\n",
       "      <td>0bdbfee0862b52849e9448cf51999722</td>\n",
       "      <td>10.0</td>\n",
       "      <td>20.0</td>\n",
       "      <td>whistle</td>\n",
       "    </tr>\n",
       "    <tr>\n",
       "      <th>2</th>\n",
       "      <td>0bdbfee0862b52849e9448cf51999722</td>\n",
       "      <td>10.0</td>\n",
       "      <td>20.0</td>\n",
       "      <td>click</td>\n",
       "    </tr>\n",
       "    <tr>\n",
       "      <th>3</th>\n",
       "      <td>0bdbfee0862b52849e9448cf51999722</td>\n",
       "      <td>60.0</td>\n",
       "      <td>70.0</td>\n",
       "      <td>whistle</td>\n",
       "    </tr>\n",
       "    <tr>\n",
       "      <th>4</th>\n",
       "      <td>0bdbfee0862b52849e9448cf51999722</td>\n",
       "      <td>70.0</td>\n",
       "      <td>80.0</td>\n",
       "      <td>click</td>\n",
       "    </tr>\n",
       "  </tbody>\n",
       "</table>\n",
       "</div>"
      ],
      "text/plain": [
       "                               path  start   end              label\n",
       "0  0bdbfee0862b52849e9448cf51999722    0.0  10.0  cetaceans_allfreq\n",
       "1  0bdbfee0862b52849e9448cf51999722   10.0  20.0            whistle\n",
       "2  0bdbfee0862b52849e9448cf51999722   10.0  20.0              click\n",
       "3  0bdbfee0862b52849e9448cf51999722   60.0  70.0            whistle\n",
       "4  0bdbfee0862b52849e9448cf51999722   70.0  80.0              click"
      ]
     },
     "execution_count": 88,
     "metadata": {},
     "output_type": "execute_result"
    }
   ],
   "source": [
    "submission = []\n",
    "for nrow, row in db_sub_troceada.iterrows():\n",
    "    for clase in list(clases.keys()):\n",
    "        if row[clase]:\n",
    "            submission.append(dict(path=row['path'], start=row['start'], end=row['end'], label=clase))\n",
    "submission = pd.DataFrame(submission)\n",
    "print(submission.shape)\n",
    "submission.head()"
   ]
  },
  {
   "cell_type": "code",
   "execution_count": 89,
   "id": "657d430d-2137-41e4-8308-7ec05ef69836",
   "metadata": {},
   "outputs": [],
   "source": [
    "submission.to_csv('submission2.csv', index=False)"
   ]
  },
  {
   "cell_type": "code",
   "execution_count": 251,
   "id": "303483bb-615b-43d7-b08d-178a8f435507",
   "metadata": {},
   "outputs": [],
   "source": [
    "with open('resultados/pred_db_submission.pkl', 'wb') as file:\n",
    "    pickle.dump(df_sub, file)\n",
    "    pickle.dump(db_sub_troceada, file)\n",
    "    pickle.dump(preds_fragments_sub, file)\n",
    "    pickle.dump(frames_fragments_sub, file)    "
   ]
  },
  {
   "cell_type": "code",
   "execution_count": null,
   "id": "4d5fd236-7f25-4d71-bf0e-f61a2c3bf016",
   "metadata": {},
   "outputs": [],
   "source": []
  },
  {
   "cell_type": "code",
   "execution_count": null,
   "id": "133a0844-16dd-46f0-b2be-d994d600e7be",
   "metadata": {},
   "outputs": [],
   "source": []
  },
  {
   "cell_type": "code",
   "execution_count": 196,
   "id": "93cdb3d4-25ee-4793-9a45-fc1d505f13cc",
   "metadata": {},
   "outputs": [
    {
     "name": "stderr",
     "output_type": "stream",
     "text": [
      "100%|██████████| 10/10 [00:14<00:00,  1.43s/it]"
     ]
    },
    {
     "name": "stdout",
     "output_type": "stream",
     "text": [
      "[0.19899497487437187, 0.0, 0.0, 0.0]\n",
      "0.15003112678979041 0.1454991164429724 0.24367130159462833\n"
     ]
    },
    {
     "name": "stderr",
     "output_type": "stream",
     "text": [
      "\n"
     ]
    }
   ],
   "source": [
    "y_pred_valid_cp = preds_fragments.copy() #np.vstack([i for i in preds_fragments])\n",
    "y_true_valid_cp = true_fragments.copy() #np.vstack([i for i in true_fragments])\n",
    "\n",
    "\n",
    "# y_pred_valid_cp = np.vstack([i for i in preds_fragments])\n",
    "# y_true_valid_cp = np.vstack([i for i in true_fragments])\n",
    "\n",
    "#             y_pred_valid_cp = y_pred_valid.copy()\n",
    "y_pred_valid_labels = (y_pred_valid_cp<0.50)\n",
    "y_true_valid_labels = (y_true_valid_cp>0.50)\n",
    "\n",
    "best_thr = [0.0, 0.0, 0.0, 0.0]\n",
    "best_score = 0\n",
    "for nrun in tqdm(range(10)):\n",
    "    for ncol, thr_col in enumerate(best_thr):\n",
    "        y_pred_valid_labels[:,ncol] = y_pred_valid_cp[:,ncol]>thr_col\n",
    "    for ncol in range(4):\n",
    "        for thr_col in np.linspace(0,0.99,200):\n",
    "            y_pred_valid_labels[:,ncol] = y_pred_valid_cp[:,ncol]>thr_col\n",
    "            f1_tmp = metrics.f1_score(y_true_valid_labels, y_pred_valid_labels, average='micro')\n",
    "            if f1_tmp>best_score:\n",
    "                best_score = f1_tmp\n",
    "                best_thr[ncol] = thr_col\n",
    "\n",
    "    for ncol, thr_col in enumerate(best_thr):\n",
    "        y_pred_valid_labels[:,ncol] = y_pred_valid_cp[:,ncol]>thr_col\n",
    "\n",
    "f1_micro = metrics.f1_score(y_true_valid_labels, y_pred_valid_labels, average='micro')\n",
    "f1_macro = metrics.f1_score(y_true_valid_labels, y_pred_valid_labels, average='macro')\n",
    "f1_weighted = metrics.f1_score(y_true_valid_labels, y_pred_valid_labels, average='weighted')\n",
    "\n",
    "print(best_thr)\n",
    "print(f1_micro, f1_macro, f1_weighted)"
   ]
  },
  {
   "cell_type": "code",
   "execution_count": 181,
   "id": "6dee5632-ba09-44dd-bb66-025ce06e0b0a",
   "metadata": {},
   "outputs": [
    {
     "data": {
      "text/plain": [
       "array([2245, 2280, 2280, 2280])"
      ]
     },
     "execution_count": 181,
     "metadata": {},
     "output_type": "execute_result"
    }
   ],
   "source": [
    "y_pred_valid_labels.sum(axis=0)"
   ]
  },
  {
   "cell_type": "code",
   "execution_count": 136,
   "id": "7844120c-284f-4631-9a47-555c83f44b25",
   "metadata": {},
   "outputs": [],
   "source": [
    "# y_pred_valid_cp = np.vstack([i for i in preds_fragments])\n",
    "# y_true_valid_cp = np.vstack([i for i in true_fragments])\n",
    "\n",
    "# #             y_pred_valid_cp = y_pred_valid.copy()\n",
    "# y_pred_valid_labels = (y_pred_valid_cp>0.50)\n",
    "# y_true_valid_labels = (y_true_valid_cp>0.50)\n",
    "\n",
    "# best_thr = [0.0, 0.0, 0.0, 0.0]\n",
    "# for ncol in tqdm(range(4)):\n",
    "#     f1_col = 0\n",
    "#     for thr_col in np.linspace(0,0.99,100):\n",
    "#         y_pred_valid_labels[:,ncol] = y_pred_valid_cp[:,ncol]>thr_col\n",
    "#         f1_tmp = metrics.f1_score(y_true_valid_labels[:,ncol].flatten(), \n",
    "#                                   y_pred_valid_labels[:,ncol].flatten())\n",
    "#         if f1_tmp>f1_col:\n",
    "#             f1_col = f1_tmp\n",
    "#             best_thr[ncol] = thr_col\n",
    "\n",
    "# for ncol, thr_col in enumerate(best_thr):\n",
    "#     y_pred_valid_labels[:,ncol] = y_pred_valid_cp[:,ncol]>thr_col\n",
    "\n",
    "# f1_micro = metrics.f1_score(y_true_valid_labels, y_pred_valid_labels, average='micro')\n",
    "# f1_macro = metrics.f1_score(y_true_valid_labels, y_pred_valid_labels, average='macro')\n",
    "# f1_weighted = metrics.f1_score(y_true_valid_labels, y_pred_valid_labels, average='weighted')\n",
    "\n",
    "# print(best_thr)\n",
    "# print(f1_micro, f1_macro, f1_weighted)"
   ]
  },
  {
   "cell_type": "code",
   "execution_count": 170,
   "id": "f57c140a-4ecf-4ce2-9b05-93255ebd5e8b",
   "metadata": {},
   "outputs": [
    {
     "name": "stdout",
     "output_type": "stream",
     "text": [
      "0\n",
      "0.36988327 0.39138815\n",
      "0.059303936 0.089486696\n",
      "1\n",
      "0.07287726 0.1196733\n",
      "0.098954335 0.14752772\n",
      "2\n",
      "0.11415026 0.10326196\n",
      "0.03589696 0.017381707\n",
      "3\n",
      "1.900062e-12 1.0252215e-12\n",
      "3.5948466e-12 5.9154233e-13\n"
     ]
    }
   ],
   "source": [
    "for ncol in range(4):\n",
    "    print(ncol)\n",
    "    print(preds_fragments[true_fragments[:,ncol]==0,ncol].mean(), preds_fragments[true_fragments[:,ncol]==1,ncol].mean())\n",
    "    print(preds_fragments[true_fragments[:,ncol]==0,ncol].std(), preds_fragments[true_fragments[:,ncol]==1,ncol].std())\n"
   ]
  },
  {
   "cell_type": "code",
   "execution_count": 184,
   "id": "10b9f68f-c005-4929-8b0c-338ac4c09b7a",
   "metadata": {},
   "outputs": [
    {
     "data": {
      "text/plain": [
       "0.2667197452229299"
      ]
     },
     "execution_count": 184,
     "metadata": {},
     "output_type": "execute_result"
    }
   ],
   "source": [
    "metrics.f1_score(true_fragments[:,0], preds_fragments[:,0]>0.32)"
   ]
  },
  {
   "cell_type": "code",
   "execution_count": 173,
   "id": "8df7ee7f-bbc0-4cc4-a728-97e7d0eea4d9",
   "metadata": {},
   "outputs": [
    {
     "data": {
      "text/plain": [
       "637"
      ]
     },
     "execution_count": 173,
     "metadata": {},
     "output_type": "execute_result"
    }
   ],
   "source": [
    "np.sum(preds_fragments[:,0]>0.39)"
   ]
  },
  {
   "cell_type": "code",
   "execution_count": null,
   "id": "90a7e73b-e92a-46c6-a390-8a773342f881",
   "metadata": {},
   "outputs": [],
   "source": []
  },
  {
   "cell_type": "code",
   "execution_count": 168,
   "id": "fd485104-7ae2-4997-949c-3f1e1817c05d",
   "metadata": {},
   "outputs": [
    {
     "data": {
      "text/plain": [
       "array([346., 324.,  59.,   7.])"
      ]
     },
     "execution_count": 168,
     "metadata": {},
     "output_type": "execute_result"
    }
   ],
   "source": [
    "true_fragments.sum(axis=0)\n"
   ]
  },
  {
   "cell_type": "code",
   "execution_count": 156,
   "id": "f56faad5-8bef-4746-9f2a-841cca9a13d3",
   "metadata": {},
   "outputs": [
    {
     "data": {
      "text/plain": [
       "array([0., 0., 0., ..., 0., 0., 0.])"
      ]
     },
     "execution_count": 156,
     "metadata": {},
     "output_type": "execute_result"
    }
   ],
   "source": [
    "true_fragments[:,0]"
   ]
  },
  {
   "cell_type": "code",
   "execution_count": null,
   "id": "3f136555-7f3b-4cff-a9fe-97981f417ee6",
   "metadata": {},
   "outputs": [],
   "source": []
  },
  {
   "cell_type": "code",
   "execution_count": 151,
   "id": "2439a347-eeb2-4fe3-8d37-b6041c19dee3",
   "metadata": {},
   "outputs": [
    {
     "data": {
      "text/plain": [
       "(array([346, 324,  59,   7]), array([2273, 2280,    0,    0]))"
      ]
     },
     "execution_count": 151,
     "metadata": {},
     "output_type": "execute_result"
    }
   ],
   "source": [
    "y_true_valid_labels.sum(axis=0), y_pred_valid_labels.sum(axis=0)"
   ]
  },
  {
   "cell_type": "code",
   "execution_count": 152,
   "id": "f0ac493c-ae52-4083-8ac0-7c5425480fcd",
   "metadata": {},
   "outputs": [
    {
     "data": {
      "text/plain": [
       "2280"
      ]
     },
     "execution_count": 152,
     "metadata": {},
     "output_type": "execute_result"
    }
   ],
   "source": [
    "len(y_pred_valid_labels)"
   ]
  },
  {
   "cell_type": "code",
   "execution_count": 139,
   "id": "69f669d1-fc9e-4c81-8a93-1bf4c1105246",
   "metadata": {},
   "outputs": [
    {
     "data": {
      "image/png": "[encoded data removed]",
      "text/plain": [
       "<Figure size 500x500 with 4 Axes>"
      ]
     },
     "metadata": {},
     "output_type": "display_data"
    },
    {
     "ename": "KeyboardInterrupt",
     "evalue": "Interrupted by user",
     "output_type": "error",
     "traceback": [
      "\u001b[0;31m---------------------------------------------------------------------------\u001b[0m",
      "\u001b[0;31mKeyboardInterrupt\u001b[0m                         Traceback (most recent call last)",
      "Input \u001b[0;32mIn [139]\u001b[0m, in \u001b[0;36m<cell line: 1>\u001b[0;34m()\u001b[0m\n\u001b[1;32m     47\u001b[0m ax[\u001b[38;5;241m3\u001b[39m]\u001b[38;5;241m.\u001b[39maxhline(preds_file[\u001b[38;5;241m3\u001b[39m], color\u001b[38;5;241m=\u001b[39m\u001b[38;5;124m\"\u001b[39m\u001b[38;5;124mmagenta\u001b[39m\u001b[38;5;124m\"\u001b[39m)\n\u001b[1;32m     48\u001b[0m plt\u001b[38;5;241m.\u001b[39mshow()\n\u001b[0;32m---> 49\u001b[0m \u001b[38;5;28;43minput\u001b[39;49m\u001b[43m(\u001b[49m\u001b[38;5;124;43m\"\u001b[39;49m\u001b[38;5;124;43mPress Enter to continue...\u001b[39;49m\u001b[38;5;124;43m\"\u001b[39;49m\u001b[43m)\u001b[49m\n",
      "File \u001b[0;32m/grupob/config/miniconda3/envs/marine22/lib/python3.10/site-packages/ipykernel/kernelbase.py:1177\u001b[0m, in \u001b[0;36mKernel.raw_input\u001b[0;34m(self, prompt)\u001b[0m\n\u001b[1;32m   1173\u001b[0m \u001b[38;5;28;01mif\u001b[39;00m \u001b[38;5;129;01mnot\u001b[39;00m \u001b[38;5;28mself\u001b[39m\u001b[38;5;241m.\u001b[39m_allow_stdin:\n\u001b[1;32m   1174\u001b[0m     \u001b[38;5;28;01mraise\u001b[39;00m StdinNotImplementedError(\n\u001b[1;32m   1175\u001b[0m         \u001b[38;5;124m\"\u001b[39m\u001b[38;5;124mraw_input was called, but this frontend does not support input requests.\u001b[39m\u001b[38;5;124m\"\u001b[39m\n\u001b[1;32m   1176\u001b[0m     )\n\u001b[0;32m-> 1177\u001b[0m \u001b[38;5;28;01mreturn\u001b[39;00m \u001b[38;5;28;43mself\u001b[39;49m\u001b[38;5;241;43m.\u001b[39;49m\u001b[43m_input_request\u001b[49m\u001b[43m(\u001b[49m\n\u001b[1;32m   1178\u001b[0m \u001b[43m    \u001b[49m\u001b[38;5;28;43mstr\u001b[39;49m\u001b[43m(\u001b[49m\u001b[43mprompt\u001b[49m\u001b[43m)\u001b[49m\u001b[43m,\u001b[49m\n\u001b[1;32m   1179\u001b[0m \u001b[43m    \u001b[49m\u001b[38;5;28;43mself\u001b[39;49m\u001b[38;5;241;43m.\u001b[39;49m\u001b[43m_parent_ident\u001b[49m\u001b[43m[\u001b[49m\u001b[38;5;124;43m\"\u001b[39;49m\u001b[38;5;124;43mshell\u001b[39;49m\u001b[38;5;124;43m\"\u001b[39;49m\u001b[43m]\u001b[49m\u001b[43m,\u001b[49m\n\u001b[1;32m   1180\u001b[0m \u001b[43m    \u001b[49m\u001b[38;5;28;43mself\u001b[39;49m\u001b[38;5;241;43m.\u001b[39;49m\u001b[43mget_parent\u001b[49m\u001b[43m(\u001b[49m\u001b[38;5;124;43m\"\u001b[39;49m\u001b[38;5;124;43mshell\u001b[39;49m\u001b[38;5;124;43m\"\u001b[39;49m\u001b[43m)\u001b[49m\u001b[43m,\u001b[49m\n\u001b[1;32m   1181\u001b[0m \u001b[43m    \u001b[49m\u001b[43mpassword\u001b[49m\u001b[38;5;241;43m=\u001b[39;49m\u001b[38;5;28;43;01mFalse\u001b[39;49;00m\u001b[43m,\u001b[49m\n\u001b[1;32m   1182\u001b[0m \u001b[43m\u001b[49m\u001b[43m)\u001b[49m\n",
      "File \u001b[0;32m/grupob/config/miniconda3/envs/marine22/lib/python3.10/site-packages/ipykernel/kernelbase.py:1219\u001b[0m, in \u001b[0;36mKernel._input_request\u001b[0;34m(self, prompt, ident, parent, password)\u001b[0m\n\u001b[1;32m   1216\u001b[0m             \u001b[38;5;28;01mbreak\u001b[39;00m\n\u001b[1;32m   1217\u001b[0m \u001b[38;5;28;01mexcept\u001b[39;00m \u001b[38;5;167;01mKeyboardInterrupt\u001b[39;00m:\n\u001b[1;32m   1218\u001b[0m     \u001b[38;5;66;03m# re-raise KeyboardInterrupt, to truncate traceback\u001b[39;00m\n\u001b[0;32m-> 1219\u001b[0m     \u001b[38;5;28;01mraise\u001b[39;00m \u001b[38;5;167;01mKeyboardInterrupt\u001b[39;00m(\u001b[38;5;124m\"\u001b[39m\u001b[38;5;124mInterrupted by user\u001b[39m\u001b[38;5;124m\"\u001b[39m) \u001b[38;5;28;01mfrom\u001b[39;00m \u001b[38;5;28mNone\u001b[39m\n\u001b[1;32m   1220\u001b[0m \u001b[38;5;28;01mexcept\u001b[39;00m \u001b[38;5;167;01mException\u001b[39;00m:\n\u001b[1;32m   1221\u001b[0m     \u001b[38;5;28mself\u001b[39m\u001b[38;5;241m.\u001b[39mlog\u001b[38;5;241m.\u001b[39mwarning(\u001b[38;5;124m\"\u001b[39m\u001b[38;5;124mInvalid Message:\u001b[39m\u001b[38;5;124m\"\u001b[39m, exc_info\u001b[38;5;241m=\u001b[39m\u001b[38;5;28;01mTrue\u001b[39;00m)\n",
      "\u001b[0;31mKeyboardInterrupt\u001b[0m: Interrupted by user"
     ]
    }
   ],
   "source": [
    "for nrow, record in db_testeo_troceada.iterrows():\n",
    "    clear_output(wait=True)\n",
    "    name_file = record['path']\n",
    "    namedir = record['dir']\n",
    "    len_audio = record['len_audio']\n",
    "    pos_ini = record['pos_ini']\n",
    "    pos_fin = record['pos_fin']\n",
    "    \n",
    "    y_crop, sr = sf.read(namedir, start=int(pos_ini), stop=int(pos_fin))\n",
    "    img = fft_img(y_crop)\n",
    "    \n",
    "    # print(img.min(), img.max())\n",
    "    \n",
    "    fig, ax = plt.subplots(nrows=2, ncols=2)\n",
    "    fig.set_figheight(5)\n",
    "    fig.set_figwidth(5)\n",
    "    ax = ax.flatten()\n",
    "    ax[0].imshow(img.squeeze(0).numpy())\n",
    "    # plt.imshow(img.transpose(1,2).squeeze(0).numpy())\n",
    "    ax[0].set_title(f'FFT -> {pos_ini}-{pos_fin}')\n",
    "\n",
    "    img = cqt_img(y_crop)\n",
    "    # print(img.min(), img.max())\n",
    "    # plt.figure(figsize=(7,7))\n",
    "    # ax[1].pcolormesh(img)\n",
    "    ax[1].imshow(img)\n",
    "    ax[1].set_title(f'CQT -> {name_file}')\n",
    "    plt.tight_layout()\n",
    "    \n",
    "    preds_file = preds_fragments[nrow].transpose()\n",
    "    trues_file = true_fragments[nrow].transpose()\n",
    "    # fig, ax = plt.subplots(nrows=1, ncols=2)\n",
    "    \n",
    "    ax[2].axhline(trues_file[0], color=\"red\")\n",
    "    ax[2].axhline(trues_file[1], color=\"blue\")\n",
    "    ax[2].axhline(trues_file[2], color=\"green\")\n",
    "    ax[2].axhline(trues_file[3], color=\"magenta\")\n",
    "    \n",
    "    # ax[2].plot(trues_file[0,:], color=\"red\")\n",
    "    # ax[2].plot(trues_file[1,:], color=\"blue\")\n",
    "    # ax[2].plot(trues_file[2,:], color=\"green\")\n",
    "    # ax[2].plot(trues_file[3,:], color=\"magenta\")\n",
    "    \n",
    "    ax[3].axhline(preds_file[0], color=\"red\")\n",
    "    ax[3].axhline(preds_file[1], color=\"blue\")\n",
    "    ax[3].axhline(preds_file[2], color=\"green\")\n",
    "    ax[3].axhline(preds_file[3], color=\"magenta\")\n",
    "    plt.show()\n",
    "    input(\"Press Enter to continue...\")\n",
    "    "
   ]
  },
  {
   "cell_type": "code",
   "execution_count": null,
   "id": "6403f081-ce59-4393-800b-eaa2709c1c0b",
   "metadata": {},
   "outputs": [],
   "source": []
  },
  {
   "cell_type": "code",
   "execution_count": null,
   "id": "73cfc9ee-e277-40c2-9c43-c16dad8a54af",
   "metadata": {},
   "outputs": [],
   "source": []
  },
  {
   "cell_type": "code",
   "execution_count": 103,
   "id": "52329bed-72d4-4b27-a1b8-fe71378cd941",
   "metadata": {},
   "outputs": [
    {
     "ename": "SyntaxError",
     "evalue": "illegal target for annotation (765068375.py, line 1)",
     "output_type": "error",
     "traceback": [
      "\u001b[0;36m  Input \u001b[0;32mIn [103]\u001b[0;36m\u001b[0m\n\u001b[0;31m    true_fragments.sum(axis=1):10\u001b[0m\n\u001b[0m    ^\u001b[0m\n\u001b[0;31mSyntaxError\u001b[0m\u001b[0;31m:\u001b[0m illegal target for annotation\n"
     ]
    }
   ],
   "source": [
    "true_fragments.sum(axis=1):10"
   ]
  },
  {
   "cell_type": "code",
   "execution_count": 98,
   "id": "29b2b8d4-9b65-4faa-a068-0a5e65355cb2",
   "metadata": {},
   "outputs": [
    {
     "data": {
      "text/plain": [
       "259     1505.0\n",
       "260     1510.0\n",
       "261     6490.0\n",
       "262     7205.0\n",
       "263     8400.0\n",
       "264    10273.0\n",
       "265    10617.0\n",
       "266    10771.0\n",
       "267    14115.0\n",
       "Name: pos_fin, dtype: float64"
      ]
     },
     "execution_count": 98,
     "metadata": {},
     "output_type": "execute_result"
    }
   ],
   "source": [
    "df[df.path==name_file].pos_fin//1e3"
   ]
  },
  {
   "cell_type": "code",
   "execution_count": 91,
   "id": "5f95e2a9-938f-40c5-a136-40ca9c6c8332",
   "metadata": {},
   "outputs": [
    {
     "data": {
      "text/plain": [
       "'fffd313598e3dd482c75d8c06db8d059'"
      ]
     },
     "execution_count": 91,
     "metadata": {},
     "output_type": "execute_result"
    }
   ],
   "source": [
    "namefile"
   ]
  }
 ],
 "metadata": {
  "kernelspec": {
   "display_name": "Python [conda env:marine22]",
   "language": "python",
   "name": "conda-env-marine22-py"
  },
  "language_info": {
   "codemirror_mode": {
    "name": "ipython",
    "version": 3
   },
   "file_extension": ".py",
   "mimetype": "text/x-python",
   "name": "python",
   "nbconvert_exporter": "python",
   "pygments_lexer": "ipython3",
   "version": "3.10.6"
  },
  "toc": {
   "base_numbering": 1,
   "nav_menu": {},
   "number_sections": true,
   "sideBar": true,
   "skip_h1_title": false,
   "title_cell": "Table of Contents",
   "title_sidebar": "Contents",
   "toc_cell": false,
   "toc_position": {
    "height": "calc(100% - 180px)",
    "left": "10px",
    "top": "150px",
    "width": "165px"
   },
   "toc_section_display": true,
   "toc_window_display": true
  }
 },
 "nbformat": 4,
 "nbformat_minor": 5
}
